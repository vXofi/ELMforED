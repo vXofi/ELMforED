{
 "cells": [
  {
   "cell_type": "code",
   "execution_count": 1,
   "id": "2f1864cb",
   "metadata": {
    "execution": {
     "iopub.execute_input": "2024-04-26T18:35:05.501427Z",
     "iopub.status.busy": "2024-04-26T18:35:05.500568Z",
     "iopub.status.idle": "2024-04-26T18:35:08.185016Z",
     "shell.execute_reply": "2024-04-26T18:35:08.184024Z"
    },
    "papermill": {
     "duration": 2.696649,
     "end_time": "2024-04-26T18:35:08.187781",
     "exception": false,
     "start_time": "2024-04-26T18:35:05.491132",
     "status": "completed"
    },
    "tags": []
   },
   "outputs": [],
   "source": [
    "import numpy as np\n",
    "import pandas as pd\n",
    "import optuna\n",
    "import time\n",
    "from numpy.linalg import inv, pinv\n",
    "from sklearn.preprocessing import OneHotEncoder, StandardScaler\n",
    "from sklearn.metrics import accuracy_score, precision_score, recall_score, f1_score, classification_report\n",
    "from sklearn.svm import SVC\n",
    "from statsmodels.stats.proportion import proportion_confint\n",
    "from sklearn.multiclass import OneVsOneClassifier\n",
    "from sklearn.model_selection import GridSearchCV, RandomizedSearchCV, cross_val_score, cross_validate\n",
    "from sklearn.utils.multiclass import unique_labels\n",
    "from sklearn.utils import resample\n",
    "from sklearn.base import BaseEstimator, ClassifierMixin\n",
    "from typing import Optional\n",
    "from matplotlib import pyplot as plt\n",
    "import warnings\n",
    "warnings.filterwarnings('ignore')"
   ]
  },
  {
   "cell_type": "markdown",
   "id": "30d5c602",
   "metadata": {
    "papermill": {
     "duration": 0.006554,
     "end_time": "2024-04-26T18:35:08.201623",
     "exception": false,
     "start_time": "2024-04-26T18:35:08.195069",
     "status": "completed"
    },
    "tags": []
   },
   "source": [
    "New Dataset"
   ]
  },
  {
   "cell_type": "code",
   "execution_count": 2,
   "id": "a8b38360",
   "metadata": {
    "execution": {
     "iopub.execute_input": "2024-04-26T18:35:08.217698Z",
     "iopub.status.busy": "2024-04-26T18:35:08.216730Z",
     "iopub.status.idle": "2024-04-26T18:35:09.080354Z",
     "shell.execute_reply": "2024-04-26T18:35:09.079323Z"
    },
    "papermill": {
     "duration": 0.874616,
     "end_time": "2024-04-26T18:35:09.082995",
     "exception": false,
     "start_time": "2024-04-26T18:35:08.208379",
     "status": "completed"
    },
    "tags": []
   },
   "outputs": [],
   "source": [
    "train = pd.read_csv(\"/kaggle/input/intrusions/kdd_train.csv\", sep=\",\")\n",
    "test = pd.read_csv(\"/kaggle/input/intrusions/kdd_test.csv\", sep=\",\")"
   ]
  },
  {
   "cell_type": "code",
   "execution_count": 3,
   "id": "7b867b06",
   "metadata": {
    "execution": {
     "iopub.execute_input": "2024-04-26T18:35:09.098997Z",
     "iopub.status.busy": "2024-04-26T18:35:09.098263Z",
     "iopub.status.idle": "2024-04-26T18:35:09.475656Z",
     "shell.execute_reply": "2024-04-26T18:35:09.474324Z"
    },
    "papermill": {
     "duration": 0.388353,
     "end_time": "2024-04-26T18:35:09.478359",
     "exception": false,
     "start_time": "2024-04-26T18:35:09.090006",
     "status": "completed"
    },
    "tags": []
   },
   "outputs": [],
   "source": [
    "data = pd.concat([train, test], ignore_index=True)\n",
    "X = pd.get_dummies(data.iloc[:, :-1], columns=['protocol_type', 'service', 'flag'], dtype=int)\n",
    "y = pd.get_dummies(data['labels'], dtype=int)\n",
    "\n",
    "# paper says, they use 2000/4000/8000 random connections from dataset\n",
    "\n",
    "# Extract the sampled records from X and Y datasets\n",
    "sampled_X = X.sample(n=8000, random_state=42)\n",
    "sampled_y = y.loc[sampled_X.index]\n",
    "\n",
    "sampled_y_bin = (sampled_y['normal'] == 1).astype(int) # 1 is attack, 0 is normal\n",
    "# train test split\n",
    "#scaling"
   ]
  },
  {
   "cell_type": "code",
   "execution_count": 4,
   "id": "75664550",
   "metadata": {
    "execution": {
     "iopub.execute_input": "2024-04-26T18:35:09.496927Z",
     "iopub.status.busy": "2024-04-26T18:35:09.494442Z",
     "iopub.status.idle": "2024-04-26T18:35:09.528171Z",
     "shell.execute_reply": "2024-04-26T18:35:09.526860Z"
    },
    "papermill": {
     "duration": 0.045277,
     "end_time": "2024-04-26T18:35:09.531020",
     "exception": false,
     "start_time": "2024-04-26T18:35:09.485743",
     "status": "completed"
    },
    "tags": []
   },
   "outputs": [],
   "source": [
    "scaler = StandardScaler()\n",
    "\n",
    "# then they split train and test equally\n",
    "X_train = sampled_X[:4000]\n",
    "onhs_tr = X_train.loc[:, \"protocol_type_icmp\":]\n",
    "X_train = scaler.fit_transform(X_train.loc[:, :\"dst_host_srv_rerror_rate\"])\n",
    "X_train = np.concatenate([X_train, onhs_tr.to_numpy()], axis=1)\n",
    "\n",
    "X_test = sampled_X[4000:]\n",
    "onhs_te = X_test.loc[:, \"protocol_type_icmp\":]\n",
    "X_test = scaler.fit_transform(X_test.loc[:, :\"dst_host_srv_rerror_rate\"])\n",
    "X_test = np.concatenate([X_test, onhs_te.to_numpy()], axis=1)\n",
    "\n",
    "y_train = sampled_y[:4000]\n",
    "y_train_bin = sampled_y_bin[:4000]\n",
    "y_train = np.argmax(y_train, axis=1)\n",
    "\n",
    "y_test = sampled_y[4000:]\n",
    "y_test_bin = sampled_y_bin[4000:]\n",
    "y_test = np.argmax(y_test, axis=1)"
   ]
  },
  {
   "cell_type": "code",
   "execution_count": 5,
   "id": "bed6a0d9",
   "metadata": {
    "execution": {
     "iopub.execute_input": "2024-04-26T18:35:09.547482Z",
     "iopub.status.busy": "2024-04-26T18:35:09.547013Z",
     "iopub.status.idle": "2024-04-26T18:35:09.570466Z",
     "shell.execute_reply": "2024-04-26T18:35:09.569316Z"
    },
    "papermill": {
     "duration": 0.034886,
     "end_time": "2024-04-26T18:35:09.573023",
     "exception": false,
     "start_time": "2024-04-26T18:35:09.538137",
     "status": "completed"
    },
    "tags": []
   },
   "outputs": [],
   "source": [
    "class ELM(BaseEstimator, ClassifierMixin):\n",
    "    def __init__(self, num_input_nodes : int=None, num_hidden_units : int=None,\n",
    "                 num_out_units : int=None, C : float=None,\n",
    "                 beta_init : np.ndarray = None,\n",
    "                 w_init : np.ndarray = None,\n",
    "                 bias_init : np.ndarray = None):\n",
    "        self.num_input_nodes = num_input_nodes\n",
    "        self.num_hidden_units = num_hidden_units\n",
    "        self.num_out_units = num_out_units\n",
    "        self.C = C\n",
    "\n",
    "        if isinstance(beta_init, np.ndarray):\n",
    "            self._beta = beta_init\n",
    "        else:\n",
    "            self._beta = np.random.uniform(-1., 1., size=(self.num_hidden_units, self.num_out_units))\n",
    "\n",
    "        if isinstance(w_init, np.ndarray):\n",
    "            self._w = w_init\n",
    "        else:\n",
    "            self._w = np.random.uniform(-1, 1, size=(self.num_input_nodes, self.num_hidden_units))\n",
    "\n",
    "        if isinstance(bias_init, np.ndarray):\n",
    "            self._bias = bias_init\n",
    "        else:\n",
    "            self._bias = np.zeros(shape=(self.num_hidden_units,))\n",
    "\n",
    "    def _sigmoid(self, x : float) ->  float:\n",
    "        return 1. / (1. + np.exp(-x))\n",
    "\n",
    "    def fit(self, X : np.ndarray, Y : np.ndarray) -> None:\n",
    "        self.classes_ = unique_labels(Y)\n",
    "        \n",
    "        H = self._sigmoid(X.dot(self._w) + self._bias)\n",
    "        I = np.eye(self.num_hidden_units)\n",
    "        \n",
    "        label_mapping = {cls: i for i, cls in enumerate(self.classes_)}\n",
    "        Y_mapped = np.array([label_mapping[label] for label in Y])\n",
    "\n",
    "        # Convert labels to one-hot encoding\n",
    "        Y_onehot = np.zeros((Y.shape[0], self.classes_.shape[0]))\n",
    "        Y_onehot[np.arange(Y.shape[0]), Y_mapped] = 1\n",
    "        \n",
    "        self._beta = np.linalg.inv((H.T @ H) + (self.C * I)) @ H.T @ Y_onehot\n",
    "\n",
    "\n",
    "    def predict_proba(self, X : np.ndarray) -> np.ndarray:\n",
    "        H = self._sigmoid(X.dot(self._w) + self._bias)\n",
    "        preds = H.dot(self._beta)\n",
    "        \n",
    "        if self.num_out_units == 1:\n",
    "        # For binary classification, use sigmoid function\n",
    "            y_pred_proba = 1 / (1 + np.exp(-preds))\n",
    "        else:\n",
    "        # For multi-class classification, use softmax function\n",
    "            exp_pred = np.exp(preds - np.max(preds, axis=1, keepdims=True))\n",
    "            y_pred_proba = exp_pred / np.sum(exp_pred, axis=1, keepdims=True)\n",
    "\n",
    "        return y_pred_proba\n",
    "    \n",
    "    def predict(self, X : np.ndarray) -> np.ndarray:\n",
    "        y_pred_proba = self.predict_proba(X)\n",
    "        y_pred_indices = np.argmax(y_pred_proba, axis=1)\n",
    "        y_pred = self.classes_[y_pred_indices]\n",
    "        return y_pred\n",
    "    \n",
    "    def classification_report(self, X : np.ndarray, y_true : np.ndarray) -> str:\n",
    "        y_pred = self.predict(X)\n",
    "        return classification_report(y_true, y_pred)\n",
    "    \n",
    "    def get_params(self, deep=True):\n",
    "        return {\n",
    "            'num_out_units': self.num_out_units,\n",
    "            'num_hidden_units': self.num_hidden_units,\n",
    "            'num_out_units': self.num_out_units,\n",
    "            'C': self.C\n",
    "        }\n",
    "\n",
    "    def set_params(self, **parameters):\n",
    "        for parameter, value in parameters.items():\n",
    "            setattr(self, parameter, value)\n",
    "        return self"
   ]
  },
  {
   "cell_type": "code",
   "execution_count": 6,
   "id": "7c28171a",
   "metadata": {
    "execution": {
     "iopub.execute_input": "2024-04-26T18:35:09.589263Z",
     "iopub.status.busy": "2024-04-26T18:35:09.588845Z",
     "iopub.status.idle": "2024-04-26T18:35:09.609233Z",
     "shell.execute_reply": "2024-04-26T18:35:09.608299Z"
    },
    "papermill": {
     "duration": 0.031668,
     "end_time": "2024-04-26T18:35:09.611738",
     "exception": false,
     "start_time": "2024-04-26T18:35:09.580070",
     "status": "completed"
    },
    "tags": []
   },
   "outputs": [],
   "source": [
    "class KELM(BaseEstimator, ClassifierMixin):\n",
    "    def __init__(self, num_out_units : int=None, C : float=None, gamma : float=None):\n",
    "        self.num_out_units = num_out_units\n",
    "        self.C = C\n",
    "        self.gamma = gamma\n",
    "        self._beta = None\n",
    "\n",
    "    def _cal_K(self, X : np.ndarray, Y : np.ndarray) -> np.ndarray:\n",
    "        if self.gamma is None:\n",
    "            self.gamma = 1.0 / X.shape[1]  # Default gamma value\n",
    "        # Compute the RBF kernel matrix\n",
    "        X_norm = np.sum(X ** 2, axis=-1)\n",
    "        Y_norm = np.sum(Y ** 2, axis=-1)\n",
    "        K = np.exp(-self.gamma * (X_norm[:, None] + Y_norm[None, :] - 2 * np.dot(X, Y.T)))\n",
    "        return K\n",
    "    \n",
    "    def fit(self, X : np.ndarray, Y : np.ndarray) -> None:\n",
    "        self.classes_ = unique_labels(Y)\n",
    "        self._X_train = X\n",
    "        if self.C is None: # Default C value\n",
    "            self.C = 1.0\n",
    "        K = self._cal_K(X, X)  # Kernel matrix for training data\n",
    "        reg_term = np.eye(K.shape[0]) / self.C\n",
    "\n",
    "        # Map labels to contiguous integers starting from 0\n",
    "        label_mapping = {cls: i for i, cls in enumerate(self.classes_)}\n",
    "        Y_mapped = np.array([label_mapping[label] for label in Y])\n",
    "\n",
    "        # Convert labels to one-hot encoding\n",
    "        Y_onehot = np.zeros((Y.shape[0], self.classes_.shape[0]))\n",
    "        Y_onehot[np.arange(Y.shape[0]), Y_mapped] = 1\n",
    "\n",
    "        # Compute the output weights beta\n",
    "        self._beta = np.linalg.solve(K + reg_term, Y_onehot)\n",
    "        #self._beta = np.linalg.solve(K + reg_term, Y)\n",
    "\n",
    "    def predict_proba(self, X : np.ndarray) -> np.ndarray:\n",
    "        K = self._cal_K(X, self._X_train)  # Kernel matrix between new data and training data\n",
    "        preds = np.dot(K, self._beta)\n",
    "        \n",
    "        if self.num_out_units == 1:\n",
    "        # For binary classification, use sigmoid function\n",
    "            y_pred_proba = 1 / (1 + np.exp(-preds))\n",
    "        else:\n",
    "        # For multi-class classification, use softmax function\n",
    "            exp_pred = np.exp(preds - np.max(preds, axis=1, keepdims=True))\n",
    "            y_pred_proba = exp_pred / np.sum(exp_pred, axis=1, keepdims=True)\n",
    "\n",
    "        return y_pred_proba\n",
    "    \n",
    "    def predict(self, X : np.ndarray) -> np.ndarray:\n",
    "        y_pred_proba = self.predict_proba(X)\n",
    "        y_pred_indices = np.argmax(y_pred_proba, axis=1)\n",
    "        y_pred = self.classes_[y_pred_indices]\n",
    "        return y_pred\n",
    "    \n",
    "    def classification_report(self, X : np.ndarray, y_true : np.ndarray) -> str:\n",
    "        y_pred = self.predict(X)\n",
    "        return classification_report(y_true, y_pred)\n",
    "    \n",
    "    def get_params(self, deep=True):\n",
    "        return {\n",
    "            'num_out_units': self.num_out_units,\n",
    "            'C': self.C,\n",
    "            'gamma': self.gamma\n",
    "        }\n",
    "\n",
    "    def set_params(self, **parameters):\n",
    "        for parameter, value in parameters.items():\n",
    "            setattr(self, parameter, value)\n",
    "        return self"
   ]
  },
  {
   "cell_type": "code",
   "execution_count": 7,
   "id": "e8f3f31d",
   "metadata": {
    "execution": {
     "iopub.execute_input": "2024-04-26T18:35:09.627409Z",
     "iopub.status.busy": "2024-04-26T18:35:09.626955Z",
     "iopub.status.idle": "2024-04-26T18:35:09.634552Z",
     "shell.execute_reply": "2024-04-26T18:35:09.633455Z"
    },
    "papermill": {
     "duration": 0.018022,
     "end_time": "2024-04-26T18:35:09.636769",
     "exception": false,
     "start_time": "2024-04-26T18:35:09.618747",
     "status": "completed"
    },
    "tags": []
   },
   "outputs": [],
   "source": [
    "def objective_KELM_bin(trial):\n",
    "    # Define the hyperparameter search space\n",
    "    C = trial.suggest_float('C', 2**-24, 2**25, log=True)\n",
    "    gamma = trial.suggest_float('gamma', 2**-24, 2**25, log=True)\n",
    "    num_out_units = trial.suggest_categorical('num_out_units', [2])\n",
    "\n",
    "    # Create the KELM model with the sampled hyperparameters\n",
    "    model = KELM(num_out_units=num_out_units, C=C, gamma=gamma)\n",
    "\n",
    "    # Perform cross-validation and compute the mean accuracy score\n",
    "    scores = cross_val_score(model, X_train, y_train_bin, cv=10, n_jobs=-1)\n",
    "    mean_score = scores.mean()\n",
    "\n",
    "    return mean_score"
   ]
  },
  {
   "cell_type": "code",
   "execution_count": 8,
   "id": "f704db51",
   "metadata": {
    "execution": {
     "iopub.execute_input": "2024-04-26T18:35:09.652903Z",
     "iopub.status.busy": "2024-04-26T18:35:09.652527Z",
     "iopub.status.idle": "2024-04-26T18:35:09.659086Z",
     "shell.execute_reply": "2024-04-26T18:35:09.658307Z"
    },
    "papermill": {
     "duration": 0.017242,
     "end_time": "2024-04-26T18:35:09.661304",
     "exception": false,
     "start_time": "2024-04-26T18:35:09.644062",
     "status": "completed"
    },
    "tags": []
   },
   "outputs": [],
   "source": [
    "def objective_KELM(trial):\n",
    "    # Define the hyperparameter search space\n",
    "    C = trial.suggest_float('C', 2**-24, 2**25, log=True)\n",
    "    gamma = trial.suggest_float('gamma', 2**-24, 2**25, log=True)\n",
    "    num_out_units = trial.suggest_categorical('num_out_units', [37])\n",
    "\n",
    "    # Create the KELM model with the sampled hyperparameters\n",
    "    model = KELM(num_out_units=num_out_units, C=C, gamma=gamma)\n",
    "\n",
    "    # Perform cross-validation and compute the mean accuracy score\n",
    "    scores = cross_val_score(model, X_train, y_train, cv=10, n_jobs=-1)\n",
    "    mean_score = scores.mean()\n",
    "\n",
    "    return mean_score"
   ]
  },
  {
   "cell_type": "code",
   "execution_count": 9,
   "id": "46f6c77e",
   "metadata": {
    "execution": {
     "iopub.execute_input": "2024-04-26T18:35:09.677055Z",
     "iopub.status.busy": "2024-04-26T18:35:09.676653Z",
     "iopub.status.idle": "2024-04-26T18:35:09.683892Z",
     "shell.execute_reply": "2024-04-26T18:35:09.682827Z"
    },
    "papermill": {
     "duration": 0.017788,
     "end_time": "2024-04-26T18:35:09.686122",
     "exception": false,
     "start_time": "2024-04-26T18:35:09.668334",
     "status": "completed"
    },
    "tags": []
   },
   "outputs": [],
   "source": [
    "def objective_SVC_bin(trial):\n",
    "    # Define the hyperparameter search space\n",
    "    C = trial.suggest_float('C', 2**-24, 2**25, log=True)\n",
    "    gamma = trial.suggest_float('gamma', 2**-24, 2**25, log=True)\n",
    "    kernel = trial.suggest_categorical('kernel', ['rbf'])\n",
    "\n",
    "    # Create the KELM model with the sampled hyperparameters\n",
    "    model = SVC(C=C, gamma=gamma, kernel=kernel)\n",
    "\n",
    "    # Perform cross-validation and compute the mean accuracy score\n",
    "    scores = cross_val_score(model, X_train, y_train_bin, cv=10, n_jobs=-1)\n",
    "    mean_score = scores.mean()\n",
    "\n",
    "    return mean_score"
   ]
  },
  {
   "cell_type": "code",
   "execution_count": 10,
   "id": "a2d14025",
   "metadata": {
    "execution": {
     "iopub.execute_input": "2024-04-26T18:35:09.702170Z",
     "iopub.status.busy": "2024-04-26T18:35:09.701453Z",
     "iopub.status.idle": "2024-04-26T18:35:09.708932Z",
     "shell.execute_reply": "2024-04-26T18:35:09.707619Z"
    },
    "papermill": {
     "duration": 0.018089,
     "end_time": "2024-04-26T18:35:09.711178",
     "exception": false,
     "start_time": "2024-04-26T18:35:09.693089",
     "status": "completed"
    },
    "tags": []
   },
   "outputs": [],
   "source": [
    "def objective_SVC(trial):\n",
    "    # Define the hyperparameter search space\n",
    "    C = trial.suggest_float('C', 2**-24, 2**25, log=True)\n",
    "    gamma = trial.suggest_float('gamma', 2**-24, 2**25, log=True)\n",
    "    kernel = trial.suggest_categorical('kernel', ['rbf'])\n",
    "\n",
    "    # Create the KELM model with the sampled hyperparameters\n",
    "    model = SVC(C=C, gamma=gamma, kernel=kernel)\n",
    "\n",
    "    # Perform cross-validation and compute the mean accuracy score\n",
    "    scores = cross_val_score(model, X_train, y_train, cv=10, n_jobs=-1)\n",
    "    mean_score = scores.mean()\n",
    "\n",
    "    return mean_score"
   ]
  },
  {
   "cell_type": "code",
   "execution_count": 11,
   "id": "a99f6d06",
   "metadata": {
    "execution": {
     "iopub.execute_input": "2024-04-26T18:35:09.726889Z",
     "iopub.status.busy": "2024-04-26T18:35:09.726510Z",
     "iopub.status.idle": "2024-04-26T18:35:09.731639Z",
     "shell.execute_reply": "2024-04-26T18:35:09.730612Z"
    },
    "papermill": {
     "duration": 0.015446,
     "end_time": "2024-04-26T18:35:09.733711",
     "exception": false,
     "start_time": "2024-04-26T18:35:09.718265",
     "status": "completed"
    },
    "tags": []
   },
   "outputs": [],
   "source": [
    "optuna.logging.set_verbosity(optuna.logging.WARNING)"
   ]
  },
  {
   "cell_type": "code",
   "execution_count": 12,
   "id": "28cb743f",
   "metadata": {
    "execution": {
     "iopub.execute_input": "2024-04-26T18:35:09.750380Z",
     "iopub.status.busy": "2024-04-26T18:35:09.749970Z",
     "iopub.status.idle": "2024-04-26T19:05:52.469218Z",
     "shell.execute_reply": "2024-04-26T19:05:52.468015Z"
    },
    "papermill": {
     "duration": 1842.731409,
     "end_time": "2024-04-26T19:05:52.471994",
     "exception": false,
     "start_time": "2024-04-26T18:35:09.740585",
     "status": "completed"
    },
    "tags": []
   },
   "outputs": [
    {
     "name": "stdout",
     "output_type": "stream",
     "text": [
      "Best params:  {'C': 9364.66046045252, 'gamma': 0.007474629215043808, 'num_out_units': 2}\n",
      "Best score:  0.9880000000000001\n"
     ]
    },
    {
     "data": {
      "text/html": [
       "        <script type=\"text/javascript\">\n",
       "        window.PlotlyConfig = {MathJaxConfig: 'local'};\n",
       "        if (window.MathJax && window.MathJax.Hub && window.MathJax.Hub.Config) {window.MathJax.Hub.Config({SVG: {font: \"STIX-Web\"}});}\n",
       "        if (typeof require !== 'undefined') {\n",
       "        require.undef(\"plotly\");\n",
       "        requirejs.config({\n",
       "            paths: {\n",
       "                'plotly': ['https://cdn.plot.ly/plotly-2.27.0.min']\n",
       "            }\n",
       "        });\n",
       "        require(['plotly'], function(Plotly) {\n",
       "            window._Plotly = Plotly;\n",
       "        });\n",
       "        }\n",
       "        </script>\n",
       "        "
      ]
     },
     "metadata": {},
     "output_type": "display_data"
    },
    {
     "data": {
      "text/html": [
       "<div>                            <div id=\"22a4d318-c4fa-49ab-96f5-166a9f807b99\" class=\"plotly-graph-div\" style=\"height:525px; width:100%;\"></div>            <script type=\"text/javascript\">                require([\"plotly\"], function(Plotly) {                    window.PLOTLYENV=window.PLOTLYENV || {};                                    if (document.getElementById(\"22a4d318-c4fa-49ab-96f5-166a9f807b99\")) {                    Plotly.newPlot(                        \"22a4d318-c4fa-49ab-96f5-166a9f807b99\",                        [{\"marker\":{\"color\":[0,1,2,3,4,5,6,7,8,9,10,11,12,13,14,15,16,17,18,19,20,21,22,23,24,25,26,27,28,29,30,31,32,33,34,35,36,37,38,39,40,41,42,43,44,45,46,47,48,49,50,51,52,53,54,55,56,57,58,59,60,61,62,63,64,65,66,67,68,69,70,71,72,73,74,75,76,77,78,79,80,81,82,83,84,85,86,87,88,89,90,91,92,93,94,95,96,97,98,99,100,101,102,103,104,105,106,107,108,109,110,111,112,113,114,115,116,117,118,119,120,121,122,123,124,125,126,127,128,129,130,131,132,133,134,135,136,137,138,139,140,141,142,143,144,145,146,147,148,149,150,151,152,153,154,155,156,157,158,159,160,161,162,163,164,165,166,167,168,169,170,171,172,173,174,175,176,177,178,179,180,181,182,183,184,185,186,187,188,189,190,191,192,193,194,195,196,197,198,199],\"colorbar\":{\"title\":{\"text\":\"Trial\"},\"x\":1.0,\"xpad\":40},\"colorscale\":[[0.0,\"rgb(247,251,255)\"],[0.125,\"rgb(222,235,247)\"],[0.25,\"rgb(198,219,239)\"],[0.375,\"rgb(158,202,225)\"],[0.5,\"rgb(107,174,214)\"],[0.625,\"rgb(66,146,198)\"],[0.75,\"rgb(33,113,181)\"],[0.875,\"rgb(8,81,156)\"],[1.0,\"rgb(8,48,107)\"]],\"line\":{\"color\":\"Grey\",\"width\":0.5}},\"mode\":\"markers\",\"name\":\"Feasible Trial\",\"showlegend\":false,\"x\":[1064.4296994675192,3.6172521006355275e-6,597946.3438648831,15.51456350253624,0.00038143803178629604,5.562881649387596e-6,20.5203613758633,129033.15351177518,7.956867927932867e-6,420.8142824475423,0.01989239527057357,0.013632762201281954,0.00662251045667683,0.035183463531528375,0.0003482682890332458,0.00043766483882542334,2.2494238478646672e-7,0.5632135929087099,0.0001777331530170236,16087449.983031118,6.703297791255075e-8,0.00019942931653467956,0.3186732559189924,0.138617370755608,0.0041972089356875925,4.5904141185623235,0.9019035059022097,302.37423948817667,201.39236920888348,7624.373966454583,43074.97278451947,4745.05251023578,3912.7825261098556,5217.905647542066,2629010.1960863955,73.11614295993444,53.54664173131465,6795.764873599302,3375.6060072665146,138293.6134913263,19093.13393784134,1641.3964607186456,803.5467945783498,1580023.8700853826,431.6783281443686,4.1823946053627035,22185.66116133538,244082.2732827621,635.2121787004986,29.124513778831936,10795.399136243212,1480.8129852344885,226.96413739991812,1625.0459461780506,181.04154553221738,43895.828557218956,117.28635097297357,5.656673577583479,9.006495855602243,163.4988471318983,1104.901297069885,74.12838861376343,31.54274293387715,105.55235370359577,1.7300441277642193,376.54017709322534,15.932044577066694,517.89095239889,1679.4172522953302,0.09696648462001806,40628.10463921787,4680.2726378051375,63.386922402463284,62.345371803782534,2.2862165787929936,13.529548200228623,33.661764791639165,64.09643956052025,140.50986528985186,846.9103216059324,0.5409915873002151,83.64638497718393,281.33543810030966,194.96095303344362,210.2951833011752,9.143249002520204,10139.670673655492,27.711016909417275,300.86090493920653,2173.9881366779236,13492.134249386356,18818.29294108147,13562.255799955363,249123.4100057439,11761.165208086402,66839.5064529731,13628.118187400272,22638.26196208766,506644.68879257026,65526.18294689396,14927.342090298973,132171.7925695844,2296280.432396173,98238.06775503556,603972.8812928847,7279022.383111992,303873.778982807,26624.5153403268,3820.0502785888825,3413.5905576980495,2848.0305265660377,6739.707225217657,6384.56188011498,134215.34273348138,683.4689602182021,7793.064282234312,37081.3107610655,2161.4734729667684,1.466212244148377e-6,1241.1592923023693,2942.453796411828,345.4662661652172,13120.491653583804,13914.080093728922,15693.185967012028,15667.785122201052,54855.66658359118,113630.99352523494,6390.913470288915,4954.7557198836,1144893.7213200773,23724.275666309157,24524.945514368053,6985.880675472882,195948.8167965464,69688.57082809265,31980.97611335912,9531.957039753734,943.8004228139333,3984.8749930146505,3819.031822867989,4474.340930600864,4759.935524346901,1644.146457838743,3282.1586066278346,9231.96811915186,752.0105249201313,2035.0044619663572,14124.795361567602,32929.14910996803,29681.276908325886,5785.363726242161,43566.29731557496,10970.479076017362,3591.5319156070864,453.1908649037112,20814.186592093003,6184.00620457471,0.0010039933995815147,61154.16091802211,1172.9965804724577,8412.490825860383,2506.9599917193227,5774.809805447442,25170.674371844896,13633.836803730697,4164.49052578684,1723.0831191332236,573.9319005785175,77465.81721582997,32712.0449710635,4275.3088922288935,8020.721220223837,2878.370680651808,15427.777332962967,989.6250944540794,3646.911665252783,296.22658029224806,12077.440734600634,40494.349450058646,18047.665732378857,9364.66046045252,7021.087277726196,10723.717532955092,13030.709123600303,28084.995428658636,91679.51859989204,10413.608738452423,46041.44418829718,7855.313066334351,1573.3102860595159,18660.957027542372,4320.506803484491,7700.6520210723065,18510.15494262304,2451.0644526531464,6035.697507077815,48549.01803549852,10711.039470759977,28061.73948142027],\"y\":[0.9549999999999998,0.4789999999999999,0.6985,0.9015000000000001,0.97475,0.5545,0.4755,0.9569999999999999,0.9410000000000001,0.9649999999999999,0.974,0.9809999999999999,0.97425,0.88925,0.8734999999999999,0.9099999999999998,0.5415,0.49375,0.9785,0.9592500000000002,0.7215,0.97425,0.98375,0.9739999999999999,0.8045,0.944,0.5349999999999999,0.98475,0.9785,0.9845,0.9629999999999999,0.9837499999999999,0.98475,0.9652499999999999,0.9807499999999999,0.984,0.8960000000000001,0.9852500000000001,0.9844999999999999,0.9827499999999999,0.7965,0.9835,0.98575,0.9724999999999999,0.98325,0.9637500000000001,0.9795,0.9830000000000002,0.9652499999999999,0.9334999999999999,0.46825,0.9852500000000001,0.9869999999999999,0.9795,0.98475,0.98275,0.9855,0.9655000000000001,0.97875,0.9830000000000002,0.9824999999999999,0.9852500000000001,0.9795,0.98475,0.98475,0.96275,0.9650000000000001,0.9805000000000001,0.9012500000000001,0.9545,0.9800000000000001,0.9822500000000002,0.9870000000000001,0.9865,0.9817499999999999,0.9765,0.9695,0.9845,0.9855,0.984,0.9317500000000001,0.98475,0.9872500000000001,0.9865,0.9850000000000001,0.98325,0.9860000000000001,0.97075,0.97575,0.9862499999999998,0.9862500000000001,0.9867500000000001,0.9870000000000001,0.9852500000000001,0.9869999999999999,0.98575,0.98675,0.9652499999999999,0.9845,0.98325,0.9855,0.9867500000000001,0.98525,0.98575,0.9860000000000001,0.9842500000000001,0.98325,0.9789999999999999,0.9870000000000001,0.9862500000000001,0.9865,0.9869999999999999,0.9824999999999999,0.98125,0.9837499999999999,0.9852500000000001,0.9545,0.98675,0.5415,0.97575,0.9860000000000001,0.98575,0.9870000000000001,0.9872500000000001,0.9872500000000001,0.9855,0.98575,0.9845,0.9870000000000001,0.98425,0.9845,0.9870000000000001,0.9852500000000001,0.9864999999999998,0.9855,0.9795,0.9847500000000002,0.9834999999999999,0.984,0.9869999999999999,0.9872500000000001,0.9872500000000001,0.9862500000000001,0.9857499999999998,0.9855,0.98675,0.9837499999999999,0.9862499999999998,0.9850000000000001,0.9875,0.9829999999999999,0.98675,0.9867500000000001,0.9837499999999999,0.9869999999999999,0.4932499999999999,0.98675,0.9872499999999998,0.9027499999999999,0.98575,0.9712500000000001,0.9869999999999999,0.9862500000000001,0.9867499999999998,0.98675,0.9855,0.9867499999999998,0.9855,0.9869999999999999,0.9862500000000001,0.9857500000000001,0.9869999999999999,0.98675,0.98675,0.9855,0.9855,0.9855,0.9860000000000001,0.9870000000000001,0.9862500000000001,0.986,0.9880000000000001,0.98675,0.9875,0.9850000000000001,0.982,0.5740000000000001,0.9865,0.9830000000000002,0.9862500000000001,0.986,0.98675,0.9864999999999998,0.9865,0.9855,0.9865,0.9875,0.982,0.9852500000000001,0.9855],\"type\":\"scatter\"}],                        {\"title\":{\"text\":\"Slice Plot\"},\"template\":{\"data\":{\"histogram2dcontour\":[{\"type\":\"histogram2dcontour\",\"colorbar\":{\"outlinewidth\":0,\"ticks\":\"\"},\"colorscale\":[[0.0,\"#0d0887\"],[0.1111111111111111,\"#46039f\"],[0.2222222222222222,\"#7201a8\"],[0.3333333333333333,\"#9c179e\"],[0.4444444444444444,\"#bd3786\"],[0.5555555555555556,\"#d8576b\"],[0.6666666666666666,\"#ed7953\"],[0.7777777777777778,\"#fb9f3a\"],[0.8888888888888888,\"#fdca26\"],[1.0,\"#f0f921\"]]}],\"choropleth\":[{\"type\":\"choropleth\",\"colorbar\":{\"outlinewidth\":0,\"ticks\":\"\"}}],\"histogram2d\":[{\"type\":\"histogram2d\",\"colorbar\":{\"outlinewidth\":0,\"ticks\":\"\"},\"colorscale\":[[0.0,\"#0d0887\"],[0.1111111111111111,\"#46039f\"],[0.2222222222222222,\"#7201a8\"],[0.3333333333333333,\"#9c179e\"],[0.4444444444444444,\"#bd3786\"],[0.5555555555555556,\"#d8576b\"],[0.6666666666666666,\"#ed7953\"],[0.7777777777777778,\"#fb9f3a\"],[0.8888888888888888,\"#fdca26\"],[1.0,\"#f0f921\"]]}],\"heatmap\":[{\"type\":\"heatmap\",\"colorbar\":{\"outlinewidth\":0,\"ticks\":\"\"},\"colorscale\":[[0.0,\"#0d0887\"],[0.1111111111111111,\"#46039f\"],[0.2222222222222222,\"#7201a8\"],[0.3333333333333333,\"#9c179e\"],[0.4444444444444444,\"#bd3786\"],[0.5555555555555556,\"#d8576b\"],[0.6666666666666666,\"#ed7953\"],[0.7777777777777778,\"#fb9f3a\"],[0.8888888888888888,\"#fdca26\"],[1.0,\"#f0f921\"]]}],\"heatmapgl\":[{\"type\":\"heatmapgl\",\"colorbar\":{\"outlinewidth\":0,\"ticks\":\"\"},\"colorscale\":[[0.0,\"#0d0887\"],[0.1111111111111111,\"#46039f\"],[0.2222222222222222,\"#7201a8\"],[0.3333333333333333,\"#9c179e\"],[0.4444444444444444,\"#bd3786\"],[0.5555555555555556,\"#d8576b\"],[0.6666666666666666,\"#ed7953\"],[0.7777777777777778,\"#fb9f3a\"],[0.8888888888888888,\"#fdca26\"],[1.0,\"#f0f921\"]]}],\"contourcarpet\":[{\"type\":\"contourcarpet\",\"colorbar\":{\"outlinewidth\":0,\"ticks\":\"\"}}],\"contour\":[{\"type\":\"contour\",\"colorbar\":{\"outlinewidth\":0,\"ticks\":\"\"},\"colorscale\":[[0.0,\"#0d0887\"],[0.1111111111111111,\"#46039f\"],[0.2222222222222222,\"#7201a8\"],[0.3333333333333333,\"#9c179e\"],[0.4444444444444444,\"#bd3786\"],[0.5555555555555556,\"#d8576b\"],[0.6666666666666666,\"#ed7953\"],[0.7777777777777778,\"#fb9f3a\"],[0.8888888888888888,\"#fdca26\"],[1.0,\"#f0f921\"]]}],\"surface\":[{\"type\":\"surface\",\"colorbar\":{\"outlinewidth\":0,\"ticks\":\"\"},\"colorscale\":[[0.0,\"#0d0887\"],[0.1111111111111111,\"#46039f\"],[0.2222222222222222,\"#7201a8\"],[0.3333333333333333,\"#9c179e\"],[0.4444444444444444,\"#bd3786\"],[0.5555555555555556,\"#d8576b\"],[0.6666666666666666,\"#ed7953\"],[0.7777777777777778,\"#fb9f3a\"],[0.8888888888888888,\"#fdca26\"],[1.0,\"#f0f921\"]]}],\"mesh3d\":[{\"type\":\"mesh3d\",\"colorbar\":{\"outlinewidth\":0,\"ticks\":\"\"}}],\"scatter\":[{\"fillpattern\":{\"fillmode\":\"overlay\",\"size\":10,\"solidity\":0.2},\"type\":\"scatter\"}],\"parcoords\":[{\"type\":\"parcoords\",\"line\":{\"colorbar\":{\"outlinewidth\":0,\"ticks\":\"\"}}}],\"scatterpolargl\":[{\"type\":\"scatterpolargl\",\"marker\":{\"colorbar\":{\"outlinewidth\":0,\"ticks\":\"\"}}}],\"bar\":[{\"error_x\":{\"color\":\"#2a3f5f\"},\"error_y\":{\"color\":\"#2a3f5f\"},\"marker\":{\"line\":{\"color\":\"#E5ECF6\",\"width\":0.5},\"pattern\":{\"fillmode\":\"overlay\",\"size\":10,\"solidity\":0.2}},\"type\":\"bar\"}],\"scattergeo\":[{\"type\":\"scattergeo\",\"marker\":{\"colorbar\":{\"outlinewidth\":0,\"ticks\":\"\"}}}],\"scatterpolar\":[{\"type\":\"scatterpolar\",\"marker\":{\"colorbar\":{\"outlinewidth\":0,\"ticks\":\"\"}}}],\"histogram\":[{\"marker\":{\"pattern\":{\"fillmode\":\"overlay\",\"size\":10,\"solidity\":0.2}},\"type\":\"histogram\"}],\"scattergl\":[{\"type\":\"scattergl\",\"marker\":{\"colorbar\":{\"outlinewidth\":0,\"ticks\":\"\"}}}],\"scatter3d\":[{\"type\":\"scatter3d\",\"line\":{\"colorbar\":{\"outlinewidth\":0,\"ticks\":\"\"}},\"marker\":{\"colorbar\":{\"outlinewidth\":0,\"ticks\":\"\"}}}],\"scattermapbox\":[{\"type\":\"scattermapbox\",\"marker\":{\"colorbar\":{\"outlinewidth\":0,\"ticks\":\"\"}}}],\"scatterternary\":[{\"type\":\"scatterternary\",\"marker\":{\"colorbar\":{\"outlinewidth\":0,\"ticks\":\"\"}}}],\"scattercarpet\":[{\"type\":\"scattercarpet\",\"marker\":{\"colorbar\":{\"outlinewidth\":0,\"ticks\":\"\"}}}],\"carpet\":[{\"aaxis\":{\"endlinecolor\":\"#2a3f5f\",\"gridcolor\":\"white\",\"linecolor\":\"white\",\"minorgridcolor\":\"white\",\"startlinecolor\":\"#2a3f5f\"},\"baxis\":{\"endlinecolor\":\"#2a3f5f\",\"gridcolor\":\"white\",\"linecolor\":\"white\",\"minorgridcolor\":\"white\",\"startlinecolor\":\"#2a3f5f\"},\"type\":\"carpet\"}],\"table\":[{\"cells\":{\"fill\":{\"color\":\"#EBF0F8\"},\"line\":{\"color\":\"white\"}},\"header\":{\"fill\":{\"color\":\"#C8D4E3\"},\"line\":{\"color\":\"white\"}},\"type\":\"table\"}],\"barpolar\":[{\"marker\":{\"line\":{\"color\":\"#E5ECF6\",\"width\":0.5},\"pattern\":{\"fillmode\":\"overlay\",\"size\":10,\"solidity\":0.2}},\"type\":\"barpolar\"}],\"pie\":[{\"automargin\":true,\"type\":\"pie\"}]},\"layout\":{\"autotypenumbers\":\"strict\",\"colorway\":[\"#636efa\",\"#EF553B\",\"#00cc96\",\"#ab63fa\",\"#FFA15A\",\"#19d3f3\",\"#FF6692\",\"#B6E880\",\"#FF97FF\",\"#FECB52\"],\"font\":{\"color\":\"#2a3f5f\"},\"hovermode\":\"closest\",\"hoverlabel\":{\"align\":\"left\"},\"paper_bgcolor\":\"white\",\"plot_bgcolor\":\"#E5ECF6\",\"polar\":{\"bgcolor\":\"#E5ECF6\",\"angularaxis\":{\"gridcolor\":\"white\",\"linecolor\":\"white\",\"ticks\":\"\"},\"radialaxis\":{\"gridcolor\":\"white\",\"linecolor\":\"white\",\"ticks\":\"\"}},\"ternary\":{\"bgcolor\":\"#E5ECF6\",\"aaxis\":{\"gridcolor\":\"white\",\"linecolor\":\"white\",\"ticks\":\"\"},\"baxis\":{\"gridcolor\":\"white\",\"linecolor\":\"white\",\"ticks\":\"\"},\"caxis\":{\"gridcolor\":\"white\",\"linecolor\":\"white\",\"ticks\":\"\"}},\"coloraxis\":{\"colorbar\":{\"outlinewidth\":0,\"ticks\":\"\"}},\"colorscale\":{\"sequential\":[[0.0,\"#0d0887\"],[0.1111111111111111,\"#46039f\"],[0.2222222222222222,\"#7201a8\"],[0.3333333333333333,\"#9c179e\"],[0.4444444444444444,\"#bd3786\"],[0.5555555555555556,\"#d8576b\"],[0.6666666666666666,\"#ed7953\"],[0.7777777777777778,\"#fb9f3a\"],[0.8888888888888888,\"#fdca26\"],[1.0,\"#f0f921\"]],\"sequentialminus\":[[0.0,\"#0d0887\"],[0.1111111111111111,\"#46039f\"],[0.2222222222222222,\"#7201a8\"],[0.3333333333333333,\"#9c179e\"],[0.4444444444444444,\"#bd3786\"],[0.5555555555555556,\"#d8576b\"],[0.6666666666666666,\"#ed7953\"],[0.7777777777777778,\"#fb9f3a\"],[0.8888888888888888,\"#fdca26\"],[1.0,\"#f0f921\"]],\"diverging\":[[0,\"#8e0152\"],[0.1,\"#c51b7d\"],[0.2,\"#de77ae\"],[0.3,\"#f1b6da\"],[0.4,\"#fde0ef\"],[0.5,\"#f7f7f7\"],[0.6,\"#e6f5d0\"],[0.7,\"#b8e186\"],[0.8,\"#7fbc41\"],[0.9,\"#4d9221\"],[1,\"#276419\"]]},\"xaxis\":{\"gridcolor\":\"white\",\"linecolor\":\"white\",\"ticks\":\"\",\"title\":{\"standoff\":15},\"zerolinecolor\":\"white\",\"automargin\":true,\"zerolinewidth\":2},\"yaxis\":{\"gridcolor\":\"white\",\"linecolor\":\"white\",\"ticks\":\"\",\"title\":{\"standoff\":15},\"zerolinecolor\":\"white\",\"automargin\":true,\"zerolinewidth\":2},\"scene\":{\"xaxis\":{\"backgroundcolor\":\"#E5ECF6\",\"gridcolor\":\"white\",\"linecolor\":\"white\",\"showbackground\":true,\"ticks\":\"\",\"zerolinecolor\":\"white\",\"gridwidth\":2},\"yaxis\":{\"backgroundcolor\":\"#E5ECF6\",\"gridcolor\":\"white\",\"linecolor\":\"white\",\"showbackground\":true,\"ticks\":\"\",\"zerolinecolor\":\"white\",\"gridwidth\":2},\"zaxis\":{\"backgroundcolor\":\"#E5ECF6\",\"gridcolor\":\"white\",\"linecolor\":\"white\",\"showbackground\":true,\"ticks\":\"\",\"zerolinecolor\":\"white\",\"gridwidth\":2}},\"shapedefaults\":{\"line\":{\"color\":\"#2a3f5f\"}},\"annotationdefaults\":{\"arrowcolor\":\"#2a3f5f\",\"arrowhead\":0,\"arrowwidth\":1},\"geo\":{\"bgcolor\":\"white\",\"landcolor\":\"#E5ECF6\",\"subunitcolor\":\"white\",\"showland\":true,\"showlakes\":true,\"lakecolor\":\"white\"},\"title\":{\"x\":0.05},\"mapbox\":{\"style\":\"light\"}}},\"xaxis\":{\"title\":{\"text\":\"C\"},\"type\":\"log\"},\"yaxis\":{\"title\":{\"text\":\"Objective Value\"}}},                        {\"responsive\": true}                    ).then(function(){\n",
       "                            \n",
       "var gd = document.getElementById('22a4d318-c4fa-49ab-96f5-166a9f807b99');\n",
       "var x = new MutationObserver(function (mutations, observer) {{\n",
       "        var display = window.getComputedStyle(gd).display;\n",
       "        if (!display || display === 'none') {{\n",
       "            console.log([gd, 'removed!']);\n",
       "            Plotly.purge(gd);\n",
       "            observer.disconnect();\n",
       "        }}\n",
       "}});\n",
       "\n",
       "// Listen for the removal of the full notebook cells\n",
       "var notebookContainer = gd.closest('#notebook-container');\n",
       "if (notebookContainer) {{\n",
       "    x.observe(notebookContainer, {childList: true});\n",
       "}}\n",
       "\n",
       "// Listen for the clearing of the current output cell\n",
       "var outputEl = gd.closest('.output');\n",
       "if (outputEl) {{\n",
       "    x.observe(outputEl, {childList: true});\n",
       "}}\n",
       "\n",
       "                        })                };                });            </script>        </div>"
      ]
     },
     "metadata": {},
     "output_type": "display_data"
    },
    {
     "data": {
      "text/html": [
       "<div>                            <div id=\"47abf4b6-6c28-494d-8e2f-befad7a30a57\" class=\"plotly-graph-div\" style=\"height:525px; width:100%;\"></div>            <script type=\"text/javascript\">                require([\"plotly\"], function(Plotly) {                    window.PLOTLYENV=window.PLOTLYENV || {};                                    if (document.getElementById(\"47abf4b6-6c28-494d-8e2f-befad7a30a57\")) {                    Plotly.newPlot(                        \"47abf4b6-6c28-494d-8e2f-befad7a30a57\",                        [{\"marker\":{\"color\":[0,1,2,3,4,5,6,7,8,9,10,11,12,13,14,15,16,17,18,19,20,21,22,23,24,25,26,27,28,29,30,31,32,33,34,35,36,37,38,39,40,41,42,43,44,45,46,47,48,49,50,51,52,53,54,55,56,57,58,59,60,61,62,63,64,65,66,67,68,69,70,71,72,73,74,75,76,77,78,79,80,81,82,83,84,85,86,87,88,89,90,91,92,93,94,95,96,97,98,99,100,101,102,103,104,105,106,107,108,109,110,111,112,113,114,115,116,117,118,119,120,121,122,123,124,125,126,127,128,129,130,131,132,133,134,135,136,137,138,139,140,141,142,143,144,145,146,147,148,149,150,151,152,153,154,155,156,157,158,159,160,161,162,163,164,165,166,167,168,169,170,171,172,173,174,175,176,177,178,179,180,181,182,183,184,185,186,187,188,189,190,191,192,193,194,195,196,197,198,199],\"colorbar\":{\"title\":{\"text\":\"Trial\"},\"x\":1.0,\"xpad\":40},\"colorscale\":[[0.0,\"rgb(247,251,255)\"],[0.125,\"rgb(222,235,247)\"],[0.25,\"rgb(198,219,239)\"],[0.375,\"rgb(158,202,225)\"],[0.5,\"rgb(107,174,214)\"],[0.625,\"rgb(66,146,198)\"],[0.75,\"rgb(33,113,181)\"],[0.875,\"rgb(8,81,156)\"],[1.0,\"rgb(8,48,107)\"]],\"line\":{\"color\":\"Grey\",\"width\":0.5}},\"mode\":\"markers\",\"name\":\"Feasible Trial\",\"showlegend\":false,\"x\":[0.000038150516820480853,847338.7207233686,1806.0138425505534,1.4666384437146253e-6,4.566758153017537,9906.870610327796,4136367.05753018,3.534497856003965e-6,0.09643181043129755,0.0002428578494652165,6.062730749258047,2.394368544226851,0.5737735883571251,125.82894712383494,0.00802240829440803,63.97369524945239,0.004207046429153697,168355.15342700732,1.2859849422104441,0.022718509894061236,733.2865237495239,4.770305942095738,0.9204029156766319,0.15230193089099942,0.0004565869109052896,27.544085022606115,27255.46836777338,0.27994592545852,0.0009547421354421835,0.024198481069740256,0.00001659306765721038,0.08409011613004831,0.062635378895898,0.00006420150824531944,0.002666676889479098,0.01934822095856688,2.4233957316167537e-7,0.027455082412808647,0.09569379342331046,0.00006596184962783375,555.4545523126753,0.23579211220076457,0.04671280326034742,0.028684186937679296,0.0015868710811076183,13.505841369476485,0.48326579920762597,0.009587339303020083,0.0002058300470358173,7.996690062054691e-6,26925079.601565547,0.07339608373771972,0.04547958361450859,2.0617559864572033,0.31932015404824066,0.04779176745531744,0.007990675853605538,0.0028620390281635776,0.005562490541070391,0.8543130228929922,0.0006757475934973176,0.10037331914414167,4.290505956823089,0.010170544580447834,0.20616103609881048,0.00020679009777396415,12.370788469751469,1.6841766276060852,105.01011862869082,0.012386649653562985,0.1146260647318271,0.5476208207238497,0.04869807576225758,0.043423058255481185,0.04025816783227938,0.0037757420257277857,0.0014303272450506698,0.014684354577892106,0.05968541697924341,0.055666234500118386,0.00032833074744646295,0.12038919268249336,0.02805276507990184,0.026790528834056804,0.004795956911586124,0.02721301111195581,0.0013635922310838476,0.001691505323077865,0.0006732632181142101,0.008978672288040323,0.00900411528606234,0.00714762324180622,0.003254258472780311,0.00015205715576095433,0.002487204378805583,0.006008916549346012,0.0026124176649016057,0.000026554832549826016,0.002354522337894655,0.00011112097660272464,0.0160512429697637,0.0005020147232723491,0.0005754884451163629,0.003608321096362922,0.0008906740142744007,0.00039131685730217256,0.00005341363510905435,0.2960844667837166,0.018934453153807825,0.0232297675898737,0.0027698082386308654,0.00283826276551878,0.17423428785066808,0.018052658134213792,0.0011030485745348313,0.03431001552389988,1.461832434482922e-6,0.0052965578387174726,0.004365569439000354,0.0003300645539170713,0.002015856446163201,0.014804943694358433,0.007195227560713365,0.004626324075589034,0.0065909990331935,0.0008593430909345071,0.007485162475814681,0.0001274423937101584,0.0019361176687868464,0.0005470805019094395,0.0015073381930460735,0.0027451225329897574,0.010717537612339016,0.005329344703916223,0.0022079412362261083,0.0668427777243908,0.013708631043730251,0.0003225511228157694,0.0008803539694280353,0.0041420335150168,0.003402660302572571,0.0033191869984239785,0.0027038027254629947,0.004397040628129747,0.027422833147077937,0.008710064634968059,0.0010357105641371513,0.0017920414816623052,0.016705839616778146,0.0036101504233523565,0.0420263555579333,0.004831547396917004,0.002488481053811454,0.1077612511668508,0.009312375446197264,216166.599659929,0.001202313836768224,0.0035966031286901222,0.025017535237140374,0.007839233541822645,0.00024067849580881913,0.0033221512701805725,0.0036309716688336865,0.013345797800783018,0.001579773203163555,0.0006878682607166,0.004597188492813889,0.05374093646134466,0.018114956590174314,0.0017896315239748688,0.006789104119789026,0.010261402664005641,0.0036774198037460206,0.009075791877765721,0.03004305266274873,0.0024074866760258923,0.0010134687412862767,0.016170542602996538,0.007251046473098014,0.004661467902263615,0.0006787884754004351,0.007474629215043808,0.002308136623610323,0.005529738097612134,0.03833495939005645,0.08515990811031618,9757.23473955823,0.0080097804690164,0.0178695544877007,0.0013282443777228497,0.005948024404425884,0.0035137545782189875,0.004877271687861591,0.0016349749062922816,0.013213553093472686,0.0026593863333958874,0.006886581271369518,0.030918983627957843,0.00048131420521013355,0.010485305123353685],\"y\":[0.9549999999999998,0.4789999999999999,0.6985,0.9015000000000001,0.97475,0.5545,0.4755,0.9569999999999999,0.9410000000000001,0.9649999999999999,0.974,0.9809999999999999,0.97425,0.88925,0.8734999999999999,0.9099999999999998,0.5415,0.49375,0.9785,0.9592500000000002,0.7215,0.97425,0.98375,0.9739999999999999,0.8045,0.944,0.5349999999999999,0.98475,0.9785,0.9845,0.9629999999999999,0.9837499999999999,0.98475,0.9652499999999999,0.9807499999999999,0.984,0.8960000000000001,0.9852500000000001,0.9844999999999999,0.9827499999999999,0.7965,0.9835,0.98575,0.9724999999999999,0.98325,0.9637500000000001,0.9795,0.9830000000000002,0.9652499999999999,0.9334999999999999,0.46825,0.9852500000000001,0.9869999999999999,0.9795,0.98475,0.98275,0.9855,0.9655000000000001,0.97875,0.9830000000000002,0.9824999999999999,0.9852500000000001,0.9795,0.98475,0.98475,0.96275,0.9650000000000001,0.9805000000000001,0.9012500000000001,0.9545,0.9800000000000001,0.9822500000000002,0.9870000000000001,0.9865,0.9817499999999999,0.9765,0.9695,0.9845,0.9855,0.984,0.9317500000000001,0.98475,0.9872500000000001,0.9865,0.9850000000000001,0.98325,0.9860000000000001,0.97075,0.97575,0.9862499999999998,0.9862500000000001,0.9867500000000001,0.9870000000000001,0.9852500000000001,0.9869999999999999,0.98575,0.98675,0.9652499999999999,0.9845,0.98325,0.9855,0.9867500000000001,0.98525,0.98575,0.9860000000000001,0.9842500000000001,0.98325,0.9789999999999999,0.9870000000000001,0.9862500000000001,0.9865,0.9869999999999999,0.9824999999999999,0.98125,0.9837499999999999,0.9852500000000001,0.9545,0.98675,0.5415,0.97575,0.9860000000000001,0.98575,0.9870000000000001,0.9872500000000001,0.9872500000000001,0.9855,0.98575,0.9845,0.9870000000000001,0.98425,0.9845,0.9870000000000001,0.9852500000000001,0.9864999999999998,0.9855,0.9795,0.9847500000000002,0.9834999999999999,0.984,0.9869999999999999,0.9872500000000001,0.9872500000000001,0.9862500000000001,0.9857499999999998,0.9855,0.98675,0.9837499999999999,0.9862499999999998,0.9850000000000001,0.9875,0.9829999999999999,0.98675,0.9867500000000001,0.9837499999999999,0.9869999999999999,0.4932499999999999,0.98675,0.9872499999999998,0.9027499999999999,0.98575,0.9712500000000001,0.9869999999999999,0.9862500000000001,0.9867499999999998,0.98675,0.9855,0.9867499999999998,0.9855,0.9869999999999999,0.9862500000000001,0.9857500000000001,0.9869999999999999,0.98675,0.98675,0.9855,0.9855,0.9855,0.9860000000000001,0.9870000000000001,0.9862500000000001,0.986,0.9880000000000001,0.98675,0.9875,0.9850000000000001,0.982,0.5740000000000001,0.9865,0.9830000000000002,0.9862500000000001,0.986,0.98675,0.9864999999999998,0.9865,0.9855,0.9865,0.9875,0.982,0.9852500000000001,0.9855],\"type\":\"scatter\"}],                        {\"title\":{\"text\":\"Slice Plot\"},\"template\":{\"data\":{\"histogram2dcontour\":[{\"type\":\"histogram2dcontour\",\"colorbar\":{\"outlinewidth\":0,\"ticks\":\"\"},\"colorscale\":[[0.0,\"#0d0887\"],[0.1111111111111111,\"#46039f\"],[0.2222222222222222,\"#7201a8\"],[0.3333333333333333,\"#9c179e\"],[0.4444444444444444,\"#bd3786\"],[0.5555555555555556,\"#d8576b\"],[0.6666666666666666,\"#ed7953\"],[0.7777777777777778,\"#fb9f3a\"],[0.8888888888888888,\"#fdca26\"],[1.0,\"#f0f921\"]]}],\"choropleth\":[{\"type\":\"choropleth\",\"colorbar\":{\"outlinewidth\":0,\"ticks\":\"\"}}],\"histogram2d\":[{\"type\":\"histogram2d\",\"colorbar\":{\"outlinewidth\":0,\"ticks\":\"\"},\"colorscale\":[[0.0,\"#0d0887\"],[0.1111111111111111,\"#46039f\"],[0.2222222222222222,\"#7201a8\"],[0.3333333333333333,\"#9c179e\"],[0.4444444444444444,\"#bd3786\"],[0.5555555555555556,\"#d8576b\"],[0.6666666666666666,\"#ed7953\"],[0.7777777777777778,\"#fb9f3a\"],[0.8888888888888888,\"#fdca26\"],[1.0,\"#f0f921\"]]}],\"heatmap\":[{\"type\":\"heatmap\",\"colorbar\":{\"outlinewidth\":0,\"ticks\":\"\"},\"colorscale\":[[0.0,\"#0d0887\"],[0.1111111111111111,\"#46039f\"],[0.2222222222222222,\"#7201a8\"],[0.3333333333333333,\"#9c179e\"],[0.4444444444444444,\"#bd3786\"],[0.5555555555555556,\"#d8576b\"],[0.6666666666666666,\"#ed7953\"],[0.7777777777777778,\"#fb9f3a\"],[0.8888888888888888,\"#fdca26\"],[1.0,\"#f0f921\"]]}],\"heatmapgl\":[{\"type\":\"heatmapgl\",\"colorbar\":{\"outlinewidth\":0,\"ticks\":\"\"},\"colorscale\":[[0.0,\"#0d0887\"],[0.1111111111111111,\"#46039f\"],[0.2222222222222222,\"#7201a8\"],[0.3333333333333333,\"#9c179e\"],[0.4444444444444444,\"#bd3786\"],[0.5555555555555556,\"#d8576b\"],[0.6666666666666666,\"#ed7953\"],[0.7777777777777778,\"#fb9f3a\"],[0.8888888888888888,\"#fdca26\"],[1.0,\"#f0f921\"]]}],\"contourcarpet\":[{\"type\":\"contourcarpet\",\"colorbar\":{\"outlinewidth\":0,\"ticks\":\"\"}}],\"contour\":[{\"type\":\"contour\",\"colorbar\":{\"outlinewidth\":0,\"ticks\":\"\"},\"colorscale\":[[0.0,\"#0d0887\"],[0.1111111111111111,\"#46039f\"],[0.2222222222222222,\"#7201a8\"],[0.3333333333333333,\"#9c179e\"],[0.4444444444444444,\"#bd3786\"],[0.5555555555555556,\"#d8576b\"],[0.6666666666666666,\"#ed7953\"],[0.7777777777777778,\"#fb9f3a\"],[0.8888888888888888,\"#fdca26\"],[1.0,\"#f0f921\"]]}],\"surface\":[{\"type\":\"surface\",\"colorbar\":{\"outlinewidth\":0,\"ticks\":\"\"},\"colorscale\":[[0.0,\"#0d0887\"],[0.1111111111111111,\"#46039f\"],[0.2222222222222222,\"#7201a8\"],[0.3333333333333333,\"#9c179e\"],[0.4444444444444444,\"#bd3786\"],[0.5555555555555556,\"#d8576b\"],[0.6666666666666666,\"#ed7953\"],[0.7777777777777778,\"#fb9f3a\"],[0.8888888888888888,\"#fdca26\"],[1.0,\"#f0f921\"]]}],\"mesh3d\":[{\"type\":\"mesh3d\",\"colorbar\":{\"outlinewidth\":0,\"ticks\":\"\"}}],\"scatter\":[{\"fillpattern\":{\"fillmode\":\"overlay\",\"size\":10,\"solidity\":0.2},\"type\":\"scatter\"}],\"parcoords\":[{\"type\":\"parcoords\",\"line\":{\"colorbar\":{\"outlinewidth\":0,\"ticks\":\"\"}}}],\"scatterpolargl\":[{\"type\":\"scatterpolargl\",\"marker\":{\"colorbar\":{\"outlinewidth\":0,\"ticks\":\"\"}}}],\"bar\":[{\"error_x\":{\"color\":\"#2a3f5f\"},\"error_y\":{\"color\":\"#2a3f5f\"},\"marker\":{\"line\":{\"color\":\"#E5ECF6\",\"width\":0.5},\"pattern\":{\"fillmode\":\"overlay\",\"size\":10,\"solidity\":0.2}},\"type\":\"bar\"}],\"scattergeo\":[{\"type\":\"scattergeo\",\"marker\":{\"colorbar\":{\"outlinewidth\":0,\"ticks\":\"\"}}}],\"scatterpolar\":[{\"type\":\"scatterpolar\",\"marker\":{\"colorbar\":{\"outlinewidth\":0,\"ticks\":\"\"}}}],\"histogram\":[{\"marker\":{\"pattern\":{\"fillmode\":\"overlay\",\"size\":10,\"solidity\":0.2}},\"type\":\"histogram\"}],\"scattergl\":[{\"type\":\"scattergl\",\"marker\":{\"colorbar\":{\"outlinewidth\":0,\"ticks\":\"\"}}}],\"scatter3d\":[{\"type\":\"scatter3d\",\"line\":{\"colorbar\":{\"outlinewidth\":0,\"ticks\":\"\"}},\"marker\":{\"colorbar\":{\"outlinewidth\":0,\"ticks\":\"\"}}}],\"scattermapbox\":[{\"type\":\"scattermapbox\",\"marker\":{\"colorbar\":{\"outlinewidth\":0,\"ticks\":\"\"}}}],\"scatterternary\":[{\"type\":\"scatterternary\",\"marker\":{\"colorbar\":{\"outlinewidth\":0,\"ticks\":\"\"}}}],\"scattercarpet\":[{\"type\":\"scattercarpet\",\"marker\":{\"colorbar\":{\"outlinewidth\":0,\"ticks\":\"\"}}}],\"carpet\":[{\"aaxis\":{\"endlinecolor\":\"#2a3f5f\",\"gridcolor\":\"white\",\"linecolor\":\"white\",\"minorgridcolor\":\"white\",\"startlinecolor\":\"#2a3f5f\"},\"baxis\":{\"endlinecolor\":\"#2a3f5f\",\"gridcolor\":\"white\",\"linecolor\":\"white\",\"minorgridcolor\":\"white\",\"startlinecolor\":\"#2a3f5f\"},\"type\":\"carpet\"}],\"table\":[{\"cells\":{\"fill\":{\"color\":\"#EBF0F8\"},\"line\":{\"color\":\"white\"}},\"header\":{\"fill\":{\"color\":\"#C8D4E3\"},\"line\":{\"color\":\"white\"}},\"type\":\"table\"}],\"barpolar\":[{\"marker\":{\"line\":{\"color\":\"#E5ECF6\",\"width\":0.5},\"pattern\":{\"fillmode\":\"overlay\",\"size\":10,\"solidity\":0.2}},\"type\":\"barpolar\"}],\"pie\":[{\"automargin\":true,\"type\":\"pie\"}]},\"layout\":{\"autotypenumbers\":\"strict\",\"colorway\":[\"#636efa\",\"#EF553B\",\"#00cc96\",\"#ab63fa\",\"#FFA15A\",\"#19d3f3\",\"#FF6692\",\"#B6E880\",\"#FF97FF\",\"#FECB52\"],\"font\":{\"color\":\"#2a3f5f\"},\"hovermode\":\"closest\",\"hoverlabel\":{\"align\":\"left\"},\"paper_bgcolor\":\"white\",\"plot_bgcolor\":\"#E5ECF6\",\"polar\":{\"bgcolor\":\"#E5ECF6\",\"angularaxis\":{\"gridcolor\":\"white\",\"linecolor\":\"white\",\"ticks\":\"\"},\"radialaxis\":{\"gridcolor\":\"white\",\"linecolor\":\"white\",\"ticks\":\"\"}},\"ternary\":{\"bgcolor\":\"#E5ECF6\",\"aaxis\":{\"gridcolor\":\"white\",\"linecolor\":\"white\",\"ticks\":\"\"},\"baxis\":{\"gridcolor\":\"white\",\"linecolor\":\"white\",\"ticks\":\"\"},\"caxis\":{\"gridcolor\":\"white\",\"linecolor\":\"white\",\"ticks\":\"\"}},\"coloraxis\":{\"colorbar\":{\"outlinewidth\":0,\"ticks\":\"\"}},\"colorscale\":{\"sequential\":[[0.0,\"#0d0887\"],[0.1111111111111111,\"#46039f\"],[0.2222222222222222,\"#7201a8\"],[0.3333333333333333,\"#9c179e\"],[0.4444444444444444,\"#bd3786\"],[0.5555555555555556,\"#d8576b\"],[0.6666666666666666,\"#ed7953\"],[0.7777777777777778,\"#fb9f3a\"],[0.8888888888888888,\"#fdca26\"],[1.0,\"#f0f921\"]],\"sequentialminus\":[[0.0,\"#0d0887\"],[0.1111111111111111,\"#46039f\"],[0.2222222222222222,\"#7201a8\"],[0.3333333333333333,\"#9c179e\"],[0.4444444444444444,\"#bd3786\"],[0.5555555555555556,\"#d8576b\"],[0.6666666666666666,\"#ed7953\"],[0.7777777777777778,\"#fb9f3a\"],[0.8888888888888888,\"#fdca26\"],[1.0,\"#f0f921\"]],\"diverging\":[[0,\"#8e0152\"],[0.1,\"#c51b7d\"],[0.2,\"#de77ae\"],[0.3,\"#f1b6da\"],[0.4,\"#fde0ef\"],[0.5,\"#f7f7f7\"],[0.6,\"#e6f5d0\"],[0.7,\"#b8e186\"],[0.8,\"#7fbc41\"],[0.9,\"#4d9221\"],[1,\"#276419\"]]},\"xaxis\":{\"gridcolor\":\"white\",\"linecolor\":\"white\",\"ticks\":\"\",\"title\":{\"standoff\":15},\"zerolinecolor\":\"white\",\"automargin\":true,\"zerolinewidth\":2},\"yaxis\":{\"gridcolor\":\"white\",\"linecolor\":\"white\",\"ticks\":\"\",\"title\":{\"standoff\":15},\"zerolinecolor\":\"white\",\"automargin\":true,\"zerolinewidth\":2},\"scene\":{\"xaxis\":{\"backgroundcolor\":\"#E5ECF6\",\"gridcolor\":\"white\",\"linecolor\":\"white\",\"showbackground\":true,\"ticks\":\"\",\"zerolinecolor\":\"white\",\"gridwidth\":2},\"yaxis\":{\"backgroundcolor\":\"#E5ECF6\",\"gridcolor\":\"white\",\"linecolor\":\"white\",\"showbackground\":true,\"ticks\":\"\",\"zerolinecolor\":\"white\",\"gridwidth\":2},\"zaxis\":{\"backgroundcolor\":\"#E5ECF6\",\"gridcolor\":\"white\",\"linecolor\":\"white\",\"showbackground\":true,\"ticks\":\"\",\"zerolinecolor\":\"white\",\"gridwidth\":2}},\"shapedefaults\":{\"line\":{\"color\":\"#2a3f5f\"}},\"annotationdefaults\":{\"arrowcolor\":\"#2a3f5f\",\"arrowhead\":0,\"arrowwidth\":1},\"geo\":{\"bgcolor\":\"white\",\"landcolor\":\"#E5ECF6\",\"subunitcolor\":\"white\",\"showland\":true,\"showlakes\":true,\"lakecolor\":\"white\"},\"title\":{\"x\":0.05},\"mapbox\":{\"style\":\"light\"}}},\"xaxis\":{\"title\":{\"text\":\"gamma\"},\"type\":\"log\"},\"yaxis\":{\"title\":{\"text\":\"Objective Value\"}}},                        {\"responsive\": true}                    ).then(function(){\n",
       "                            \n",
       "var gd = document.getElementById('47abf4b6-6c28-494d-8e2f-befad7a30a57');\n",
       "var x = new MutationObserver(function (mutations, observer) {{\n",
       "        var display = window.getComputedStyle(gd).display;\n",
       "        if (!display || display === 'none') {{\n",
       "            console.log([gd, 'removed!']);\n",
       "            Plotly.purge(gd);\n",
       "            observer.disconnect();\n",
       "        }}\n",
       "}});\n",
       "\n",
       "// Listen for the removal of the full notebook cells\n",
       "var notebookContainer = gd.closest('#notebook-container');\n",
       "if (notebookContainer) {{\n",
       "    x.observe(notebookContainer, {childList: true});\n",
       "}}\n",
       "\n",
       "// Listen for the clearing of the current output cell\n",
       "var outputEl = gd.closest('.output');\n",
       "if (outputEl) {{\n",
       "    x.observe(outputEl, {childList: true});\n",
       "}}\n",
       "\n",
       "                        })                };                });            </script>        </div>"
      ]
     },
     "metadata": {},
     "output_type": "display_data"
    }
   ],
   "source": [
    "# KELM BINARY\n",
    "# Create an Optuna study\n",
    "study = optuna.create_study(direction='maximize')\n",
    "\n",
    "# Optimize the hyperparameters\n",
    "study.optimize(objective_KELM_bin, n_trials=200)\n",
    "\n",
    "# Get the best parameters and best score\n",
    "best_params_KELM_bin = study.best_params\n",
    "best_score = study.best_value\n",
    "\n",
    "print(\"Best params: \", best_params_KELM_bin)\n",
    "print(\"Best score: \", best_score)\n",
    "\n",
    "# Visualize the optimization history\n",
    "optuna.visualization.plot_optimization_history(study)\n",
    "\n",
    "# Visualize the parameter importances\n",
    "optuna.visualization.plot_param_importances(study)\n",
    "\n",
    "# Create accuracy plots for each hyperparameter\n",
    "hyperparameters = ['C', 'gamma']\n",
    "for param in hyperparameters:\n",
    "    # Visualize the parameter relationship with accuracy\n",
    "    fig = optuna.visualization.plot_slice(study, params=[param])\n",
    "    fig.show()\n",
    "\n",
    "# Best params:  {'C': 2695.319524333166, 'gamma': 0.01553735916384662, 'num_out_units': 2}\n",
    "# Best score:  0.9874999999999998\n",
    "# Best params:  {'C': 48121.41012465776, 'gamma': 0.003090353150154412, 'num_out_units': 2}\n",
    "# Best score:  0.9872500000000001"
   ]
  },
  {
   "cell_type": "code",
   "execution_count": 13,
   "id": "d1ee944e",
   "metadata": {
    "execution": {
     "iopub.execute_input": "2024-04-26T19:05:52.490586Z",
     "iopub.status.busy": "2024-04-26T19:05:52.490136Z",
     "iopub.status.idle": "2024-04-26T19:39:07.284850Z",
     "shell.execute_reply": "2024-04-26T19:39:07.283829Z"
    },
    "papermill": {
     "duration": 1994.807262,
     "end_time": "2024-04-26T19:39:07.287618",
     "exception": false,
     "start_time": "2024-04-26T19:05:52.480356",
     "status": "completed"
    },
    "tags": []
   },
   "outputs": [
    {
     "name": "stdout",
     "output_type": "stream",
     "text": [
      "Best params:  {'C': 698.8458989849286, 'gamma': 0.035461439652010165, 'num_out_units': 37}\n",
      "Best score:  0.9862500000000001\n"
     ]
    },
    {
     "data": {
      "text/html": [
       "<div>                            <div id=\"9dba2c4f-ac51-4130-b982-f715a664f7a7\" class=\"plotly-graph-div\" style=\"height:525px; width:100%;\"></div>            <script type=\"text/javascript\">                require([\"plotly\"], function(Plotly) {                    window.PLOTLYENV=window.PLOTLYENV || {};                                    if (document.getElementById(\"9dba2c4f-ac51-4130-b982-f715a664f7a7\")) {                    Plotly.newPlot(                        \"9dba2c4f-ac51-4130-b982-f715a664f7a7\",                        [{\"marker\":{\"color\":[0,1,2,3,4,5,6,7,8,9,10,11,12,13,14,15,16,17,18,19,20,21,22,23,24,25,26,27,28,29,30,31,32,33,34,35,36,37,38,39,40,41,42,43,44,45,46,47,48,49,50,51,52,53,54,55,56,57,58,59,60,61,62,63,64,65,66,67,68,69,70,71,72,73,74,75,76,77,78,79,80,81,82,83,84,85,86,87,88,89,90,91,92,93,94,95,96,97,98,99,100,101,102,103,104,105,106,107,108,109,110,111,112,113,114,115,116,117,118,119,120,121,122,123,124,125,126,127,128,129,130,131,132,133,134,135,136,137,138,139,140,141,142,143,144,145,146,147,148,149,150,151,152,153,154,155,156,157,158,159,160,161,162,163,164,165,166,167,168,169,170,171,172,173,174,175,176,177,178,179,180,181,182,183,184,185,186,187,188,189,190,191,192,193,194,195,196,197,198,199],\"colorbar\":{\"title\":{\"text\":\"Trial\"},\"x\":1.0,\"xpad\":40},\"colorscale\":[[0.0,\"rgb(247,251,255)\"],[0.125,\"rgb(222,235,247)\"],[0.25,\"rgb(198,219,239)\"],[0.375,\"rgb(158,202,225)\"],[0.5,\"rgb(107,174,214)\"],[0.625,\"rgb(66,146,198)\"],[0.75,\"rgb(33,113,181)\"],[0.875,\"rgb(8,81,156)\"],[1.0,\"rgb(8,48,107)\"]],\"line\":{\"color\":\"Grey\",\"width\":0.5}},\"mode\":\"markers\",\"name\":\"Feasible Trial\",\"showlegend\":false,\"x\":[0.000027605828093858558,8.868765126438542e-8,11.174955375111722,0.0029034594574664815,0.015496272965201039,0.20379503216882625,126.32130677700106,1.92999661783988e-6,1465.2841900434858,412553.38679454505,23961050.542243857,4616736.861602535,28475392.02464384,56607.99295493723,49528.856165913,6343.458072656317,322.88466952304674,7868.45328241137,2971335.8893207847,2.261987968708653,1.7362464559285886,21.26757865815443,0.051533067299748214,0.00017822330807150635,10.361678773413939,36.31462512395841,12.988362619000917,60.979853838537196,0.3779643569258625,0.0003359812454129793,23.37912514865658,3.5421839409217992,396.4467985081231,843.7673357042897,59.57804722996401,0.2967006919049144,0.007763375598768861,4015.4565388121287,229.8966797335361,0.05341884942739302,8.195695239670172,224.48843191387527,703.30897547246,6.28365103882862e-8,31.795112019755717,35.53374559981405,33955.1944638226,0.5590664113712412,115.24641933465432,7.261951156298053,2438.94278285518,4375.726693338341,157947.6940290555,1749.178689812781,13107.75006830726,348844.0513268828,2669.7089210681092,17465.61681517667,17942.596688996247,114883.25094743054,3325454.2837798274,138.26376572195977,213.88375791354116,206.57207243925987,4400.723058855557,817684.2163332226,5745.537143931181,4.77791013034603e-7,1032.9707136485638,40120.52703570479,3057.34003887499,486.8619082189057,551.37801543443,15567.040922422024,509.02888616877783,7474.521501922725,75.16792294954799,1197.1629366154586,538.9382112144233,1818.5510891933122,0.9588943910733128,1131.5486363567431,932.7619475236488,110.56299355043852,3.5292062556330466,1066.0757100023372,17.81966287212671,51.0876053537886,61.09098251270033,351.669592194585,34.510588030520424,1502.874138114381,144.2637649153084,1233.4263576849023,12573.933299091812,5.642187894233627,414.11424118536365,84303.48942228973,1868.064780904548,25397.192757916095,47.14278171167066,1028.598242699111,8663.461548792347,10019.336310956432,15.093803775911683,98.08171420212254,220255.14819691738,269.47946258607317,62081.94405398817,303.0227561243138,142.02478278858027,229.25814427039253,586.8013134640003,3670.1349147965257,247.65274812143994,277.5204630993266,31.866622209595327,618.8807661981854,1964.5742284954024,589.1951134605497,6082.762979355456,88.54336693278734,72.29578838887245,181.29588174028268,766.3325244308195,385.8293766522914,579.7073082452908,1185.3404818849651,2558.1006456742634,1356.0391988856327,389.07013585980235,698.8458989849286,909.5232777964958,948.0189602362753,3301.0494497325826,351.43299015657925,397.26954007722776,666.3509123055895,643.9724289621815,5251.7532316701245,2831.6800078119277,174.04182875991054,907.5533372309684,1433.454925050711,337.6829601496368,327.9333532570526,630.3939229501972,119.55614956788457,1699.6785795060096,304.6506211368348,5399.934348466274,147.0967475506646,871.1391463503918,718.0430767347302,1885.4397515726987,417.9555076802645,230.46209689135577,725.0560571545096,2682.8763948450514,66.02834224530115,0.000020718659254052526,865.4575126509013,1417.071402917433,466.3068381674238,251.2798499226291,912.0016148660306,10022.39778239805,2873.0498420619024,107.00961689609919,652.8384033400473,0.06868333277143947,170.30946300394004,384.1721315483541,1414.554011614576,1432.0591309804815,2647.593998787985,3920.7770016970994,6607.959733758979,701.7679090491898,349.33063055701143,1649.6677220602282,1018.0432994432459,2458.7891112130937,21977.93850597628,252.53711268082614,702.0219712482353,757.9444181715006,106.40520013304426,3783.826035951986,376.50507272865764,549.5444970746106,781.2432254023253,545.4453564391105,177.4278479823839,429.46438718436224,37.987878107353275,592.7401827805235,231.49641855486743,504.94351174904716,10240512.195704123],\"y\":[0.01725,0.541,0.44475,0.541,0.91325,0.9059999999999999,0.83675,0.03825,0.9135000000000002,0.07925000000000001,0.93825,0.93825,0.9789999999999999,0.9497499999999999,0.9744999999999999,0.9755,0.9557499999999999,0.9787500000000001,0.9720000000000001,0.9795,0.86525,0.9824999999999999,0.9225,0.541,0.8720000000000001,0.984,0.9827499999999999,0.9727499999999999,0.8487499999999999,0.5415,0.9297500000000001,0.9799999999999999,0.9817500000000001,0.9790000000000001,0.0115,0.95075,0.4325,0.9732500000000002,0.98275,0.9265000000000001,0.9422499999999999,0.9797500000000001,0.9817499999999999,0.79825,0.9827499999999999,0.8585,0.97675,0.9395,0.9434999999999999,0.44625000000000004,0.9825000000000002,0.98325,0.9817500000000001,0.9804999999999999,0.9742500000000002,0.9644999999999999,0.9835,0.98375,0.9584999999999999,0.9814999999999999,0.9815000000000002,0.98475,0.98275,0.98225,0.9830000000000002,0.96975,0.9814999999999999,0.541,0.9782500000000001,0.93925,0.97875,0.9857500000000001,0.98575,0.9807500000000001,0.9815000000000002,0.9824999999999999,0.97475,0.98375,0.98225,0.97675,0.97625,0.98375,0.98375,0.983,0.96225,0.9800000000000001,0.9030000000000001,0.98475,0.040499999999999994,0.98325,0.9817499999999999,0.9857500000000001,0.98325,0.98475,0.9829999999999999,0.9772500000000001,0.9789999999999999,0.9675,0.98225,0.9797499999999999,0.9497500000000001,0.9850000000000001,0.9842500000000001,0.98375,0.9594999999999999,0.98125,0.98125,0.9855,0.9739999999999999,0.984,0.9567499999999999,0.9835,0.98275,0.9834999999999999,0.9845,0.9852500000000001,0.9825000000000002,0.9855,0.98125,0.9797500000000001,0.9830000000000002,0.98475,0.9837500000000002,0.98225,0.9860000000000001,0.98575,0.9827499999999999,0.9850000000000001,0.975,0.98325,0.77225,0.9862500000000001,0.9850000000000001,0.9817499999999999,0.9845,0.9852500000000001,0.982,0.98575,0.98125,0.98225,0.9842500000000001,0.98475,0.9837500000000002,0.98275,0.9852500000000001,0.9815000000000002,0.98375,0.983,0.98325,0.98225,0.98225,0.98325,0.9855,0.9852500000000001,0.9790000000000001,0.982,0.983,0.9842500000000001,0.9814999999999999,0.983,0.9414999999999999,0.98375,0.98475,0.9825000000000002,0.9845000000000003,0.98475,0.9784999999999998,0.9834999999999999,0.98475,0.9842500000000001,0.91875,0.9842500000000001,0.9845000000000003,0.9850000000000001,0.9845,0.9857500000000001,0.9834999999999999,0.9817500000000001,0.9810000000000001,0.982,0.98225,0.9850000000000001,0.9842500000000001,0.9824999999999999,0.984,0.98525,0.98275,0.98475,0.9844999999999999,0.98325,0.9860000000000001,0.9860000000000001,0.986,0.9842500000000001,0.9844999999999999,0.9810000000000001,0.9860000000000001,0.9815000000000002,0.98325,0.9467500000000001],\"type\":\"scatter\"}],                        {\"title\":{\"text\":\"Slice Plot\"},\"template\":{\"data\":{\"histogram2dcontour\":[{\"type\":\"histogram2dcontour\",\"colorbar\":{\"outlinewidth\":0,\"ticks\":\"\"},\"colorscale\":[[0.0,\"#0d0887\"],[0.1111111111111111,\"#46039f\"],[0.2222222222222222,\"#7201a8\"],[0.3333333333333333,\"#9c179e\"],[0.4444444444444444,\"#bd3786\"],[0.5555555555555556,\"#d8576b\"],[0.6666666666666666,\"#ed7953\"],[0.7777777777777778,\"#fb9f3a\"],[0.8888888888888888,\"#fdca26\"],[1.0,\"#f0f921\"]]}],\"choropleth\":[{\"type\":\"choropleth\",\"colorbar\":{\"outlinewidth\":0,\"ticks\":\"\"}}],\"histogram2d\":[{\"type\":\"histogram2d\",\"colorbar\":{\"outlinewidth\":0,\"ticks\":\"\"},\"colorscale\":[[0.0,\"#0d0887\"],[0.1111111111111111,\"#46039f\"],[0.2222222222222222,\"#7201a8\"],[0.3333333333333333,\"#9c179e\"],[0.4444444444444444,\"#bd3786\"],[0.5555555555555556,\"#d8576b\"],[0.6666666666666666,\"#ed7953\"],[0.7777777777777778,\"#fb9f3a\"],[0.8888888888888888,\"#fdca26\"],[1.0,\"#f0f921\"]]}],\"heatmap\":[{\"type\":\"heatmap\",\"colorbar\":{\"outlinewidth\":0,\"ticks\":\"\"},\"colorscale\":[[0.0,\"#0d0887\"],[0.1111111111111111,\"#46039f\"],[0.2222222222222222,\"#7201a8\"],[0.3333333333333333,\"#9c179e\"],[0.4444444444444444,\"#bd3786\"],[0.5555555555555556,\"#d8576b\"],[0.6666666666666666,\"#ed7953\"],[0.7777777777777778,\"#fb9f3a\"],[0.8888888888888888,\"#fdca26\"],[1.0,\"#f0f921\"]]}],\"heatmapgl\":[{\"type\":\"heatmapgl\",\"colorbar\":{\"outlinewidth\":0,\"ticks\":\"\"},\"colorscale\":[[0.0,\"#0d0887\"],[0.1111111111111111,\"#46039f\"],[0.2222222222222222,\"#7201a8\"],[0.3333333333333333,\"#9c179e\"],[0.4444444444444444,\"#bd3786\"],[0.5555555555555556,\"#d8576b\"],[0.6666666666666666,\"#ed7953\"],[0.7777777777777778,\"#fb9f3a\"],[0.8888888888888888,\"#fdca26\"],[1.0,\"#f0f921\"]]}],\"contourcarpet\":[{\"type\":\"contourcarpet\",\"colorbar\":{\"outlinewidth\":0,\"ticks\":\"\"}}],\"contour\":[{\"type\":\"contour\",\"colorbar\":{\"outlinewidth\":0,\"ticks\":\"\"},\"colorscale\":[[0.0,\"#0d0887\"],[0.1111111111111111,\"#46039f\"],[0.2222222222222222,\"#7201a8\"],[0.3333333333333333,\"#9c179e\"],[0.4444444444444444,\"#bd3786\"],[0.5555555555555556,\"#d8576b\"],[0.6666666666666666,\"#ed7953\"],[0.7777777777777778,\"#fb9f3a\"],[0.8888888888888888,\"#fdca26\"],[1.0,\"#f0f921\"]]}],\"surface\":[{\"type\":\"surface\",\"colorbar\":{\"outlinewidth\":0,\"ticks\":\"\"},\"colorscale\":[[0.0,\"#0d0887\"],[0.1111111111111111,\"#46039f\"],[0.2222222222222222,\"#7201a8\"],[0.3333333333333333,\"#9c179e\"],[0.4444444444444444,\"#bd3786\"],[0.5555555555555556,\"#d8576b\"],[0.6666666666666666,\"#ed7953\"],[0.7777777777777778,\"#fb9f3a\"],[0.8888888888888888,\"#fdca26\"],[1.0,\"#f0f921\"]]}],\"mesh3d\":[{\"type\":\"mesh3d\",\"colorbar\":{\"outlinewidth\":0,\"ticks\":\"\"}}],\"scatter\":[{\"fillpattern\":{\"fillmode\":\"overlay\",\"size\":10,\"solidity\":0.2},\"type\":\"scatter\"}],\"parcoords\":[{\"type\":\"parcoords\",\"line\":{\"colorbar\":{\"outlinewidth\":0,\"ticks\":\"\"}}}],\"scatterpolargl\":[{\"type\":\"scatterpolargl\",\"marker\":{\"colorbar\":{\"outlinewidth\":0,\"ticks\":\"\"}}}],\"bar\":[{\"error_x\":{\"color\":\"#2a3f5f\"},\"error_y\":{\"color\":\"#2a3f5f\"},\"marker\":{\"line\":{\"color\":\"#E5ECF6\",\"width\":0.5},\"pattern\":{\"fillmode\":\"overlay\",\"size\":10,\"solidity\":0.2}},\"type\":\"bar\"}],\"scattergeo\":[{\"type\":\"scattergeo\",\"marker\":{\"colorbar\":{\"outlinewidth\":0,\"ticks\":\"\"}}}],\"scatterpolar\":[{\"type\":\"scatterpolar\",\"marker\":{\"colorbar\":{\"outlinewidth\":0,\"ticks\":\"\"}}}],\"histogram\":[{\"marker\":{\"pattern\":{\"fillmode\":\"overlay\",\"size\":10,\"solidity\":0.2}},\"type\":\"histogram\"}],\"scattergl\":[{\"type\":\"scattergl\",\"marker\":{\"colorbar\":{\"outlinewidth\":0,\"ticks\":\"\"}}}],\"scatter3d\":[{\"type\":\"scatter3d\",\"line\":{\"colorbar\":{\"outlinewidth\":0,\"ticks\":\"\"}},\"marker\":{\"colorbar\":{\"outlinewidth\":0,\"ticks\":\"\"}}}],\"scattermapbox\":[{\"type\":\"scattermapbox\",\"marker\":{\"colorbar\":{\"outlinewidth\":0,\"ticks\":\"\"}}}],\"scatterternary\":[{\"type\":\"scatterternary\",\"marker\":{\"colorbar\":{\"outlinewidth\":0,\"ticks\":\"\"}}}],\"scattercarpet\":[{\"type\":\"scattercarpet\",\"marker\":{\"colorbar\":{\"outlinewidth\":0,\"ticks\":\"\"}}}],\"carpet\":[{\"aaxis\":{\"endlinecolor\":\"#2a3f5f\",\"gridcolor\":\"white\",\"linecolor\":\"white\",\"minorgridcolor\":\"white\",\"startlinecolor\":\"#2a3f5f\"},\"baxis\":{\"endlinecolor\":\"#2a3f5f\",\"gridcolor\":\"white\",\"linecolor\":\"white\",\"minorgridcolor\":\"white\",\"startlinecolor\":\"#2a3f5f\"},\"type\":\"carpet\"}],\"table\":[{\"cells\":{\"fill\":{\"color\":\"#EBF0F8\"},\"line\":{\"color\":\"white\"}},\"header\":{\"fill\":{\"color\":\"#C8D4E3\"},\"line\":{\"color\":\"white\"}},\"type\":\"table\"}],\"barpolar\":[{\"marker\":{\"line\":{\"color\":\"#E5ECF6\",\"width\":0.5},\"pattern\":{\"fillmode\":\"overlay\",\"size\":10,\"solidity\":0.2}},\"type\":\"barpolar\"}],\"pie\":[{\"automargin\":true,\"type\":\"pie\"}]},\"layout\":{\"autotypenumbers\":\"strict\",\"colorway\":[\"#636efa\",\"#EF553B\",\"#00cc96\",\"#ab63fa\",\"#FFA15A\",\"#19d3f3\",\"#FF6692\",\"#B6E880\",\"#FF97FF\",\"#FECB52\"],\"font\":{\"color\":\"#2a3f5f\"},\"hovermode\":\"closest\",\"hoverlabel\":{\"align\":\"left\"},\"paper_bgcolor\":\"white\",\"plot_bgcolor\":\"#E5ECF6\",\"polar\":{\"bgcolor\":\"#E5ECF6\",\"angularaxis\":{\"gridcolor\":\"white\",\"linecolor\":\"white\",\"ticks\":\"\"},\"radialaxis\":{\"gridcolor\":\"white\",\"linecolor\":\"white\",\"ticks\":\"\"}},\"ternary\":{\"bgcolor\":\"#E5ECF6\",\"aaxis\":{\"gridcolor\":\"white\",\"linecolor\":\"white\",\"ticks\":\"\"},\"baxis\":{\"gridcolor\":\"white\",\"linecolor\":\"white\",\"ticks\":\"\"},\"caxis\":{\"gridcolor\":\"white\",\"linecolor\":\"white\",\"ticks\":\"\"}},\"coloraxis\":{\"colorbar\":{\"outlinewidth\":0,\"ticks\":\"\"}},\"colorscale\":{\"sequential\":[[0.0,\"#0d0887\"],[0.1111111111111111,\"#46039f\"],[0.2222222222222222,\"#7201a8\"],[0.3333333333333333,\"#9c179e\"],[0.4444444444444444,\"#bd3786\"],[0.5555555555555556,\"#d8576b\"],[0.6666666666666666,\"#ed7953\"],[0.7777777777777778,\"#fb9f3a\"],[0.8888888888888888,\"#fdca26\"],[1.0,\"#f0f921\"]],\"sequentialminus\":[[0.0,\"#0d0887\"],[0.1111111111111111,\"#46039f\"],[0.2222222222222222,\"#7201a8\"],[0.3333333333333333,\"#9c179e\"],[0.4444444444444444,\"#bd3786\"],[0.5555555555555556,\"#d8576b\"],[0.6666666666666666,\"#ed7953\"],[0.7777777777777778,\"#fb9f3a\"],[0.8888888888888888,\"#fdca26\"],[1.0,\"#f0f921\"]],\"diverging\":[[0,\"#8e0152\"],[0.1,\"#c51b7d\"],[0.2,\"#de77ae\"],[0.3,\"#f1b6da\"],[0.4,\"#fde0ef\"],[0.5,\"#f7f7f7\"],[0.6,\"#e6f5d0\"],[0.7,\"#b8e186\"],[0.8,\"#7fbc41\"],[0.9,\"#4d9221\"],[1,\"#276419\"]]},\"xaxis\":{\"gridcolor\":\"white\",\"linecolor\":\"white\",\"ticks\":\"\",\"title\":{\"standoff\":15},\"zerolinecolor\":\"white\",\"automargin\":true,\"zerolinewidth\":2},\"yaxis\":{\"gridcolor\":\"white\",\"linecolor\":\"white\",\"ticks\":\"\",\"title\":{\"standoff\":15},\"zerolinecolor\":\"white\",\"automargin\":true,\"zerolinewidth\":2},\"scene\":{\"xaxis\":{\"backgroundcolor\":\"#E5ECF6\",\"gridcolor\":\"white\",\"linecolor\":\"white\",\"showbackground\":true,\"ticks\":\"\",\"zerolinecolor\":\"white\",\"gridwidth\":2},\"yaxis\":{\"backgroundcolor\":\"#E5ECF6\",\"gridcolor\":\"white\",\"linecolor\":\"white\",\"showbackground\":true,\"ticks\":\"\",\"zerolinecolor\":\"white\",\"gridwidth\":2},\"zaxis\":{\"backgroundcolor\":\"#E5ECF6\",\"gridcolor\":\"white\",\"linecolor\":\"white\",\"showbackground\":true,\"ticks\":\"\",\"zerolinecolor\":\"white\",\"gridwidth\":2}},\"shapedefaults\":{\"line\":{\"color\":\"#2a3f5f\"}},\"annotationdefaults\":{\"arrowcolor\":\"#2a3f5f\",\"arrowhead\":0,\"arrowwidth\":1},\"geo\":{\"bgcolor\":\"white\",\"landcolor\":\"#E5ECF6\",\"subunitcolor\":\"white\",\"showland\":true,\"showlakes\":true,\"lakecolor\":\"white\"},\"title\":{\"x\":0.05},\"mapbox\":{\"style\":\"light\"}}},\"xaxis\":{\"title\":{\"text\":\"C\"},\"type\":\"log\"},\"yaxis\":{\"title\":{\"text\":\"Objective Value\"}}},                        {\"responsive\": true}                    ).then(function(){\n",
       "                            \n",
       "var gd = document.getElementById('9dba2c4f-ac51-4130-b982-f715a664f7a7');\n",
       "var x = new MutationObserver(function (mutations, observer) {{\n",
       "        var display = window.getComputedStyle(gd).display;\n",
       "        if (!display || display === 'none') {{\n",
       "            console.log([gd, 'removed!']);\n",
       "            Plotly.purge(gd);\n",
       "            observer.disconnect();\n",
       "        }}\n",
       "}});\n",
       "\n",
       "// Listen for the removal of the full notebook cells\n",
       "var notebookContainer = gd.closest('#notebook-container');\n",
       "if (notebookContainer) {{\n",
       "    x.observe(notebookContainer, {childList: true});\n",
       "}}\n",
       "\n",
       "// Listen for the clearing of the current output cell\n",
       "var outputEl = gd.closest('.output');\n",
       "if (outputEl) {{\n",
       "    x.observe(outputEl, {childList: true});\n",
       "}}\n",
       "\n",
       "                        })                };                });            </script>        </div>"
      ]
     },
     "metadata": {},
     "output_type": "display_data"
    },
    {
     "data": {
      "text/html": [
       "<div>                            <div id=\"a6baa4f6-dd3b-497d-b569-1c2e934e7f2a\" class=\"plotly-graph-div\" style=\"height:525px; width:100%;\"></div>            <script type=\"text/javascript\">                require([\"plotly\"], function(Plotly) {                    window.PLOTLYENV=window.PLOTLYENV || {};                                    if (document.getElementById(\"a6baa4f6-dd3b-497d-b569-1c2e934e7f2a\")) {                    Plotly.newPlot(                        \"a6baa4f6-dd3b-497d-b569-1c2e934e7f2a\",                        [{\"marker\":{\"color\":[0,1,2,3,4,5,6,7,8,9,10,11,12,13,14,15,16,17,18,19,20,21,22,23,24,25,26,27,28,29,30,31,32,33,34,35,36,37,38,39,40,41,42,43,44,45,46,47,48,49,50,51,52,53,54,55,56,57,58,59,60,61,62,63,64,65,66,67,68,69,70,71,72,73,74,75,76,77,78,79,80,81,82,83,84,85,86,87,88,89,90,91,92,93,94,95,96,97,98,99,100,101,102,103,104,105,106,107,108,109,110,111,112,113,114,115,116,117,118,119,120,121,122,123,124,125,126,127,128,129,130,131,132,133,134,135,136,137,138,139,140,141,142,143,144,145,146,147,148,149,150,151,152,153,154,155,156,157,158,159,160,161,162,163,164,165,166,167,168,169,170,171,172,173,174,175,176,177,178,179,180,181,182,183,184,185,186,187,188,189,190,191,192,193,194,195,196,197,198,199],\"colorbar\":{\"title\":{\"text\":\"Trial\"},\"x\":1.0,\"xpad\":40},\"colorscale\":[[0.0,\"rgb(247,251,255)\"],[0.125,\"rgb(222,235,247)\"],[0.25,\"rgb(198,219,239)\"],[0.375,\"rgb(158,202,225)\"],[0.5,\"rgb(107,174,214)\"],[0.625,\"rgb(66,146,198)\"],[0.75,\"rgb(33,113,181)\"],[0.875,\"rgb(8,81,156)\"],[1.0,\"rgb(8,48,107)\"]],\"line\":{\"color\":\"Grey\",\"width\":0.5}},\"mode\":\"markers\",\"name\":\"Feasible Trial\",\"showlegend\":false,\"x\":[8095639.675461024,0.000671915030727141,2068.196523074518,2.9460148374316446e-7,0.01046297500022699,0.0006845657045150355,101.93136716280338,160531.52215168896,1.281895883461038e-7,45870.317800849996,2.7538963115850963e-7,1.0209826320826578e-7,0.000010289610593309745,0.000023741271298467834,0.1482306537247388,1.730905893488992,9.07459781384567,0.35964826634148117,9.181987941086497e-6,0.06800597337643027,0.00004957508683853664,0.03659093236128939,0.018285094672666365,0.0018531544547468882,56.07831342259041,0.07228560106488895,0.0779001516870359,3.6227977776316966,81.07448506449722,0.004433212770132756,0.0001256408189214455,0.06859348430459092,0.34635865898395346,0.7114772674636588,31602403.09701262,10.980462398182357,1927.9598902481835,0.0002600618581108596,0.01311384008698965,0.025879137246000695,0.0012674959612638,0.675555776066361,0.005210274939422587,0.018349370773647976,0.16633100058781103,1.301880120589758e-6,0.11556488243140743,14.889238291002906,0.00036389818599814996,2033.4273972365602,0.0031639586794433103,0.0031167505294853745,0.005143927089536061,0.0010970176980760178,2.8926213655628863,0.18454551716861295,0.00651246616117913,0.012204216099520122,0.00005724653459962317,0.007288665413549678,0.0005005779851765987,0.033976380330564125,0.01434773581612206,0.01256944875831913,0.03772595837319472,0.031792846828490214,0.0013368574640314553,0.00011235400418061538,1.0452529211048236,8.534262209750818e-6,0.47129546312046483,0.04557369244990589,0.04005723764907243,0.060969865536443624,0.23667768031911832,0.038655173102152975,0.002280867504959753,0.080451979921198,0.006255828226174505,1.1471337223031783,2.3948494037605714,0.0969407633654996,0.10036377376750592,0.10779746844825791,7.039244001403299,0.4114255760769216,28.851452838266702,0.07535969243330047,209876.4918274278,0.09359313294126649,0.2643930337956619,0.02192542343317232,0.025304602130820645,0.05285337633974219,0.04142889305854773,0.01192848469459867,0.8866939992176487,5.384082694618082,0.17795264571784827,0.06714690252264828,0.000866234520273322,0.01886115377773891,0.018239135757929865,0.0195103910431878,0.00235035640529378,0.009295833294076242,0.003906403284336783,0.04172655357067491,0.4033933154751742,0.021499209594022795,0.0006336891190284336,0.021097180431500877,0.00936401550397948,0.0507166002142445,0.02650163222179302,0.028935315912113423,0.2043531539991365,0.041639236262205545,0.0018276103013034526,0.6001772515453248,0.004138592712867133,0.058326125879935534,0.03660638944912724,0.18277331122469745,0.037347615658636035,0.03920245346261796,0.007173259093010857,0.04968155480231591,1.9396250600920018,0.13232374068350386,220.80300124924779,0.035461439652010165,0.05071266301245698,0.29558944113295255,0.013268824336830314,0.034422153071136496,0.006022072605185881,0.037552694420087886,0.0032058242782076777,0.12546496265826096,0.03481593641375701,0.036686846633025086,0.013944164350594212,0.007994142729095871,0.027035338552263692,0.29722282474639017,0.07636004263507386,0.019604592911105667,0.12737740256367708,0.010461123509041135,0.05455294589594935,0.0243014683550387,0.04358070564698745,0.0487527035513323,0.5406908016051657,0.005479720393801802,0.11806727003012592,0.015889895594155868,0.0018644433196789273,0.03134984473499192,0.19021025812137937,0.06482331029642055,0.043742969421046704,0.011035043271123774,0.06947738143336389,0.020958216106530373,0.2198833094543697,0.00422178105008789,0.03502374802585805,0.10608374375206522,0.008963004534222377,0.02844074178833003,0.061367276848784166,0.018803478848317626,0.013617587743318007,0.021590338046687405,0.04700218803558731,0.1202900855821641,0.358345451312095,0.008356950087268292,0.004049121148125759,0.018973765706216738,0.032614727068103685,0.01840941782797579,0.07297229738273597,0.04316223040855034,0.15375406846867615,0.04876394968937061,0.006922843342364766,0.0914345411685371,0.03519964356718381,0.0324964274001868,0.03177025332751217,0.028855336015051653,0.018776718122104453,0.013983173241652382,0.03450843527790166,0.20771761745337253,0.08533786152832783,0.03467513984695046],\"y\":[0.01725,0.541,0.44475,0.541,0.91325,0.9059999999999999,0.83675,0.03825,0.9135000000000002,0.07925000000000001,0.93825,0.93825,0.9789999999999999,0.9497499999999999,0.9744999999999999,0.9755,0.9557499999999999,0.9787500000000001,0.9720000000000001,0.9795,0.86525,0.9824999999999999,0.9225,0.541,0.8720000000000001,0.984,0.9827499999999999,0.9727499999999999,0.8487499999999999,0.5415,0.9297500000000001,0.9799999999999999,0.9817500000000001,0.9790000000000001,0.0115,0.95075,0.4325,0.9732500000000002,0.98275,0.9265000000000001,0.9422499999999999,0.9797500000000001,0.9817499999999999,0.79825,0.9827499999999999,0.8585,0.97675,0.9395,0.9434999999999999,0.44625000000000004,0.9825000000000002,0.98325,0.9817500000000001,0.9804999999999999,0.9742500000000002,0.9644999999999999,0.9835,0.98375,0.9584999999999999,0.9814999999999999,0.9815000000000002,0.98475,0.98275,0.98225,0.9830000000000002,0.96975,0.9814999999999999,0.541,0.9782500000000001,0.93925,0.97875,0.9857500000000001,0.98575,0.9807500000000001,0.9815000000000002,0.9824999999999999,0.97475,0.98375,0.98225,0.97675,0.97625,0.98375,0.98375,0.983,0.96225,0.9800000000000001,0.9030000000000001,0.98475,0.040499999999999994,0.98325,0.9817499999999999,0.9857500000000001,0.98325,0.98475,0.9829999999999999,0.9772500000000001,0.9789999999999999,0.9675,0.98225,0.9797499999999999,0.9497500000000001,0.9850000000000001,0.9842500000000001,0.98375,0.9594999999999999,0.98125,0.98125,0.9855,0.9739999999999999,0.984,0.9567499999999999,0.9835,0.98275,0.9834999999999999,0.9845,0.9852500000000001,0.9825000000000002,0.9855,0.98125,0.9797500000000001,0.9830000000000002,0.98475,0.9837500000000002,0.98225,0.9860000000000001,0.98575,0.9827499999999999,0.9850000000000001,0.975,0.98325,0.77225,0.9862500000000001,0.9850000000000001,0.9817499999999999,0.9845,0.9852500000000001,0.982,0.98575,0.98125,0.98225,0.9842500000000001,0.98475,0.9837500000000002,0.98275,0.9852500000000001,0.9815000000000002,0.98375,0.983,0.98325,0.98225,0.98225,0.98325,0.9855,0.9852500000000001,0.9790000000000001,0.982,0.983,0.9842500000000001,0.9814999999999999,0.983,0.9414999999999999,0.98375,0.98475,0.9825000000000002,0.9845000000000003,0.98475,0.9784999999999998,0.9834999999999999,0.98475,0.9842500000000001,0.91875,0.9842500000000001,0.9845000000000003,0.9850000000000001,0.9845,0.9857500000000001,0.9834999999999999,0.9817500000000001,0.9810000000000001,0.982,0.98225,0.9850000000000001,0.9842500000000001,0.9824999999999999,0.984,0.98525,0.98275,0.98475,0.9844999999999999,0.98325,0.9860000000000001,0.9860000000000001,0.986,0.9842500000000001,0.9844999999999999,0.9810000000000001,0.9860000000000001,0.9815000000000002,0.98325,0.9467500000000001],\"type\":\"scatter\"}],                        {\"title\":{\"text\":\"Slice Plot\"},\"template\":{\"data\":{\"histogram2dcontour\":[{\"type\":\"histogram2dcontour\",\"colorbar\":{\"outlinewidth\":0,\"ticks\":\"\"},\"colorscale\":[[0.0,\"#0d0887\"],[0.1111111111111111,\"#46039f\"],[0.2222222222222222,\"#7201a8\"],[0.3333333333333333,\"#9c179e\"],[0.4444444444444444,\"#bd3786\"],[0.5555555555555556,\"#d8576b\"],[0.6666666666666666,\"#ed7953\"],[0.7777777777777778,\"#fb9f3a\"],[0.8888888888888888,\"#fdca26\"],[1.0,\"#f0f921\"]]}],\"choropleth\":[{\"type\":\"choropleth\",\"colorbar\":{\"outlinewidth\":0,\"ticks\":\"\"}}],\"histogram2d\":[{\"type\":\"histogram2d\",\"colorbar\":{\"outlinewidth\":0,\"ticks\":\"\"},\"colorscale\":[[0.0,\"#0d0887\"],[0.1111111111111111,\"#46039f\"],[0.2222222222222222,\"#7201a8\"],[0.3333333333333333,\"#9c179e\"],[0.4444444444444444,\"#bd3786\"],[0.5555555555555556,\"#d8576b\"],[0.6666666666666666,\"#ed7953\"],[0.7777777777777778,\"#fb9f3a\"],[0.8888888888888888,\"#fdca26\"],[1.0,\"#f0f921\"]]}],\"heatmap\":[{\"type\":\"heatmap\",\"colorbar\":{\"outlinewidth\":0,\"ticks\":\"\"},\"colorscale\":[[0.0,\"#0d0887\"],[0.1111111111111111,\"#46039f\"],[0.2222222222222222,\"#7201a8\"],[0.3333333333333333,\"#9c179e\"],[0.4444444444444444,\"#bd3786\"],[0.5555555555555556,\"#d8576b\"],[0.6666666666666666,\"#ed7953\"],[0.7777777777777778,\"#fb9f3a\"],[0.8888888888888888,\"#fdca26\"],[1.0,\"#f0f921\"]]}],\"heatmapgl\":[{\"type\":\"heatmapgl\",\"colorbar\":{\"outlinewidth\":0,\"ticks\":\"\"},\"colorscale\":[[0.0,\"#0d0887\"],[0.1111111111111111,\"#46039f\"],[0.2222222222222222,\"#7201a8\"],[0.3333333333333333,\"#9c179e\"],[0.4444444444444444,\"#bd3786\"],[0.5555555555555556,\"#d8576b\"],[0.6666666666666666,\"#ed7953\"],[0.7777777777777778,\"#fb9f3a\"],[0.8888888888888888,\"#fdca26\"],[1.0,\"#f0f921\"]]}],\"contourcarpet\":[{\"type\":\"contourcarpet\",\"colorbar\":{\"outlinewidth\":0,\"ticks\":\"\"}}],\"contour\":[{\"type\":\"contour\",\"colorbar\":{\"outlinewidth\":0,\"ticks\":\"\"},\"colorscale\":[[0.0,\"#0d0887\"],[0.1111111111111111,\"#46039f\"],[0.2222222222222222,\"#7201a8\"],[0.3333333333333333,\"#9c179e\"],[0.4444444444444444,\"#bd3786\"],[0.5555555555555556,\"#d8576b\"],[0.6666666666666666,\"#ed7953\"],[0.7777777777777778,\"#fb9f3a\"],[0.8888888888888888,\"#fdca26\"],[1.0,\"#f0f921\"]]}],\"surface\":[{\"type\":\"surface\",\"colorbar\":{\"outlinewidth\":0,\"ticks\":\"\"},\"colorscale\":[[0.0,\"#0d0887\"],[0.1111111111111111,\"#46039f\"],[0.2222222222222222,\"#7201a8\"],[0.3333333333333333,\"#9c179e\"],[0.4444444444444444,\"#bd3786\"],[0.5555555555555556,\"#d8576b\"],[0.6666666666666666,\"#ed7953\"],[0.7777777777777778,\"#fb9f3a\"],[0.8888888888888888,\"#fdca26\"],[1.0,\"#f0f921\"]]}],\"mesh3d\":[{\"type\":\"mesh3d\",\"colorbar\":{\"outlinewidth\":0,\"ticks\":\"\"}}],\"scatter\":[{\"fillpattern\":{\"fillmode\":\"overlay\",\"size\":10,\"solidity\":0.2},\"type\":\"scatter\"}],\"parcoords\":[{\"type\":\"parcoords\",\"line\":{\"colorbar\":{\"outlinewidth\":0,\"ticks\":\"\"}}}],\"scatterpolargl\":[{\"type\":\"scatterpolargl\",\"marker\":{\"colorbar\":{\"outlinewidth\":0,\"ticks\":\"\"}}}],\"bar\":[{\"error_x\":{\"color\":\"#2a3f5f\"},\"error_y\":{\"color\":\"#2a3f5f\"},\"marker\":{\"line\":{\"color\":\"#E5ECF6\",\"width\":0.5},\"pattern\":{\"fillmode\":\"overlay\",\"size\":10,\"solidity\":0.2}},\"type\":\"bar\"}],\"scattergeo\":[{\"type\":\"scattergeo\",\"marker\":{\"colorbar\":{\"outlinewidth\":0,\"ticks\":\"\"}}}],\"scatterpolar\":[{\"type\":\"scatterpolar\",\"marker\":{\"colorbar\":{\"outlinewidth\":0,\"ticks\":\"\"}}}],\"histogram\":[{\"marker\":{\"pattern\":{\"fillmode\":\"overlay\",\"size\":10,\"solidity\":0.2}},\"type\":\"histogram\"}],\"scattergl\":[{\"type\":\"scattergl\",\"marker\":{\"colorbar\":{\"outlinewidth\":0,\"ticks\":\"\"}}}],\"scatter3d\":[{\"type\":\"scatter3d\",\"line\":{\"colorbar\":{\"outlinewidth\":0,\"ticks\":\"\"}},\"marker\":{\"colorbar\":{\"outlinewidth\":0,\"ticks\":\"\"}}}],\"scattermapbox\":[{\"type\":\"scattermapbox\",\"marker\":{\"colorbar\":{\"outlinewidth\":0,\"ticks\":\"\"}}}],\"scatterternary\":[{\"type\":\"scatterternary\",\"marker\":{\"colorbar\":{\"outlinewidth\":0,\"ticks\":\"\"}}}],\"scattercarpet\":[{\"type\":\"scattercarpet\",\"marker\":{\"colorbar\":{\"outlinewidth\":0,\"ticks\":\"\"}}}],\"carpet\":[{\"aaxis\":{\"endlinecolor\":\"#2a3f5f\",\"gridcolor\":\"white\",\"linecolor\":\"white\",\"minorgridcolor\":\"white\",\"startlinecolor\":\"#2a3f5f\"},\"baxis\":{\"endlinecolor\":\"#2a3f5f\",\"gridcolor\":\"white\",\"linecolor\":\"white\",\"minorgridcolor\":\"white\",\"startlinecolor\":\"#2a3f5f\"},\"type\":\"carpet\"}],\"table\":[{\"cells\":{\"fill\":{\"color\":\"#EBF0F8\"},\"line\":{\"color\":\"white\"}},\"header\":{\"fill\":{\"color\":\"#C8D4E3\"},\"line\":{\"color\":\"white\"}},\"type\":\"table\"}],\"barpolar\":[{\"marker\":{\"line\":{\"color\":\"#E5ECF6\",\"width\":0.5},\"pattern\":{\"fillmode\":\"overlay\",\"size\":10,\"solidity\":0.2}},\"type\":\"barpolar\"}],\"pie\":[{\"automargin\":true,\"type\":\"pie\"}]},\"layout\":{\"autotypenumbers\":\"strict\",\"colorway\":[\"#636efa\",\"#EF553B\",\"#00cc96\",\"#ab63fa\",\"#FFA15A\",\"#19d3f3\",\"#FF6692\",\"#B6E880\",\"#FF97FF\",\"#FECB52\"],\"font\":{\"color\":\"#2a3f5f\"},\"hovermode\":\"closest\",\"hoverlabel\":{\"align\":\"left\"},\"paper_bgcolor\":\"white\",\"plot_bgcolor\":\"#E5ECF6\",\"polar\":{\"bgcolor\":\"#E5ECF6\",\"angularaxis\":{\"gridcolor\":\"white\",\"linecolor\":\"white\",\"ticks\":\"\"},\"radialaxis\":{\"gridcolor\":\"white\",\"linecolor\":\"white\",\"ticks\":\"\"}},\"ternary\":{\"bgcolor\":\"#E5ECF6\",\"aaxis\":{\"gridcolor\":\"white\",\"linecolor\":\"white\",\"ticks\":\"\"},\"baxis\":{\"gridcolor\":\"white\",\"linecolor\":\"white\",\"ticks\":\"\"},\"caxis\":{\"gridcolor\":\"white\",\"linecolor\":\"white\",\"ticks\":\"\"}},\"coloraxis\":{\"colorbar\":{\"outlinewidth\":0,\"ticks\":\"\"}},\"colorscale\":{\"sequential\":[[0.0,\"#0d0887\"],[0.1111111111111111,\"#46039f\"],[0.2222222222222222,\"#7201a8\"],[0.3333333333333333,\"#9c179e\"],[0.4444444444444444,\"#bd3786\"],[0.5555555555555556,\"#d8576b\"],[0.6666666666666666,\"#ed7953\"],[0.7777777777777778,\"#fb9f3a\"],[0.8888888888888888,\"#fdca26\"],[1.0,\"#f0f921\"]],\"sequentialminus\":[[0.0,\"#0d0887\"],[0.1111111111111111,\"#46039f\"],[0.2222222222222222,\"#7201a8\"],[0.3333333333333333,\"#9c179e\"],[0.4444444444444444,\"#bd3786\"],[0.5555555555555556,\"#d8576b\"],[0.6666666666666666,\"#ed7953\"],[0.7777777777777778,\"#fb9f3a\"],[0.8888888888888888,\"#fdca26\"],[1.0,\"#f0f921\"]],\"diverging\":[[0,\"#8e0152\"],[0.1,\"#c51b7d\"],[0.2,\"#de77ae\"],[0.3,\"#f1b6da\"],[0.4,\"#fde0ef\"],[0.5,\"#f7f7f7\"],[0.6,\"#e6f5d0\"],[0.7,\"#b8e186\"],[0.8,\"#7fbc41\"],[0.9,\"#4d9221\"],[1,\"#276419\"]]},\"xaxis\":{\"gridcolor\":\"white\",\"linecolor\":\"white\",\"ticks\":\"\",\"title\":{\"standoff\":15},\"zerolinecolor\":\"white\",\"automargin\":true,\"zerolinewidth\":2},\"yaxis\":{\"gridcolor\":\"white\",\"linecolor\":\"white\",\"ticks\":\"\",\"title\":{\"standoff\":15},\"zerolinecolor\":\"white\",\"automargin\":true,\"zerolinewidth\":2},\"scene\":{\"xaxis\":{\"backgroundcolor\":\"#E5ECF6\",\"gridcolor\":\"white\",\"linecolor\":\"white\",\"showbackground\":true,\"ticks\":\"\",\"zerolinecolor\":\"white\",\"gridwidth\":2},\"yaxis\":{\"backgroundcolor\":\"#E5ECF6\",\"gridcolor\":\"white\",\"linecolor\":\"white\",\"showbackground\":true,\"ticks\":\"\",\"zerolinecolor\":\"white\",\"gridwidth\":2},\"zaxis\":{\"backgroundcolor\":\"#E5ECF6\",\"gridcolor\":\"white\",\"linecolor\":\"white\",\"showbackground\":true,\"ticks\":\"\",\"zerolinecolor\":\"white\",\"gridwidth\":2}},\"shapedefaults\":{\"line\":{\"color\":\"#2a3f5f\"}},\"annotationdefaults\":{\"arrowcolor\":\"#2a3f5f\",\"arrowhead\":0,\"arrowwidth\":1},\"geo\":{\"bgcolor\":\"white\",\"landcolor\":\"#E5ECF6\",\"subunitcolor\":\"white\",\"showland\":true,\"showlakes\":true,\"lakecolor\":\"white\"},\"title\":{\"x\":0.05},\"mapbox\":{\"style\":\"light\"}}},\"xaxis\":{\"title\":{\"text\":\"gamma\"},\"type\":\"log\"},\"yaxis\":{\"title\":{\"text\":\"Objective Value\"}}},                        {\"responsive\": true}                    ).then(function(){\n",
       "                            \n",
       "var gd = document.getElementById('a6baa4f6-dd3b-497d-b569-1c2e934e7f2a');\n",
       "var x = new MutationObserver(function (mutations, observer) {{\n",
       "        var display = window.getComputedStyle(gd).display;\n",
       "        if (!display || display === 'none') {{\n",
       "            console.log([gd, 'removed!']);\n",
       "            Plotly.purge(gd);\n",
       "            observer.disconnect();\n",
       "        }}\n",
       "}});\n",
       "\n",
       "// Listen for the removal of the full notebook cells\n",
       "var notebookContainer = gd.closest('#notebook-container');\n",
       "if (notebookContainer) {{\n",
       "    x.observe(notebookContainer, {childList: true});\n",
       "}}\n",
       "\n",
       "// Listen for the clearing of the current output cell\n",
       "var outputEl = gd.closest('.output');\n",
       "if (outputEl) {{\n",
       "    x.observe(outputEl, {childList: true});\n",
       "}}\n",
       "\n",
       "                        })                };                });            </script>        </div>"
      ]
     },
     "metadata": {},
     "output_type": "display_data"
    }
   ],
   "source": [
    "# KELM\n",
    "# Create an Optuna study\n",
    "study = optuna.create_study(direction='maximize')\n",
    "\n",
    "# Optimize the hyperparameters\n",
    "study.optimize(objective_KELM, n_trials=200)\n",
    "\n",
    "# Get the best parameters and best score\n",
    "best_params_KELM = study.best_params\n",
    "best_score = study.best_value\n",
    "\n",
    "print(\"Best params: \", best_params_KELM)\n",
    "print(\"Best score: \", best_score)\n",
    "\n",
    "# Visualize the optimization history\n",
    "optuna.visualization.plot_optimization_history(study)\n",
    "\n",
    "# Visualize the parameter importances\n",
    "optuna.visualization.plot_param_importances(study)\n",
    "\n",
    "# Create accuracy plots for each hyperparameter\n",
    "hyperparameters = ['C', 'gamma']\n",
    "for param in hyperparameters:\n",
    "    # Visualize the parameter relationship with accuracy\n",
    "    fig = optuna.visualization.plot_slice(study, params=[param])\n",
    "    fig.show()\n",
    "\n",
    "# Best params:  {'C': 693.4338672757635, 'gamma': 0.037970452844140454, 'num_out_units': 37}\n",
    "# Best score:  0.9860000000000001\n",
    "# Best params:  {'C': 2149.624455236542, 'gamma': 0.02036344623502429, 'num_out_units': 37}\n",
    "# Best score:  0.9855"
   ]
  },
  {
   "cell_type": "code",
   "execution_count": 14,
   "id": "f5688f8d",
   "metadata": {
    "execution": {
     "iopub.execute_input": "2024-04-26T19:39:07.362849Z",
     "iopub.status.busy": "2024-04-26T19:39:07.362470Z",
     "iopub.status.idle": "2024-04-26T19:46:58.015510Z",
     "shell.execute_reply": "2024-04-26T19:46:58.014313Z"
    },
    "papermill": {
     "duration": 470.666398,
     "end_time": "2024-04-26T19:46:58.018675",
     "exception": false,
     "start_time": "2024-04-26T19:39:07.352277",
     "status": "completed"
    },
    "tags": []
   },
   "outputs": [
    {
     "name": "stdout",
     "output_type": "stream",
     "text": [
      "Best params:  {'C': 391.14684625382284, 'gamma': 0.02916532074296789, 'kernel': 'rbf'}\n",
      "Best score:  0.9865\n"
     ]
    },
    {
     "data": {
      "text/html": [
       "<div>                            <div id=\"a337e5ae-c043-4d10-8878-70b8e46f61ef\" class=\"plotly-graph-div\" style=\"height:525px; width:100%;\"></div>            <script type=\"text/javascript\">                require([\"plotly\"], function(Plotly) {                    window.PLOTLYENV=window.PLOTLYENV || {};                                    if (document.getElementById(\"a337e5ae-c043-4d10-8878-70b8e46f61ef\")) {                    Plotly.newPlot(                        \"a337e5ae-c043-4d10-8878-70b8e46f61ef\",                        [{\"marker\":{\"color\":[0,1,2,3,4,5,6,7,8,9,10,11,12,13,14,15,16,17,18,19,20,21,22,23,24,25,26,27,28,29,30,31,32,33,34,35,36,37,38,39,40,41,42,43,44,45,46,47,48,49,50,51,52,53,54,55,56,57,58,59,60,61,62,63,64,65,66,67,68,69,70,71,72,73,74,75,76,77,78,79,80,81,82,83,84,85,86,87,88,89,90,91,92,93,94,95,96,97,98,99,100,101,102,103,104,105,106,107,108,109,110,111,112,113,114,115,116,117,118,119,120,121,122,123,124,125,126,127,128,129,130,131,132,133,134,135,136,137,138,139,140,141,142,143,144,145,146,147,148,149,150,151,152,153,154,155,156,157,158,159,160,161,162,163,164,165,166,167,168,169,170,171,172,173,174,175,176,177,178,179,180,181,182,183,184,185,186,187,188,189,190,191,192,193,194,195,196,197,198,199],\"colorbar\":{\"title\":{\"text\":\"Trial\"},\"x\":1.0,\"xpad\":40},\"colorscale\":[[0.0,\"rgb(247,251,255)\"],[0.125,\"rgb(222,235,247)\"],[0.25,\"rgb(198,219,239)\"],[0.375,\"rgb(158,202,225)\"],[0.5,\"rgb(107,174,214)\"],[0.625,\"rgb(66,146,198)\"],[0.75,\"rgb(33,113,181)\"],[0.875,\"rgb(8,81,156)\"],[1.0,\"rgb(8,48,107)\"]],\"line\":{\"color\":\"Grey\",\"width\":0.5}},\"mode\":\"markers\",\"name\":\"Feasible Trial\",\"showlegend\":false,\"x\":[280.5955672363151,0.000011636787716461983,1.2897589170595556e-7,530812.8998971798,4035030.964427911,0.06323190099287597,0.00004156100536944929,44.9196460790007,0.017618618942569844,602.8546755918766,116.42459896322453,24356374.56680268,94101.57128487148,5.320098151469089,25867.38567394335,25788659.646949425,0.8222185310801676,7394.7107800845815,0.0013209165268583821,1371893.024182687,19.397342181524113,5.316197896602669,8.07477443495861,0.7047966434572914,0.14971102802022804,2139.4004923964735,44.95139858772484,0.010724551727085052,3.1498130663335844,294.5031219243023,0.0010491739711685948,41.668611872965876,13.356059807257758,1646.7723745360945,88.15238441074891,0.3583918496525823,3.4415303810340307,8.362580169122244e-8,0.029724343782961963,58325.751032534914,2.4267234690155955e-6,43.084948803136236,28.521855289200538,389.2910495761082,12.72772068051818,1.7580059076208383,3831.74044629246,92.42869993494082,0.1240382522991555,0.006658023098310334,13920.309616755478,31.046832730381265,815.2380767805935,61.54927698503347,5.845006167071502,245.2175567315731,0.3446419967523775,12.58686612169138,270105.1028965261,0.8971709312539118,42.07493393094395,164.34229037069494,6.9534110770556365,591.402716791124,1.937195528701055,40.149706996970124,1604.2833106210967,20.99121793860592,131.39547592219563,138.10443263437116,3988.8593117954265,4.505417494922261,0.5590763364148209,578.6815636303238,597.4731414930162,10836.046385115678,10.697493757723658,8.83111866367419,0.18982016845586402,185.9013654370525,1.473335385931019,25.889539593308452,19.81793252180337,24.700901271545735,3.0729923525171032,14.304403702656284,15.961547463736775,0.04145027290884596,67.12225723914666,2.1553358014960344,7.345520547234177,15.75815097293655,21.74227122311192,54.73523055889444,1.1384597530643568,9.30731141976935,3.654064715165587,0.4373620263193122,0.21414163745737494,7.021072256024754,85.3466147254999,15.61167257658565,304.6689786820326,33.41576772321913,0.9763058493938847,9.882693084088517,0.09297302557453997,1196.9134475976375,38.47337074049399,3.0879441025532506,107.35921964290846,168.91775093415643,18.10354439372909,311.26930184883156,6.169962237998608,65.16684105365074,11.586232020888477,57.58037171411616,2.1557120290766614,28.0465381453776,4.043202610711148,116.48863970340562,77.36214978392336,29.410784943143923,12.246940120225325,177.14439196740182,6.248055893095622,391.14684625382284,697.2741397000196,4.874683079116076e-7,363.47762105207323,3075.4518612656907,43.3314238256552,57.95237515719996,20.210459946853373,1.5919909756044728,1.2172792422050736,0.000038874029970964845,3.516659587801874,0.620377915178798,34.04182184255793,9.365636937403051,9.658971482448218,1.8260502931565477,6.064861380560223,63.68343690716503,22.733321874573534,254.36561462512978,11.832860387946425,5966313.434103776,3.590083889081221,40.63009914870567,17.42344865211642,105.70737169410722,6.762765768340039,2.3264701975726942,39.72409017381993,12.16868300135932,95.53558235977722,0.2971343609565261,0.9202915847578811,209.76162779664594,22.74792876020995,56.98780873775965,1265.4215127920158,136.11658476743477,6.132783084855746,422.90350241471947,12.405703803538797,4.081397144902791,28.02551021240234,17.05349024748519,80.61878207934492,63.453438574894165,63.6142734521957,45.4815006806986,45.969677838789615,49.49510530788286,52.129933619307316,117.51872466801171,198.70185235278183,104.79128739694235,108.718038293741,479.23340012485437,679.3469145664956,374.82530621402583,198.14041226590874,1677.6576078708615,206.02667576127882,883.2945478237584,296.4053707822588,177.4946957589059,139.45740527134504,443.4255302595567,166.55127575580164,181.57302335928253,194.9071338463703,2943.0322614068996,450.9634109223366,306.3119664607508],\"y\":[0.9469999999999998,0.541,0.541,0.9497499999999999,0.98125,0.541,0.541,0.9844999999999999,0.541,0.5427500000000001,0.92975,0.97525,0.9789999999999999,0.9567499999999999,0.95175,0.65825,0.97075,0.8210000000000001,0.541,0.96,0.9827499999999999,0.98575,0.9852500000000001,0.735,0.942,0.9564999999999999,0.9855,0.541,0.922,0.921,0.541,0.9845,0.9827499999999999,0.984,0.9844999999999999,0.7344999999999999,0.9730000000000001,0.541,0.7925,0.9467500000000001,0.541,0.98575,0.9862500000000001,0.9842500000000001,0.9785000000000001,0.9700000000000001,0.95975,0.9642500000000002,0.8957499999999999,0.9174999999999999,0.9832500000000002,0.9789999999999999,0.98325,0.9412499999999999,0.983,0.9647500000000001,0.8692499999999999,0.66125,0.5427500000000001,0.9804999999999999,0.9840000000000002,0.9832500000000002,0.9807500000000001,0.9835,0.9800000000000001,0.9707500000000001,0.9380000000000001,0.96225,0.9850000000000001,0.984,0.9835,0.9814999999999999,0.9757500000000002,0.98475,0.98425,0.9790000000000001,0.98575,0.9469999999999998,0.9497499999999999,0.984,0.9755,0.98525,0.98575,0.9592499999999999,0.98275,0.98575,0.98525,0.9114999999999999,0.8975000000000002,0.961,0.9269999999999999,0.98475,0.98475,0.961,0.9747499999999999,0.98575,0.9695,0.969,0.9544999999999998,0.94825,0.9844999999999999,0.9850000000000001,0.9672499999999999,0.9845,0.9807499999999999,0.98325,0.9285,0.962,0.85925,0.98275,0.984,0.9832500000000002,0.984,0.9842500000000001,0.9815000000000002,0.9855,0.9715,0.98375,0.954,0.9547500000000001,0.98325,0.98475,0.9837499999999999,0.98475,0.9772500000000001,0.9842500000000001,0.9665000000000001,0.9865,0.9835,0.541,0.982,0.9795,0.9852500000000001,0.98375,0.9845,0.9852500000000001,0.9800000000000001,0.541,0.9737500000000001,0.9607499999999998,0.984,0.98575,0.9837499999999999,0.5467500000000001,0.98475,0.9845,0.98425,0.98375,0.978,0.9655000000000001,0.541,0.9842500000000001,0.9827499999999999,0.9842500000000001,0.98125,0.9732500000000002,0.9845,0.98375,0.9844999999999999,0.9545,0.9810000000000001,0.9842500000000001,0.9792500000000001,0.985,0.982,0.9817500000000001,0.98275,0.98475,0.975,0.9785,0.96025,0.9845,0.98525,0.9860000000000001,0.9862500000000001,0.9860000000000001,0.9862500000000001,0.9865,0.98325,0.98575,0.983,0.9860000000000001,0.9855,0.9862500000000001,0.9842500000000001,0.9855,0.986,0.9835,0.9860000000000001,0.98475,0.983,0.9862500000000001,0.985,0.9842500000000001,0.986,0.9862500000000001,0.9805000000000001,0.9804999999999999,0.985,0.9860000000000001],\"type\":\"scatter\"}],                        {\"title\":{\"text\":\"Slice Plot\"},\"template\":{\"data\":{\"histogram2dcontour\":[{\"type\":\"histogram2dcontour\",\"colorbar\":{\"outlinewidth\":0,\"ticks\":\"\"},\"colorscale\":[[0.0,\"#0d0887\"],[0.1111111111111111,\"#46039f\"],[0.2222222222222222,\"#7201a8\"],[0.3333333333333333,\"#9c179e\"],[0.4444444444444444,\"#bd3786\"],[0.5555555555555556,\"#d8576b\"],[0.6666666666666666,\"#ed7953\"],[0.7777777777777778,\"#fb9f3a\"],[0.8888888888888888,\"#fdca26\"],[1.0,\"#f0f921\"]]}],\"choropleth\":[{\"type\":\"choropleth\",\"colorbar\":{\"outlinewidth\":0,\"ticks\":\"\"}}],\"histogram2d\":[{\"type\":\"histogram2d\",\"colorbar\":{\"outlinewidth\":0,\"ticks\":\"\"},\"colorscale\":[[0.0,\"#0d0887\"],[0.1111111111111111,\"#46039f\"],[0.2222222222222222,\"#7201a8\"],[0.3333333333333333,\"#9c179e\"],[0.4444444444444444,\"#bd3786\"],[0.5555555555555556,\"#d8576b\"],[0.6666666666666666,\"#ed7953\"],[0.7777777777777778,\"#fb9f3a\"],[0.8888888888888888,\"#fdca26\"],[1.0,\"#f0f921\"]]}],\"heatmap\":[{\"type\":\"heatmap\",\"colorbar\":{\"outlinewidth\":0,\"ticks\":\"\"},\"colorscale\":[[0.0,\"#0d0887\"],[0.1111111111111111,\"#46039f\"],[0.2222222222222222,\"#7201a8\"],[0.3333333333333333,\"#9c179e\"],[0.4444444444444444,\"#bd3786\"],[0.5555555555555556,\"#d8576b\"],[0.6666666666666666,\"#ed7953\"],[0.7777777777777778,\"#fb9f3a\"],[0.8888888888888888,\"#fdca26\"],[1.0,\"#f0f921\"]]}],\"heatmapgl\":[{\"type\":\"heatmapgl\",\"colorbar\":{\"outlinewidth\":0,\"ticks\":\"\"},\"colorscale\":[[0.0,\"#0d0887\"],[0.1111111111111111,\"#46039f\"],[0.2222222222222222,\"#7201a8\"],[0.3333333333333333,\"#9c179e\"],[0.4444444444444444,\"#bd3786\"],[0.5555555555555556,\"#d8576b\"],[0.6666666666666666,\"#ed7953\"],[0.7777777777777778,\"#fb9f3a\"],[0.8888888888888888,\"#fdca26\"],[1.0,\"#f0f921\"]]}],\"contourcarpet\":[{\"type\":\"contourcarpet\",\"colorbar\":{\"outlinewidth\":0,\"ticks\":\"\"}}],\"contour\":[{\"type\":\"contour\",\"colorbar\":{\"outlinewidth\":0,\"ticks\":\"\"},\"colorscale\":[[0.0,\"#0d0887\"],[0.1111111111111111,\"#46039f\"],[0.2222222222222222,\"#7201a8\"],[0.3333333333333333,\"#9c179e\"],[0.4444444444444444,\"#bd3786\"],[0.5555555555555556,\"#d8576b\"],[0.6666666666666666,\"#ed7953\"],[0.7777777777777778,\"#fb9f3a\"],[0.8888888888888888,\"#fdca26\"],[1.0,\"#f0f921\"]]}],\"surface\":[{\"type\":\"surface\",\"colorbar\":{\"outlinewidth\":0,\"ticks\":\"\"},\"colorscale\":[[0.0,\"#0d0887\"],[0.1111111111111111,\"#46039f\"],[0.2222222222222222,\"#7201a8\"],[0.3333333333333333,\"#9c179e\"],[0.4444444444444444,\"#bd3786\"],[0.5555555555555556,\"#d8576b\"],[0.6666666666666666,\"#ed7953\"],[0.7777777777777778,\"#fb9f3a\"],[0.8888888888888888,\"#fdca26\"],[1.0,\"#f0f921\"]]}],\"mesh3d\":[{\"type\":\"mesh3d\",\"colorbar\":{\"outlinewidth\":0,\"ticks\":\"\"}}],\"scatter\":[{\"fillpattern\":{\"fillmode\":\"overlay\",\"size\":10,\"solidity\":0.2},\"type\":\"scatter\"}],\"parcoords\":[{\"type\":\"parcoords\",\"line\":{\"colorbar\":{\"outlinewidth\":0,\"ticks\":\"\"}}}],\"scatterpolargl\":[{\"type\":\"scatterpolargl\",\"marker\":{\"colorbar\":{\"outlinewidth\":0,\"ticks\":\"\"}}}],\"bar\":[{\"error_x\":{\"color\":\"#2a3f5f\"},\"error_y\":{\"color\":\"#2a3f5f\"},\"marker\":{\"line\":{\"color\":\"#E5ECF6\",\"width\":0.5},\"pattern\":{\"fillmode\":\"overlay\",\"size\":10,\"solidity\":0.2}},\"type\":\"bar\"}],\"scattergeo\":[{\"type\":\"scattergeo\",\"marker\":{\"colorbar\":{\"outlinewidth\":0,\"ticks\":\"\"}}}],\"scatterpolar\":[{\"type\":\"scatterpolar\",\"marker\":{\"colorbar\":{\"outlinewidth\":0,\"ticks\":\"\"}}}],\"histogram\":[{\"marker\":{\"pattern\":{\"fillmode\":\"overlay\",\"size\":10,\"solidity\":0.2}},\"type\":\"histogram\"}],\"scattergl\":[{\"type\":\"scattergl\",\"marker\":{\"colorbar\":{\"outlinewidth\":0,\"ticks\":\"\"}}}],\"scatter3d\":[{\"type\":\"scatter3d\",\"line\":{\"colorbar\":{\"outlinewidth\":0,\"ticks\":\"\"}},\"marker\":{\"colorbar\":{\"outlinewidth\":0,\"ticks\":\"\"}}}],\"scattermapbox\":[{\"type\":\"scattermapbox\",\"marker\":{\"colorbar\":{\"outlinewidth\":0,\"ticks\":\"\"}}}],\"scatterternary\":[{\"type\":\"scatterternary\",\"marker\":{\"colorbar\":{\"outlinewidth\":0,\"ticks\":\"\"}}}],\"scattercarpet\":[{\"type\":\"scattercarpet\",\"marker\":{\"colorbar\":{\"outlinewidth\":0,\"ticks\":\"\"}}}],\"carpet\":[{\"aaxis\":{\"endlinecolor\":\"#2a3f5f\",\"gridcolor\":\"white\",\"linecolor\":\"white\",\"minorgridcolor\":\"white\",\"startlinecolor\":\"#2a3f5f\"},\"baxis\":{\"endlinecolor\":\"#2a3f5f\",\"gridcolor\":\"white\",\"linecolor\":\"white\",\"minorgridcolor\":\"white\",\"startlinecolor\":\"#2a3f5f\"},\"type\":\"carpet\"}],\"table\":[{\"cells\":{\"fill\":{\"color\":\"#EBF0F8\"},\"line\":{\"color\":\"white\"}},\"header\":{\"fill\":{\"color\":\"#C8D4E3\"},\"line\":{\"color\":\"white\"}},\"type\":\"table\"}],\"barpolar\":[{\"marker\":{\"line\":{\"color\":\"#E5ECF6\",\"width\":0.5},\"pattern\":{\"fillmode\":\"overlay\",\"size\":10,\"solidity\":0.2}},\"type\":\"barpolar\"}],\"pie\":[{\"automargin\":true,\"type\":\"pie\"}]},\"layout\":{\"autotypenumbers\":\"strict\",\"colorway\":[\"#636efa\",\"#EF553B\",\"#00cc96\",\"#ab63fa\",\"#FFA15A\",\"#19d3f3\",\"#FF6692\",\"#B6E880\",\"#FF97FF\",\"#FECB52\"],\"font\":{\"color\":\"#2a3f5f\"},\"hovermode\":\"closest\",\"hoverlabel\":{\"align\":\"left\"},\"paper_bgcolor\":\"white\",\"plot_bgcolor\":\"#E5ECF6\",\"polar\":{\"bgcolor\":\"#E5ECF6\",\"angularaxis\":{\"gridcolor\":\"white\",\"linecolor\":\"white\",\"ticks\":\"\"},\"radialaxis\":{\"gridcolor\":\"white\",\"linecolor\":\"white\",\"ticks\":\"\"}},\"ternary\":{\"bgcolor\":\"#E5ECF6\",\"aaxis\":{\"gridcolor\":\"white\",\"linecolor\":\"white\",\"ticks\":\"\"},\"baxis\":{\"gridcolor\":\"white\",\"linecolor\":\"white\",\"ticks\":\"\"},\"caxis\":{\"gridcolor\":\"white\",\"linecolor\":\"white\",\"ticks\":\"\"}},\"coloraxis\":{\"colorbar\":{\"outlinewidth\":0,\"ticks\":\"\"}},\"colorscale\":{\"sequential\":[[0.0,\"#0d0887\"],[0.1111111111111111,\"#46039f\"],[0.2222222222222222,\"#7201a8\"],[0.3333333333333333,\"#9c179e\"],[0.4444444444444444,\"#bd3786\"],[0.5555555555555556,\"#d8576b\"],[0.6666666666666666,\"#ed7953\"],[0.7777777777777778,\"#fb9f3a\"],[0.8888888888888888,\"#fdca26\"],[1.0,\"#f0f921\"]],\"sequentialminus\":[[0.0,\"#0d0887\"],[0.1111111111111111,\"#46039f\"],[0.2222222222222222,\"#7201a8\"],[0.3333333333333333,\"#9c179e\"],[0.4444444444444444,\"#bd3786\"],[0.5555555555555556,\"#d8576b\"],[0.6666666666666666,\"#ed7953\"],[0.7777777777777778,\"#fb9f3a\"],[0.8888888888888888,\"#fdca26\"],[1.0,\"#f0f921\"]],\"diverging\":[[0,\"#8e0152\"],[0.1,\"#c51b7d\"],[0.2,\"#de77ae\"],[0.3,\"#f1b6da\"],[0.4,\"#fde0ef\"],[0.5,\"#f7f7f7\"],[0.6,\"#e6f5d0\"],[0.7,\"#b8e186\"],[0.8,\"#7fbc41\"],[0.9,\"#4d9221\"],[1,\"#276419\"]]},\"xaxis\":{\"gridcolor\":\"white\",\"linecolor\":\"white\",\"ticks\":\"\",\"title\":{\"standoff\":15},\"zerolinecolor\":\"white\",\"automargin\":true,\"zerolinewidth\":2},\"yaxis\":{\"gridcolor\":\"white\",\"linecolor\":\"white\",\"ticks\":\"\",\"title\":{\"standoff\":15},\"zerolinecolor\":\"white\",\"automargin\":true,\"zerolinewidth\":2},\"scene\":{\"xaxis\":{\"backgroundcolor\":\"#E5ECF6\",\"gridcolor\":\"white\",\"linecolor\":\"white\",\"showbackground\":true,\"ticks\":\"\",\"zerolinecolor\":\"white\",\"gridwidth\":2},\"yaxis\":{\"backgroundcolor\":\"#E5ECF6\",\"gridcolor\":\"white\",\"linecolor\":\"white\",\"showbackground\":true,\"ticks\":\"\",\"zerolinecolor\":\"white\",\"gridwidth\":2},\"zaxis\":{\"backgroundcolor\":\"#E5ECF6\",\"gridcolor\":\"white\",\"linecolor\":\"white\",\"showbackground\":true,\"ticks\":\"\",\"zerolinecolor\":\"white\",\"gridwidth\":2}},\"shapedefaults\":{\"line\":{\"color\":\"#2a3f5f\"}},\"annotationdefaults\":{\"arrowcolor\":\"#2a3f5f\",\"arrowhead\":0,\"arrowwidth\":1},\"geo\":{\"bgcolor\":\"white\",\"landcolor\":\"#E5ECF6\",\"subunitcolor\":\"white\",\"showland\":true,\"showlakes\":true,\"lakecolor\":\"white\"},\"title\":{\"x\":0.05},\"mapbox\":{\"style\":\"light\"}}},\"xaxis\":{\"title\":{\"text\":\"C\"},\"type\":\"log\"},\"yaxis\":{\"title\":{\"text\":\"Objective Value\"}}},                        {\"responsive\": true}                    ).then(function(){\n",
       "                            \n",
       "var gd = document.getElementById('a337e5ae-c043-4d10-8878-70b8e46f61ef');\n",
       "var x = new MutationObserver(function (mutations, observer) {{\n",
       "        var display = window.getComputedStyle(gd).display;\n",
       "        if (!display || display === 'none') {{\n",
       "            console.log([gd, 'removed!']);\n",
       "            Plotly.purge(gd);\n",
       "            observer.disconnect();\n",
       "        }}\n",
       "}});\n",
       "\n",
       "// Listen for the removal of the full notebook cells\n",
       "var notebookContainer = gd.closest('#notebook-container');\n",
       "if (notebookContainer) {{\n",
       "    x.observe(notebookContainer, {childList: true});\n",
       "}}\n",
       "\n",
       "// Listen for the clearing of the current output cell\n",
       "var outputEl = gd.closest('.output');\n",
       "if (outputEl) {{\n",
       "    x.observe(outputEl, {childList: true});\n",
       "}}\n",
       "\n",
       "                        })                };                });            </script>        </div>"
      ]
     },
     "metadata": {},
     "output_type": "display_data"
    },
    {
     "data": {
      "text/html": [
       "<div>                            <div id=\"c66e2f5f-e759-4dab-85b8-07ccd18ed2ba\" class=\"plotly-graph-div\" style=\"height:525px; width:100%;\"></div>            <script type=\"text/javascript\">                require([\"plotly\"], function(Plotly) {                    window.PLOTLYENV=window.PLOTLYENV || {};                                    if (document.getElementById(\"c66e2f5f-e759-4dab-85b8-07ccd18ed2ba\")) {                    Plotly.newPlot(                        \"c66e2f5f-e759-4dab-85b8-07ccd18ed2ba\",                        [{\"marker\":{\"color\":[0,1,2,3,4,5,6,7,8,9,10,11,12,13,14,15,16,17,18,19,20,21,22,23,24,25,26,27,28,29,30,31,32,33,34,35,36,37,38,39,40,41,42,43,44,45,46,47,48,49,50,51,52,53,54,55,56,57,58,59,60,61,62,63,64,65,66,67,68,69,70,71,72,73,74,75,76,77,78,79,80,81,82,83,84,85,86,87,88,89,90,91,92,93,94,95,96,97,98,99,100,101,102,103,104,105,106,107,108,109,110,111,112,113,114,115,116,117,118,119,120,121,122,123,124,125,126,127,128,129,130,131,132,133,134,135,136,137,138,139,140,141,142,143,144,145,146,147,148,149,150,151,152,153,154,155,156,157,158,159,160,161,162,163,164,165,166,167,168,169,170,171,172,173,174,175,176,177,178,179,180,181,182,183,184,185,186,187,188,189,190,191,192,193,194,195,196,197,198,199],\"colorbar\":{\"title\":{\"text\":\"Trial\"},\"x\":1.0,\"xpad\":40},\"colorscale\":[[0.0,\"rgb(247,251,255)\"],[0.125,\"rgb(222,235,247)\"],[0.25,\"rgb(198,219,239)\"],[0.375,\"rgb(158,202,225)\"],[0.5,\"rgb(107,174,214)\"],[0.625,\"rgb(66,146,198)\"],[0.75,\"rgb(33,113,181)\"],[0.875,\"rgb(8,81,156)\"],[1.0,\"rgb(8,48,107)\"]],\"line\":{\"color\":\"Grey\",\"width\":0.5}},\"mode\":\"markers\",\"name\":\"Feasible Trial\",\"showlegend\":false,\"x\":[7.495618152417544e-6,10473093.86969757,0.11100944237238938,2.7116110735045105,0.00020775712016724254,197863.1295743862,18058.994529273947,0.19587411600537852,155576.32852289593,15766519.951801332,7.497132850160529,0.00004645661644865459,0.00630542721698211,0.0010151787709457671,1.3434745729330471e-7,501.2165539438333,0.02953565885086622,78.03329155306335,0.00006034825105156876,6.331624851842642e-8,0.33007832221573824,0.15597177718336816,0.2812577501246478,104.55131728972209,0.00586912611218634,2.4578773723837655,0.22152705320746294,2394.381676804562,9.891868476279047,7.911241697873415e-7,0.012579762989102789,0.28229883583745835,0.3057745350645296,0.0018083403248085202,0.11305959336441287,53.652793639350506,0.821235977249989,0.033002027263144655,0.0004040560035543355,3.1077808906015103,24.18783306275203,0.05555048349423296,0.04938397076726231,0.05669190961670576,0.0065033326706612285,1.0456492260967332,0.000017313874759706685,0.000644894449471104,0.00015382074809325936,0.060373108276526276,0.0026248921432346323,0.42449828233709247,0.14491984920817852,5.149721461920438,0.02014936842295379,1.316167148730027,17.654118958461325,481.55094276007645,2926007.200182518,0.10273460618820084,0.011399665678748129,0.18899472467360912,0.37502871011310324,0.0028945484305571176,0.028271643306007004,0.9105449187658009,5.133565989580517,1.7163836410438498,0.08472948944618966,0.0048317098112649805,0.0011780333991923996,0.06457177324663627,0.41034887706094786,0.014335572730676887,0.011451525601520598,0.03481019622712581,0.1573823174068096,0.00023072940184619235,0.01767724433748229,0.1291886219177951,0.6456432754245572,0.2162346941071402,0.0732038305801093,2.7498897628831633,0.05808483469052643,0.2133745505715578,0.20639601662343485,0.7372441618140976,17.91993453471587,0.00419377302251481,8.99027141934324,0.2674494929822057,0.1857121990630966,1.754429694172904,0.027904829897739295,0.1613111579917622,0.007844589417917233,0.04808031392230065,0.5352032382470868,3.833136155930128,0.11154268883486196,0.2482607381484358,1.035041842707556,0.18596642232658464,0.08591909191252853,0.03046851256788875,0.483913427667177,1.574346955999679,40.575288790296376,0.05467194974312015,0.008349301548159164,0.1398409602927642,0.02159531197587801,0.08351441518512676,0.36774644264985495,0.22910641278252264,0.8414972437128136,0.285721059903542,0.001538108435722596,3.333521949676305,0.04323979237227419,0.10158173308041525,0.19235007093193243,0.015801524817488092,0.5293645488859998,0.076537489381709,1.20425139675803,0.02916532074296789,0.00353458578562002,0.03289457103823788,0.00964498224045616,0.17237588341349508,0.052487378806808094,0.018241402396003675,0.04730605208014944,0.20368619976263835,0.40949070470363813,0.11527612926461986,0.78058660928138,1.965437007352531,0.027178975677639834,0.15715589963499266,0.06810697677436886,13867.136357597647,0.27875081690508596,0.18058466015206534,0.04247387685702305,0.006177925218747775,0.48792425112552124,0.10453281385268301,1.544672516069771e-6,0.1928250953216602,0.3297909622070329,0.07667629815177614,0.014971929058800362,0.8437341458097619,0.1360032101908692,0.028664193273012728,0.22202323883152325,1.2385703397046466,0.05561478255556775,0.08733597710895201,0.4126221384614313,0.1531555492753677,0.04437800898427488,0.316785468554812,0.09942197216420445,0.020573488825871684,0.643542162250813,0.012926384278737272,2.219303722930823,0.19027435502954745,0.2318753176789132,0.06397514526430835,0.04627993740904213,0.043190118928945996,0.04093598730157658,0.036102208950316204,0.0075275109588931206,0.024019348804203425,0.0032907249755278396,0.031416583779111926,0.025377105160556218,0.023422769368016343,0.010362498817507436,0.023110306941581005,0.03321715826080701,0.005972963513577654,0.04069162122180899,0.03824621318678198,0.01219124927275495,0.04355066898639026,0.01981354341259962,0.05052674712795197,0.030995187748917855,0.04187627840382809,0.0019154065522425704,0.05531628271605452,0.01170274766911039,0.033093041494601516],\"y\":[0.9469999999999998,0.541,0.541,0.9497499999999999,0.98125,0.541,0.541,0.9844999999999999,0.541,0.5427500000000001,0.92975,0.97525,0.9789999999999999,0.9567499999999999,0.95175,0.65825,0.97075,0.8210000000000001,0.541,0.96,0.9827499999999999,0.98575,0.9852500000000001,0.735,0.942,0.9564999999999999,0.9855,0.541,0.922,0.921,0.541,0.9845,0.9827499999999999,0.984,0.9844999999999999,0.7344999999999999,0.9730000000000001,0.541,0.7925,0.9467500000000001,0.541,0.98575,0.9862500000000001,0.9842500000000001,0.9785000000000001,0.9700000000000001,0.95975,0.9642500000000002,0.8957499999999999,0.9174999999999999,0.9832500000000002,0.9789999999999999,0.98325,0.9412499999999999,0.983,0.9647500000000001,0.8692499999999999,0.66125,0.5427500000000001,0.9804999999999999,0.9840000000000002,0.9832500000000002,0.9807500000000001,0.9835,0.9800000000000001,0.9707500000000001,0.9380000000000001,0.96225,0.9850000000000001,0.984,0.9835,0.9814999999999999,0.9757500000000002,0.98475,0.98425,0.9790000000000001,0.98575,0.9469999999999998,0.9497499999999999,0.984,0.9755,0.98525,0.98575,0.9592499999999999,0.98275,0.98575,0.98525,0.9114999999999999,0.8975000000000002,0.961,0.9269999999999999,0.98475,0.98475,0.961,0.9747499999999999,0.98575,0.9695,0.969,0.9544999999999998,0.94825,0.9844999999999999,0.9850000000000001,0.9672499999999999,0.9845,0.9807499999999999,0.98325,0.9285,0.962,0.85925,0.98275,0.984,0.9832500000000002,0.984,0.9842500000000001,0.9815000000000002,0.9855,0.9715,0.98375,0.954,0.9547500000000001,0.98325,0.98475,0.9837499999999999,0.98475,0.9772500000000001,0.9842500000000001,0.9665000000000001,0.9865,0.9835,0.541,0.982,0.9795,0.9852500000000001,0.98375,0.9845,0.9852500000000001,0.9800000000000001,0.541,0.9737500000000001,0.9607499999999998,0.984,0.98575,0.9837499999999999,0.5467500000000001,0.98475,0.9845,0.98425,0.98375,0.978,0.9655000000000001,0.541,0.9842500000000001,0.9827499999999999,0.9842500000000001,0.98125,0.9732500000000002,0.9845,0.98375,0.9844999999999999,0.9545,0.9810000000000001,0.9842500000000001,0.9792500000000001,0.985,0.982,0.9817500000000001,0.98275,0.98475,0.975,0.9785,0.96025,0.9845,0.98525,0.9860000000000001,0.9862500000000001,0.9860000000000001,0.9862500000000001,0.9865,0.98325,0.98575,0.983,0.9860000000000001,0.9855,0.9862500000000001,0.9842500000000001,0.9855,0.986,0.9835,0.9860000000000001,0.98475,0.983,0.9862500000000001,0.985,0.9842500000000001,0.986,0.9862500000000001,0.9805000000000001,0.9804999999999999,0.985,0.9860000000000001],\"type\":\"scatter\"}],                        {\"title\":{\"text\":\"Slice Plot\"},\"template\":{\"data\":{\"histogram2dcontour\":[{\"type\":\"histogram2dcontour\",\"colorbar\":{\"outlinewidth\":0,\"ticks\":\"\"},\"colorscale\":[[0.0,\"#0d0887\"],[0.1111111111111111,\"#46039f\"],[0.2222222222222222,\"#7201a8\"],[0.3333333333333333,\"#9c179e\"],[0.4444444444444444,\"#bd3786\"],[0.5555555555555556,\"#d8576b\"],[0.6666666666666666,\"#ed7953\"],[0.7777777777777778,\"#fb9f3a\"],[0.8888888888888888,\"#fdca26\"],[1.0,\"#f0f921\"]]}],\"choropleth\":[{\"type\":\"choropleth\",\"colorbar\":{\"outlinewidth\":0,\"ticks\":\"\"}}],\"histogram2d\":[{\"type\":\"histogram2d\",\"colorbar\":{\"outlinewidth\":0,\"ticks\":\"\"},\"colorscale\":[[0.0,\"#0d0887\"],[0.1111111111111111,\"#46039f\"],[0.2222222222222222,\"#7201a8\"],[0.3333333333333333,\"#9c179e\"],[0.4444444444444444,\"#bd3786\"],[0.5555555555555556,\"#d8576b\"],[0.6666666666666666,\"#ed7953\"],[0.7777777777777778,\"#fb9f3a\"],[0.8888888888888888,\"#fdca26\"],[1.0,\"#f0f921\"]]}],\"heatmap\":[{\"type\":\"heatmap\",\"colorbar\":{\"outlinewidth\":0,\"ticks\":\"\"},\"colorscale\":[[0.0,\"#0d0887\"],[0.1111111111111111,\"#46039f\"],[0.2222222222222222,\"#7201a8\"],[0.3333333333333333,\"#9c179e\"],[0.4444444444444444,\"#bd3786\"],[0.5555555555555556,\"#d8576b\"],[0.6666666666666666,\"#ed7953\"],[0.7777777777777778,\"#fb9f3a\"],[0.8888888888888888,\"#fdca26\"],[1.0,\"#f0f921\"]]}],\"heatmapgl\":[{\"type\":\"heatmapgl\",\"colorbar\":{\"outlinewidth\":0,\"ticks\":\"\"},\"colorscale\":[[0.0,\"#0d0887\"],[0.1111111111111111,\"#46039f\"],[0.2222222222222222,\"#7201a8\"],[0.3333333333333333,\"#9c179e\"],[0.4444444444444444,\"#bd3786\"],[0.5555555555555556,\"#d8576b\"],[0.6666666666666666,\"#ed7953\"],[0.7777777777777778,\"#fb9f3a\"],[0.8888888888888888,\"#fdca26\"],[1.0,\"#f0f921\"]]}],\"contourcarpet\":[{\"type\":\"contourcarpet\",\"colorbar\":{\"outlinewidth\":0,\"ticks\":\"\"}}],\"contour\":[{\"type\":\"contour\",\"colorbar\":{\"outlinewidth\":0,\"ticks\":\"\"},\"colorscale\":[[0.0,\"#0d0887\"],[0.1111111111111111,\"#46039f\"],[0.2222222222222222,\"#7201a8\"],[0.3333333333333333,\"#9c179e\"],[0.4444444444444444,\"#bd3786\"],[0.5555555555555556,\"#d8576b\"],[0.6666666666666666,\"#ed7953\"],[0.7777777777777778,\"#fb9f3a\"],[0.8888888888888888,\"#fdca26\"],[1.0,\"#f0f921\"]]}],\"surface\":[{\"type\":\"surface\",\"colorbar\":{\"outlinewidth\":0,\"ticks\":\"\"},\"colorscale\":[[0.0,\"#0d0887\"],[0.1111111111111111,\"#46039f\"],[0.2222222222222222,\"#7201a8\"],[0.3333333333333333,\"#9c179e\"],[0.4444444444444444,\"#bd3786\"],[0.5555555555555556,\"#d8576b\"],[0.6666666666666666,\"#ed7953\"],[0.7777777777777778,\"#fb9f3a\"],[0.8888888888888888,\"#fdca26\"],[1.0,\"#f0f921\"]]}],\"mesh3d\":[{\"type\":\"mesh3d\",\"colorbar\":{\"outlinewidth\":0,\"ticks\":\"\"}}],\"scatter\":[{\"fillpattern\":{\"fillmode\":\"overlay\",\"size\":10,\"solidity\":0.2},\"type\":\"scatter\"}],\"parcoords\":[{\"type\":\"parcoords\",\"line\":{\"colorbar\":{\"outlinewidth\":0,\"ticks\":\"\"}}}],\"scatterpolargl\":[{\"type\":\"scatterpolargl\",\"marker\":{\"colorbar\":{\"outlinewidth\":0,\"ticks\":\"\"}}}],\"bar\":[{\"error_x\":{\"color\":\"#2a3f5f\"},\"error_y\":{\"color\":\"#2a3f5f\"},\"marker\":{\"line\":{\"color\":\"#E5ECF6\",\"width\":0.5},\"pattern\":{\"fillmode\":\"overlay\",\"size\":10,\"solidity\":0.2}},\"type\":\"bar\"}],\"scattergeo\":[{\"type\":\"scattergeo\",\"marker\":{\"colorbar\":{\"outlinewidth\":0,\"ticks\":\"\"}}}],\"scatterpolar\":[{\"type\":\"scatterpolar\",\"marker\":{\"colorbar\":{\"outlinewidth\":0,\"ticks\":\"\"}}}],\"histogram\":[{\"marker\":{\"pattern\":{\"fillmode\":\"overlay\",\"size\":10,\"solidity\":0.2}},\"type\":\"histogram\"}],\"scattergl\":[{\"type\":\"scattergl\",\"marker\":{\"colorbar\":{\"outlinewidth\":0,\"ticks\":\"\"}}}],\"scatter3d\":[{\"type\":\"scatter3d\",\"line\":{\"colorbar\":{\"outlinewidth\":0,\"ticks\":\"\"}},\"marker\":{\"colorbar\":{\"outlinewidth\":0,\"ticks\":\"\"}}}],\"scattermapbox\":[{\"type\":\"scattermapbox\",\"marker\":{\"colorbar\":{\"outlinewidth\":0,\"ticks\":\"\"}}}],\"scatterternary\":[{\"type\":\"scatterternary\",\"marker\":{\"colorbar\":{\"outlinewidth\":0,\"ticks\":\"\"}}}],\"scattercarpet\":[{\"type\":\"scattercarpet\",\"marker\":{\"colorbar\":{\"outlinewidth\":0,\"ticks\":\"\"}}}],\"carpet\":[{\"aaxis\":{\"endlinecolor\":\"#2a3f5f\",\"gridcolor\":\"white\",\"linecolor\":\"white\",\"minorgridcolor\":\"white\",\"startlinecolor\":\"#2a3f5f\"},\"baxis\":{\"endlinecolor\":\"#2a3f5f\",\"gridcolor\":\"white\",\"linecolor\":\"white\",\"minorgridcolor\":\"white\",\"startlinecolor\":\"#2a3f5f\"},\"type\":\"carpet\"}],\"table\":[{\"cells\":{\"fill\":{\"color\":\"#EBF0F8\"},\"line\":{\"color\":\"white\"}},\"header\":{\"fill\":{\"color\":\"#C8D4E3\"},\"line\":{\"color\":\"white\"}},\"type\":\"table\"}],\"barpolar\":[{\"marker\":{\"line\":{\"color\":\"#E5ECF6\",\"width\":0.5},\"pattern\":{\"fillmode\":\"overlay\",\"size\":10,\"solidity\":0.2}},\"type\":\"barpolar\"}],\"pie\":[{\"automargin\":true,\"type\":\"pie\"}]},\"layout\":{\"autotypenumbers\":\"strict\",\"colorway\":[\"#636efa\",\"#EF553B\",\"#00cc96\",\"#ab63fa\",\"#FFA15A\",\"#19d3f3\",\"#FF6692\",\"#B6E880\",\"#FF97FF\",\"#FECB52\"],\"font\":{\"color\":\"#2a3f5f\"},\"hovermode\":\"closest\",\"hoverlabel\":{\"align\":\"left\"},\"paper_bgcolor\":\"white\",\"plot_bgcolor\":\"#E5ECF6\",\"polar\":{\"bgcolor\":\"#E5ECF6\",\"angularaxis\":{\"gridcolor\":\"white\",\"linecolor\":\"white\",\"ticks\":\"\"},\"radialaxis\":{\"gridcolor\":\"white\",\"linecolor\":\"white\",\"ticks\":\"\"}},\"ternary\":{\"bgcolor\":\"#E5ECF6\",\"aaxis\":{\"gridcolor\":\"white\",\"linecolor\":\"white\",\"ticks\":\"\"},\"baxis\":{\"gridcolor\":\"white\",\"linecolor\":\"white\",\"ticks\":\"\"},\"caxis\":{\"gridcolor\":\"white\",\"linecolor\":\"white\",\"ticks\":\"\"}},\"coloraxis\":{\"colorbar\":{\"outlinewidth\":0,\"ticks\":\"\"}},\"colorscale\":{\"sequential\":[[0.0,\"#0d0887\"],[0.1111111111111111,\"#46039f\"],[0.2222222222222222,\"#7201a8\"],[0.3333333333333333,\"#9c179e\"],[0.4444444444444444,\"#bd3786\"],[0.5555555555555556,\"#d8576b\"],[0.6666666666666666,\"#ed7953\"],[0.7777777777777778,\"#fb9f3a\"],[0.8888888888888888,\"#fdca26\"],[1.0,\"#f0f921\"]],\"sequentialminus\":[[0.0,\"#0d0887\"],[0.1111111111111111,\"#46039f\"],[0.2222222222222222,\"#7201a8\"],[0.3333333333333333,\"#9c179e\"],[0.4444444444444444,\"#bd3786\"],[0.5555555555555556,\"#d8576b\"],[0.6666666666666666,\"#ed7953\"],[0.7777777777777778,\"#fb9f3a\"],[0.8888888888888888,\"#fdca26\"],[1.0,\"#f0f921\"]],\"diverging\":[[0,\"#8e0152\"],[0.1,\"#c51b7d\"],[0.2,\"#de77ae\"],[0.3,\"#f1b6da\"],[0.4,\"#fde0ef\"],[0.5,\"#f7f7f7\"],[0.6,\"#e6f5d0\"],[0.7,\"#b8e186\"],[0.8,\"#7fbc41\"],[0.9,\"#4d9221\"],[1,\"#276419\"]]},\"xaxis\":{\"gridcolor\":\"white\",\"linecolor\":\"white\",\"ticks\":\"\",\"title\":{\"standoff\":15},\"zerolinecolor\":\"white\",\"automargin\":true,\"zerolinewidth\":2},\"yaxis\":{\"gridcolor\":\"white\",\"linecolor\":\"white\",\"ticks\":\"\",\"title\":{\"standoff\":15},\"zerolinecolor\":\"white\",\"automargin\":true,\"zerolinewidth\":2},\"scene\":{\"xaxis\":{\"backgroundcolor\":\"#E5ECF6\",\"gridcolor\":\"white\",\"linecolor\":\"white\",\"showbackground\":true,\"ticks\":\"\",\"zerolinecolor\":\"white\",\"gridwidth\":2},\"yaxis\":{\"backgroundcolor\":\"#E5ECF6\",\"gridcolor\":\"white\",\"linecolor\":\"white\",\"showbackground\":true,\"ticks\":\"\",\"zerolinecolor\":\"white\",\"gridwidth\":2},\"zaxis\":{\"backgroundcolor\":\"#E5ECF6\",\"gridcolor\":\"white\",\"linecolor\":\"white\",\"showbackground\":true,\"ticks\":\"\",\"zerolinecolor\":\"white\",\"gridwidth\":2}},\"shapedefaults\":{\"line\":{\"color\":\"#2a3f5f\"}},\"annotationdefaults\":{\"arrowcolor\":\"#2a3f5f\",\"arrowhead\":0,\"arrowwidth\":1},\"geo\":{\"bgcolor\":\"white\",\"landcolor\":\"#E5ECF6\",\"subunitcolor\":\"white\",\"showland\":true,\"showlakes\":true,\"lakecolor\":\"white\"},\"title\":{\"x\":0.05},\"mapbox\":{\"style\":\"light\"}}},\"xaxis\":{\"title\":{\"text\":\"gamma\"},\"type\":\"log\"},\"yaxis\":{\"title\":{\"text\":\"Objective Value\"}}},                        {\"responsive\": true}                    ).then(function(){\n",
       "                            \n",
       "var gd = document.getElementById('c66e2f5f-e759-4dab-85b8-07ccd18ed2ba');\n",
       "var x = new MutationObserver(function (mutations, observer) {{\n",
       "        var display = window.getComputedStyle(gd).display;\n",
       "        if (!display || display === 'none') {{\n",
       "            console.log([gd, 'removed!']);\n",
       "            Plotly.purge(gd);\n",
       "            observer.disconnect();\n",
       "        }}\n",
       "}});\n",
       "\n",
       "// Listen for the removal of the full notebook cells\n",
       "var notebookContainer = gd.closest('#notebook-container');\n",
       "if (notebookContainer) {{\n",
       "    x.observe(notebookContainer, {childList: true});\n",
       "}}\n",
       "\n",
       "// Listen for the clearing of the current output cell\n",
       "var outputEl = gd.closest('.output');\n",
       "if (outputEl) {{\n",
       "    x.observe(outputEl, {childList: true});\n",
       "}}\n",
       "\n",
       "                        })                };                });            </script>        </div>"
      ]
     },
     "metadata": {},
     "output_type": "display_data"
    }
   ],
   "source": [
    "# SVC BINARY\n",
    "# Create an Optuna study\n",
    "study = optuna.create_study(direction='maximize')\n",
    "\n",
    "# Optimize the hyperparameters\n",
    "study.optimize(objective_SVC_bin, n_trials=200)\n",
    "\n",
    "# Get the best parameters and best score\n",
    "best_params_SVC_bin = study.best_params\n",
    "best_score = study.best_value\n",
    "\n",
    "print(\"Best params: \", best_params_SVC_bin)\n",
    "print(\"Best score: \", best_score)\n",
    "\n",
    "# Visualize the optimization history\n",
    "optuna.visualization.plot_optimization_history(study)\n",
    "\n",
    "# Visualize the parameter importances\n",
    "optuna.visualization.plot_param_importances(study)\n",
    "\n",
    "# Create accuracy plots for each hyperparameter\n",
    "hyperparameters = ['C', 'gamma']\n",
    "for param in hyperparameters:\n",
    "    # Visualize the parameter relationship with accuracy\n",
    "    fig = optuna.visualization.plot_slice(study, params=[param])\n",
    "    fig.show()\n",
    "\n",
    "# Best params:  {'C': 59.5191479489651, 'gamma': 0.031963463688337294, 'kernel': 'rbf'}\n",
    "# Best score:  0.9865\n",
    "# Best params:  {'C': 2.651715530823638, 'gamma': 0.2143432904111394, 'kernel': 'rbf'}\n",
    "# Best score:  0.98575"
   ]
  },
  {
   "cell_type": "code",
   "execution_count": 15,
   "id": "c8b58513",
   "metadata": {
    "collapsed": true,
    "execution": {
     "iopub.execute_input": "2024-04-26T19:46:58.040572Z",
     "iopub.status.busy": "2024-04-26T19:46:58.040169Z",
     "iopub.status.idle": "2024-04-26T20:05:47.902489Z",
     "shell.execute_reply": "2024-04-26T20:05:47.901448Z"
    },
    "jupyter": {
     "outputs_hidden": true
    },
    "papermill": {
     "duration": 1129.875321,
     "end_time": "2024-04-26T20:05:47.904662",
     "exception": false,
     "start_time": "2024-04-26T19:46:58.029341",
     "status": "completed"
    },
    "tags": []
   },
   "outputs": [
    {
     "name": "stdout",
     "output_type": "stream",
     "text": [
      "Best params:  {'C': 145.7669011724858, 'gamma': 0.021273885895855472, 'kernel': 'rbf'}\n",
      "Best score:  0.9852500000000001\n"
     ]
    },
    {
     "data": {
      "text/html": [
       "<div>                            <div id=\"923c614e-913e-478e-9f84-9cfec1622a2e\" class=\"plotly-graph-div\" style=\"height:525px; width:100%;\"></div>            <script type=\"text/javascript\">                require([\"plotly\"], function(Plotly) {                    window.PLOTLYENV=window.PLOTLYENV || {};                                    if (document.getElementById(\"923c614e-913e-478e-9f84-9cfec1622a2e\")) {                    Plotly.newPlot(                        \"923c614e-913e-478e-9f84-9cfec1622a2e\",                        [{\"marker\":{\"color\":[0,1,2,3,4,5,6,7,8,9,10,11,12,13,14,15,16,17,18,19,20,21,22,23,24,25,26,27,28,29,30,31,32,33,34,35,36,37,38,39,40,41,42,43,44,45,46,47,48,49,50,51,52,53,54,55,56,57,58,59,60,61,62,63,64,65,66,67,68,69,70,71,72,73,74,75,76,77,78,79,80,81,82,83,84,85,86,87,88,89,90,91,92,93,94,95,96,97,98,99,100,101,102,103,104,105,106,107,108,109,110,111,112,113,114,115,116,117,118,119,120,121,122,123,124,125,126,127,128,129,130,131,132,133,134,135,136,137,138,139,140,141,142,143,144,145,146,147,148,149,150,151,152,153,154,155,156,157,158,159,160,161,162,163,164,165,166,167,168,169,170,171,172,173,174,175,176,177,178,179,180,181,182,183,184,185,186,187,188,189,190,191,192,193,194,195,196,197,198,199],\"colorbar\":{\"title\":{\"text\":\"Trial\"},\"x\":1.0,\"xpad\":40},\"colorscale\":[[0.0,\"rgb(247,251,255)\"],[0.125,\"rgb(222,235,247)\"],[0.25,\"rgb(198,219,239)\"],[0.375,\"rgb(158,202,225)\"],[0.5,\"rgb(107,174,214)\"],[0.625,\"rgb(66,146,198)\"],[0.75,\"rgb(33,113,181)\"],[0.875,\"rgb(8,81,156)\"],[1.0,\"rgb(8,48,107)\"]],\"line\":{\"color\":\"Grey\",\"width\":0.5}},\"mode\":\"markers\",\"name\":\"Feasible Trial\",\"showlegend\":false,\"x\":[0.027637836591762263,0.1596708178081545,0.0010621629762310606,333534.91061757185,0.00003948689910099982,3.9344767005508365e-7,0.0006382142776743053,145.5004771616514,123.80636834683429,1.1482558463489938,32680859.7565162,32604107.39411027,16958355.447850496,19225.554217264867,11183.769841079496,63232.23461660608,482.5467345251414,844446.8408679224,298863.8523063669,3868.9623295711094,39.80577195291105,5192.591804477037,1892.6514738050623,4062.2517268462307,7.353077983624403,1487.816951156861,6.32918639418085,1393.5867877304333,1374439.6855202687,0.45175297800425684,10.774689209375635,1721054.6812563678,34683.65010387512,3532763.9777844814,0.01842890113906988,89909.98056697905,3840.855397349394,0.08511558654259399,3364996.5272854245,146300.7968080727,167.02554954469628,5505.268386911782,1.2859956995591244e-7,9830.556421493739,35.78839619630839,468.0199629135845,643.6657672511315,210.9700648850541,0.00003866492583828763,33284.69998213184,5324330.175789724,62.10843193341714,5986.721689167613,941903.3920909384,187823.27954895113,10233.223621993271,383.0055589688696,2962.2814538756747,31593.275439336783,31259.432380652084,395644.03439342714,1432.5654635866604,58983.12800819505,10416277.903426724,4099.838439637413,521.9985292625306,18.793976329726874,4.031397371413619,600.9493245888237,100.52716823473617,78.30621020078573,87.63704523697096,63.25568959815587,2.6897969559385406,0.8850799208474965,72.10565304506373,23.124871726305745,215.2375966707881,349.27404448167573,137.1555183959712,321.496822538522,11.849054894050044,78.1663695783873,81.635404429129,90.50339727642239,30.773581047453117,847.9179633888621,0.33854648486598116,42.21046068902971,1.7249657580426454,7.254417603624246,18.825688297706673,98.75943878447472,229.27440274389653,1210.0098754811693,41.51290253567411,145.7669011724858,178.0927166062698,163.68726633257137,572.5365394632994,1917.3613324557657,23.366857080902424,4.64418033550004,9.78391531041561,339.29293716640746,248.94584257961125,878.2711574079796,48.28502889622423,2390.0954507795686,424.86892475836754,176.3865551255821,114.61914012121596,30.357411213156066,16.18402835355175,967.2442687722404,1018.1866942485715,16876.063011312013,1025.3543911590261,7324.06563287455,1121.045403128083,288.6954133546613,659.8442742762988,2841.4555473605415,3.0103461449608025e-6,795.2770517433217,1618.8182826191717,296.36243242510596,0.01420193903657538,12726.944245558661,54.9722316230365,38.75955660073461,170.64610474502769,542.9897938322389,95.11529484493335,55.75758636151606,4070.728666058271,1048.3288558733318,324.366848033975,10.654205098650566,168.8783978857728,1934.1909694132678,459.5917495198985,651.0264171913224,50.56200168404104,94.43854660972225,24.274714190294226,67.73039216299405,4.314607652552487,169.82365608865496,32.1820975277386,2.0740459077401816,475.94517188393945,1301.9224280681055,213.68191854913024,60.43360452911281,644.6189217721804,3244.761570109033,12.676520386905635,142.3351830909078,266.7761067019604,320.46907372985635,46.494073161183096,676.8945743848001,241.07777796722246,1672.4367186860902,5918.461022358937,2035.5142497459087,1325.2283974068278,112.51998376985533,355.9973093515702,18.616575355735655,769.7532920927193,781.7512790763288,102.89711289774584,2559.663808937691,237.58110244478758,1085.064295630698,45.63611302568294,411.8403640731565,141.01004532208827,5122.843260648902,713.3721208930239,388.7421935423382,64.57088291910541,295.51278224567193,1434.266527439456,110.15783690778055,29.662261494630027,213.81662972303312,457.1884509409233,2407.396517388258,890.6398172824872,1111.7577333924512,589.7264743890465,204.22792502114262,9939.994215382869,63.261715932647895,960.3910027305965,3069.410297686556,380.6992379506538],\"y\":[0.8560000000000001,0.92075,0.541,0.95425,0.541,0.541,0.541,0.5805,0.5427500000000001,0.541,0.9802500000000001,0.9810000000000001,0.9800000000000001,0.98125,0.9157499999999998,0.9792499999999998,0.8575000000000002,0.98225,0.97875,0.983,0.8245000000000001,0.9825000000000002,0.9822500000000002,0.9735000000000001,0.9795000000000001,0.9565000000000001,0.765,0.9125,0.97575,0.9177500000000001,0.91525,0.98275,0.9807499999999999,0.9802500000000001,0.8717499999999999,0.9802500000000001,0.983,0.8952499999999999,0.9497499999999999,0.9804999999999999,0.5427500000000001,0.9835000000000003,0.541,0.98125,0.97675,0.9845000000000003,0.9179999999999999,0.9174999999999999,0.541,0.5427500000000001,0.98125,0.9800000000000001,0.9814999999999999,0.9799999999999999,0.9792500000000001,0.9804999999999999,0.9785,0.8992500000000001,0.98275,0.9804999999999999,0.9657500000000001,0.982,0.982,0.9802500000000001,0.9814999999999999,0.984,0.9530000000000001,0.9555,0.9572499999999999,0.984,0.98375,0.9840000000000002,0.9844999999999999,0.9777500000000001,0.90075,0.97875,0.96175,0.9840000000000002,0.98375,0.87475,0.9412500000000001,0.983,0.9842500000000001,0.984,0.9762500000000001,0.9842500000000001,0.9537500000000001,0.9497499999999999,0.9789999999999999,0.977,0.9780000000000001,0.983,0.9822500000000002,0.9800000000000001,0.9702499999999998,0.5427500000000001,0.9852500000000001,0.98475,0.6657500000000001,0.9835,0.93125,0.9817500000000001,0.9622499999999998,0.98225,0.9842500000000001,0.96,0.9822500000000002,0.9577500000000001,0.9835,0.98375,0.97875,0.984,0.9754999999999999,0.9800000000000001,0.98475,0.98475,0.9817499999999999,0.98475,0.9825000000000002,0.9772500000000001,0.9775,0.9850000000000001,0.98225,0.541,0.9799999999999999,0.9817499999999999,0.98375,0.79725,0.9817500000000001,0.9845,0.98325,0.9837500000000002,0.98275,0.982,0.97875,0.982,0.9825000000000002,0.984,0.9802499999999998,0.9657500000000001,0.9814999999999999,0.984,0.984,0.9850000000000001,0.9817499999999999,0.9829999999999999,0.9835,0.97875,0.98375,0.9767500000000002,0.97525,0.984,0.9807500000000001,0.984,0.98125,0.9835,0.9835,0.98125,0.9824999999999999,0.9845,0.98275,0.9817500000000001,0.98325,0.9795000000000001,0.9842500000000001,0.551,0.982,0.984,0.9822500000000002,0.9832500000000002,0.9802500000000001,0.98425,0.982,0.98325,0.9824999999999999,0.9835,0.9817500000000001,0.982,0.9782499999999998,0.984,0.9817500000000001,0.98325,0.9842500000000001,0.98325,0.98375,0.9814999999999999,0.98325,0.9792499999999998,0.9832500000000002,0.9835,0.9824999999999999,0.9842500000000001,0.984,0.9840000000000002,0.984,0.98125,0.9760000000000002,0.983,0.9789999999999999,0.98275],\"type\":\"scatter\"}],                        {\"title\":{\"text\":\"Slice Plot\"},\"template\":{\"data\":{\"histogram2dcontour\":[{\"type\":\"histogram2dcontour\",\"colorbar\":{\"outlinewidth\":0,\"ticks\":\"\"},\"colorscale\":[[0.0,\"#0d0887\"],[0.1111111111111111,\"#46039f\"],[0.2222222222222222,\"#7201a8\"],[0.3333333333333333,\"#9c179e\"],[0.4444444444444444,\"#bd3786\"],[0.5555555555555556,\"#d8576b\"],[0.6666666666666666,\"#ed7953\"],[0.7777777777777778,\"#fb9f3a\"],[0.8888888888888888,\"#fdca26\"],[1.0,\"#f0f921\"]]}],\"choropleth\":[{\"type\":\"choropleth\",\"colorbar\":{\"outlinewidth\":0,\"ticks\":\"\"}}],\"histogram2d\":[{\"type\":\"histogram2d\",\"colorbar\":{\"outlinewidth\":0,\"ticks\":\"\"},\"colorscale\":[[0.0,\"#0d0887\"],[0.1111111111111111,\"#46039f\"],[0.2222222222222222,\"#7201a8\"],[0.3333333333333333,\"#9c179e\"],[0.4444444444444444,\"#bd3786\"],[0.5555555555555556,\"#d8576b\"],[0.6666666666666666,\"#ed7953\"],[0.7777777777777778,\"#fb9f3a\"],[0.8888888888888888,\"#fdca26\"],[1.0,\"#f0f921\"]]}],\"heatmap\":[{\"type\":\"heatmap\",\"colorbar\":{\"outlinewidth\":0,\"ticks\":\"\"},\"colorscale\":[[0.0,\"#0d0887\"],[0.1111111111111111,\"#46039f\"],[0.2222222222222222,\"#7201a8\"],[0.3333333333333333,\"#9c179e\"],[0.4444444444444444,\"#bd3786\"],[0.5555555555555556,\"#d8576b\"],[0.6666666666666666,\"#ed7953\"],[0.7777777777777778,\"#fb9f3a\"],[0.8888888888888888,\"#fdca26\"],[1.0,\"#f0f921\"]]}],\"heatmapgl\":[{\"type\":\"heatmapgl\",\"colorbar\":{\"outlinewidth\":0,\"ticks\":\"\"},\"colorscale\":[[0.0,\"#0d0887\"],[0.1111111111111111,\"#46039f\"],[0.2222222222222222,\"#7201a8\"],[0.3333333333333333,\"#9c179e\"],[0.4444444444444444,\"#bd3786\"],[0.5555555555555556,\"#d8576b\"],[0.6666666666666666,\"#ed7953\"],[0.7777777777777778,\"#fb9f3a\"],[0.8888888888888888,\"#fdca26\"],[1.0,\"#f0f921\"]]}],\"contourcarpet\":[{\"type\":\"contourcarpet\",\"colorbar\":{\"outlinewidth\":0,\"ticks\":\"\"}}],\"contour\":[{\"type\":\"contour\",\"colorbar\":{\"outlinewidth\":0,\"ticks\":\"\"},\"colorscale\":[[0.0,\"#0d0887\"],[0.1111111111111111,\"#46039f\"],[0.2222222222222222,\"#7201a8\"],[0.3333333333333333,\"#9c179e\"],[0.4444444444444444,\"#bd3786\"],[0.5555555555555556,\"#d8576b\"],[0.6666666666666666,\"#ed7953\"],[0.7777777777777778,\"#fb9f3a\"],[0.8888888888888888,\"#fdca26\"],[1.0,\"#f0f921\"]]}],\"surface\":[{\"type\":\"surface\",\"colorbar\":{\"outlinewidth\":0,\"ticks\":\"\"},\"colorscale\":[[0.0,\"#0d0887\"],[0.1111111111111111,\"#46039f\"],[0.2222222222222222,\"#7201a8\"],[0.3333333333333333,\"#9c179e\"],[0.4444444444444444,\"#bd3786\"],[0.5555555555555556,\"#d8576b\"],[0.6666666666666666,\"#ed7953\"],[0.7777777777777778,\"#fb9f3a\"],[0.8888888888888888,\"#fdca26\"],[1.0,\"#f0f921\"]]}],\"mesh3d\":[{\"type\":\"mesh3d\",\"colorbar\":{\"outlinewidth\":0,\"ticks\":\"\"}}],\"scatter\":[{\"fillpattern\":{\"fillmode\":\"overlay\",\"size\":10,\"solidity\":0.2},\"type\":\"scatter\"}],\"parcoords\":[{\"type\":\"parcoords\",\"line\":{\"colorbar\":{\"outlinewidth\":0,\"ticks\":\"\"}}}],\"scatterpolargl\":[{\"type\":\"scatterpolargl\",\"marker\":{\"colorbar\":{\"outlinewidth\":0,\"ticks\":\"\"}}}],\"bar\":[{\"error_x\":{\"color\":\"#2a3f5f\"},\"error_y\":{\"color\":\"#2a3f5f\"},\"marker\":{\"line\":{\"color\":\"#E5ECF6\",\"width\":0.5},\"pattern\":{\"fillmode\":\"overlay\",\"size\":10,\"solidity\":0.2}},\"type\":\"bar\"}],\"scattergeo\":[{\"type\":\"scattergeo\",\"marker\":{\"colorbar\":{\"outlinewidth\":0,\"ticks\":\"\"}}}],\"scatterpolar\":[{\"type\":\"scatterpolar\",\"marker\":{\"colorbar\":{\"outlinewidth\":0,\"ticks\":\"\"}}}],\"histogram\":[{\"marker\":{\"pattern\":{\"fillmode\":\"overlay\",\"size\":10,\"solidity\":0.2}},\"type\":\"histogram\"}],\"scattergl\":[{\"type\":\"scattergl\",\"marker\":{\"colorbar\":{\"outlinewidth\":0,\"ticks\":\"\"}}}],\"scatter3d\":[{\"type\":\"scatter3d\",\"line\":{\"colorbar\":{\"outlinewidth\":0,\"ticks\":\"\"}},\"marker\":{\"colorbar\":{\"outlinewidth\":0,\"ticks\":\"\"}}}],\"scattermapbox\":[{\"type\":\"scattermapbox\",\"marker\":{\"colorbar\":{\"outlinewidth\":0,\"ticks\":\"\"}}}],\"scatterternary\":[{\"type\":\"scatterternary\",\"marker\":{\"colorbar\":{\"outlinewidth\":0,\"ticks\":\"\"}}}],\"scattercarpet\":[{\"type\":\"scattercarpet\",\"marker\":{\"colorbar\":{\"outlinewidth\":0,\"ticks\":\"\"}}}],\"carpet\":[{\"aaxis\":{\"endlinecolor\":\"#2a3f5f\",\"gridcolor\":\"white\",\"linecolor\":\"white\",\"minorgridcolor\":\"white\",\"startlinecolor\":\"#2a3f5f\"},\"baxis\":{\"endlinecolor\":\"#2a3f5f\",\"gridcolor\":\"white\",\"linecolor\":\"white\",\"minorgridcolor\":\"white\",\"startlinecolor\":\"#2a3f5f\"},\"type\":\"carpet\"}],\"table\":[{\"cells\":{\"fill\":{\"color\":\"#EBF0F8\"},\"line\":{\"color\":\"white\"}},\"header\":{\"fill\":{\"color\":\"#C8D4E3\"},\"line\":{\"color\":\"white\"}},\"type\":\"table\"}],\"barpolar\":[{\"marker\":{\"line\":{\"color\":\"#E5ECF6\",\"width\":0.5},\"pattern\":{\"fillmode\":\"overlay\",\"size\":10,\"solidity\":0.2}},\"type\":\"barpolar\"}],\"pie\":[{\"automargin\":true,\"type\":\"pie\"}]},\"layout\":{\"autotypenumbers\":\"strict\",\"colorway\":[\"#636efa\",\"#EF553B\",\"#00cc96\",\"#ab63fa\",\"#FFA15A\",\"#19d3f3\",\"#FF6692\",\"#B6E880\",\"#FF97FF\",\"#FECB52\"],\"font\":{\"color\":\"#2a3f5f\"},\"hovermode\":\"closest\",\"hoverlabel\":{\"align\":\"left\"},\"paper_bgcolor\":\"white\",\"plot_bgcolor\":\"#E5ECF6\",\"polar\":{\"bgcolor\":\"#E5ECF6\",\"angularaxis\":{\"gridcolor\":\"white\",\"linecolor\":\"white\",\"ticks\":\"\"},\"radialaxis\":{\"gridcolor\":\"white\",\"linecolor\":\"white\",\"ticks\":\"\"}},\"ternary\":{\"bgcolor\":\"#E5ECF6\",\"aaxis\":{\"gridcolor\":\"white\",\"linecolor\":\"white\",\"ticks\":\"\"},\"baxis\":{\"gridcolor\":\"white\",\"linecolor\":\"white\",\"ticks\":\"\"},\"caxis\":{\"gridcolor\":\"white\",\"linecolor\":\"white\",\"ticks\":\"\"}},\"coloraxis\":{\"colorbar\":{\"outlinewidth\":0,\"ticks\":\"\"}},\"colorscale\":{\"sequential\":[[0.0,\"#0d0887\"],[0.1111111111111111,\"#46039f\"],[0.2222222222222222,\"#7201a8\"],[0.3333333333333333,\"#9c179e\"],[0.4444444444444444,\"#bd3786\"],[0.5555555555555556,\"#d8576b\"],[0.6666666666666666,\"#ed7953\"],[0.7777777777777778,\"#fb9f3a\"],[0.8888888888888888,\"#fdca26\"],[1.0,\"#f0f921\"]],\"sequentialminus\":[[0.0,\"#0d0887\"],[0.1111111111111111,\"#46039f\"],[0.2222222222222222,\"#7201a8\"],[0.3333333333333333,\"#9c179e\"],[0.4444444444444444,\"#bd3786\"],[0.5555555555555556,\"#d8576b\"],[0.6666666666666666,\"#ed7953\"],[0.7777777777777778,\"#fb9f3a\"],[0.8888888888888888,\"#fdca26\"],[1.0,\"#f0f921\"]],\"diverging\":[[0,\"#8e0152\"],[0.1,\"#c51b7d\"],[0.2,\"#de77ae\"],[0.3,\"#f1b6da\"],[0.4,\"#fde0ef\"],[0.5,\"#f7f7f7\"],[0.6,\"#e6f5d0\"],[0.7,\"#b8e186\"],[0.8,\"#7fbc41\"],[0.9,\"#4d9221\"],[1,\"#276419\"]]},\"xaxis\":{\"gridcolor\":\"white\",\"linecolor\":\"white\",\"ticks\":\"\",\"title\":{\"standoff\":15},\"zerolinecolor\":\"white\",\"automargin\":true,\"zerolinewidth\":2},\"yaxis\":{\"gridcolor\":\"white\",\"linecolor\":\"white\",\"ticks\":\"\",\"title\":{\"standoff\":15},\"zerolinecolor\":\"white\",\"automargin\":true,\"zerolinewidth\":2},\"scene\":{\"xaxis\":{\"backgroundcolor\":\"#E5ECF6\",\"gridcolor\":\"white\",\"linecolor\":\"white\",\"showbackground\":true,\"ticks\":\"\",\"zerolinecolor\":\"white\",\"gridwidth\":2},\"yaxis\":{\"backgroundcolor\":\"#E5ECF6\",\"gridcolor\":\"white\",\"linecolor\":\"white\",\"showbackground\":true,\"ticks\":\"\",\"zerolinecolor\":\"white\",\"gridwidth\":2},\"zaxis\":{\"backgroundcolor\":\"#E5ECF6\",\"gridcolor\":\"white\",\"linecolor\":\"white\",\"showbackground\":true,\"ticks\":\"\",\"zerolinecolor\":\"white\",\"gridwidth\":2}},\"shapedefaults\":{\"line\":{\"color\":\"#2a3f5f\"}},\"annotationdefaults\":{\"arrowcolor\":\"#2a3f5f\",\"arrowhead\":0,\"arrowwidth\":1},\"geo\":{\"bgcolor\":\"white\",\"landcolor\":\"#E5ECF6\",\"subunitcolor\":\"white\",\"showland\":true,\"showlakes\":true,\"lakecolor\":\"white\"},\"title\":{\"x\":0.05},\"mapbox\":{\"style\":\"light\"}}},\"xaxis\":{\"title\":{\"text\":\"C\"},\"type\":\"log\"},\"yaxis\":{\"title\":{\"text\":\"Objective Value\"}}},                        {\"responsive\": true}                    ).then(function(){\n",
       "                            \n",
       "var gd = document.getElementById('923c614e-913e-478e-9f84-9cfec1622a2e');\n",
       "var x = new MutationObserver(function (mutations, observer) {{\n",
       "        var display = window.getComputedStyle(gd).display;\n",
       "        if (!display || display === 'none') {{\n",
       "            console.log([gd, 'removed!']);\n",
       "            Plotly.purge(gd);\n",
       "            observer.disconnect();\n",
       "        }}\n",
       "}});\n",
       "\n",
       "// Listen for the removal of the full notebook cells\n",
       "var notebookContainer = gd.closest('#notebook-container');\n",
       "if (notebookContainer) {{\n",
       "    x.observe(notebookContainer, {childList: true});\n",
       "}}\n",
       "\n",
       "// Listen for the clearing of the current output cell\n",
       "var outputEl = gd.closest('.output');\n",
       "if (outputEl) {{\n",
       "    x.observe(outputEl, {childList: true});\n",
       "}}\n",
       "\n",
       "                        })                };                });            </script>        </div>"
      ]
     },
     "metadata": {},
     "output_type": "display_data"
    },
    {
     "data": {
      "text/html": [
       "<div>                            <div id=\"22aeaa77-35d4-492e-bea4-706777f187fd\" class=\"plotly-graph-div\" style=\"height:525px; width:100%;\"></div>            <script type=\"text/javascript\">                require([\"plotly\"], function(Plotly) {                    window.PLOTLYENV=window.PLOTLYENV || {};                                    if (document.getElementById(\"22aeaa77-35d4-492e-bea4-706777f187fd\")) {                    Plotly.newPlot(                        \"22aeaa77-35d4-492e-bea4-706777f187fd\",                        [{\"marker\":{\"color\":[0,1,2,3,4,5,6,7,8,9,10,11,12,13,14,15,16,17,18,19,20,21,22,23,24,25,26,27,28,29,30,31,32,33,34,35,36,37,38,39,40,41,42,43,44,45,46,47,48,49,50,51,52,53,54,55,56,57,58,59,60,61,62,63,64,65,66,67,68,69,70,71,72,73,74,75,76,77,78,79,80,81,82,83,84,85,86,87,88,89,90,91,92,93,94,95,96,97,98,99,100,101,102,103,104,105,106,107,108,109,110,111,112,113,114,115,116,117,118,119,120,121,122,123,124,125,126,127,128,129,130,131,132,133,134,135,136,137,138,139,140,141,142,143,144,145,146,147,148,149,150,151,152,153,154,155,156,157,158,159,160,161,162,163,164,165,166,167,168,169,170,171,172,173,174,175,176,177,178,179,180,181,182,183,184,185,186,187,188,189,190,191,192,193,194,195,196,197,198,199],\"colorbar\":{\"title\":{\"text\":\"Trial\"},\"x\":1.0,\"xpad\":40},\"colorscale\":[[0.0,\"rgb(247,251,255)\"],[0.125,\"rgb(222,235,247)\"],[0.25,\"rgb(198,219,239)\"],[0.375,\"rgb(158,202,225)\"],[0.5,\"rgb(107,174,214)\"],[0.625,\"rgb(66,146,198)\"],[0.75,\"rgb(33,113,181)\"],[0.875,\"rgb(8,81,156)\"],[1.0,\"rgb(8,48,107)\"]],\"line\":{\"color\":\"Grey\",\"width\":0.5}},\"mode\":\"markers\",\"name\":\"Feasible Trial\",\"showlegend\":false,\"x\":[0.0010453324502514864,0.2459824306314805,8058.449909187287,1.096253177932919,1698.3848454200681,1.856507201264688e-6,1.58232527511804,618.1323076363907,1890278.0565587147,1.447966661430867e-6,0.015308147388614456,0.01937852484111887,0.00039982074373666227,0.0010655454488537187,7.177742977519426e-8,0.00006655408523900039,19.69414197012079,0.005817864053178833,0.000054643788201487326,0.007975793372850726,33.50547560598507,0.00804452004107143,0.026069430810028268,0.2733947109954105,0.04015994249142013,0.000010022595894530785,71.33417077083094,4.894928737819386,0.19418667092175476,0.002280064970281739,0.00006348049507764593,0.0031926088380497277,0.0006514850859616252,0.046601044007901084,0.10643927890391516,0.0002570212262347578,0.003181408327532364,0.004379896396296859,1.4761447612809822,0.0000110391492760413,1199933.2303578265,0.006080695187120681,0.47788589541668525,0.00019905588853187382,0.0024321171017893644,0.007251250388026832,1.534448836548855e-6,4.27579986500789,8.818861117546278e-6,61947.12535282269,0.0011466735722933921,0.006064523683713313,0.023450931944406256,0.012998247785192485,0.09412405527861133,0.00015555219404011068,0.0008095851571736411,1.1469274715466606e-7,0.00801488439530496,0.00004449104790782631,0.4997923554537374,0.013601818931597055,0.005386260759728755,0.0878932368975637,0.0012872167012412037,0.005292790145612649,0.00046435607727536414,0.002533974059819222,0.000026617512885525906,0.05448207952057076,0.04362340294158175,0.047347559523026134,0.04911222574219368,0.04065091118172577,4.189620818318212,0.19723519809523044,0.6849343785410037,0.06239891398309383,0.060731143136936484,14.926725400487724,1.8900835737116133,0.09482338866731711,0.049002386902739406,0.025521845485843304,0.2689133392859903,0.03206063570416193,1.1945670988810844,0.019216757426382885,0.20200173708245472,0.029547487948084674,0.012219283773233891,0.04622318210915671,0.12135585226778065,0.0016083791404859831,0.39040360840443256,26413911.566094533,0.021273885895855472,0.01622498455646809,230.40425188619056,0.011593208116692007,2.5690202150511188,0.021119759134759105,0.004403981188679387,0.13588637146320423,0.02673815645477836,0.7724508171198803,0.06307116154376549,0.0003677999465080841,0.009563374675114828,0.0033913380783761175,0.0011054188433656086,0.03076792984264125,0.3089932760965371,0.019688838660333413,0.007393136365743669,0.006983462516919154,0.002124553926016268,0.007251682642959841,0.008012342841903108,0.00010760024837389663,0.0005806998952135233,0.006677926218292067,0.012341972788027938,0.0030395501752900345,0.13427411755404278,0.06427289020347057,0.005313318987071873,0.0011975142877865069,0.018426075987654295,0.03384822685404394,0.03199581317052567,0.0121037644567241,0.08073027408033277,0.006821817205023958,0.19573821659602086,0.002126952244076787,0.0377578884116579,0.00366877312092097,0.020217096975041666,0.5301693707892116,0.0742192157938479,0.0056521894424157604,0.009027401413152525,0.04360866848128954,0.14748621756198535,0.03341592659126406,0.01543098170884045,0.06848493637277267,0.03950449863493823,0.0018341528690672686,0.25909173352987674,0.005220605031694877,0.00073446721208223,0.014709946634354766,0.008146392108912949,0.027008203721276065,0.0033365839206885503,0.04926031832486926,0.09973616693049722,0.010899613911929755,0.01778152065223658,0.010792889531512691,0.0038937031015485674,0.0014581702108056916,0.007127003634420843,2807.5420342266348,0.032742310987455045,0.008577672131587983,0.12863059770155122,0.06464863956329205,0.01877592212957192,0.005838129161561421,0.0027287947013341024,0.00771182144490496,0.0195896163123144,0.005158014078884481,0.04608279264756773,0.011888024480536582,0.0008918883288773184,0.028231663050138116,0.002163399345074135,0.004855688579007472,0.01106331789758934,0.012538780447177763,0.030821528363604692,0.08208430330757174,0.007424165689274004,0.20049103049765662,0.04905658283139681,0.017907920803385657,0.0029988517651359284,0.007620165120874838,0.011550011636756204,0.006203854061214242,0.02745231304380469,0.015488363556195628,0.0014158100549430139,0.0040446258334631575,0.11068745153474024,0.04759465956817113],\"y\":[0.8560000000000001,0.92075,0.541,0.95425,0.541,0.541,0.541,0.5805,0.5427500000000001,0.541,0.9802500000000001,0.9810000000000001,0.9800000000000001,0.98125,0.9157499999999998,0.9792499999999998,0.8575000000000002,0.98225,0.97875,0.983,0.8245000000000001,0.9825000000000002,0.9822500000000002,0.9735000000000001,0.9795000000000001,0.9565000000000001,0.765,0.9125,0.97575,0.9177500000000001,0.91525,0.98275,0.9807499999999999,0.9802500000000001,0.8717499999999999,0.9802500000000001,0.983,0.8952499999999999,0.9497499999999999,0.9804999999999999,0.5427500000000001,0.9835000000000003,0.541,0.98125,0.97675,0.9845000000000003,0.9179999999999999,0.9174999999999999,0.541,0.5427500000000001,0.98125,0.9800000000000001,0.9814999999999999,0.9799999999999999,0.9792500000000001,0.9804999999999999,0.9785,0.8992500000000001,0.98275,0.9804999999999999,0.9657500000000001,0.982,0.982,0.9802500000000001,0.9814999999999999,0.984,0.9530000000000001,0.9555,0.9572499999999999,0.984,0.98375,0.9840000000000002,0.9844999999999999,0.9777500000000001,0.90075,0.97875,0.96175,0.9840000000000002,0.98375,0.87475,0.9412500000000001,0.983,0.9842500000000001,0.984,0.9762500000000001,0.9842500000000001,0.9537500000000001,0.9497499999999999,0.9789999999999999,0.977,0.9780000000000001,0.983,0.9822500000000002,0.9800000000000001,0.9702499999999998,0.5427500000000001,0.9852500000000001,0.98475,0.6657500000000001,0.9835,0.93125,0.9817500000000001,0.9622499999999998,0.98225,0.9842500000000001,0.96,0.9822500000000002,0.9577500000000001,0.9835,0.98375,0.97875,0.984,0.9754999999999999,0.9800000000000001,0.98475,0.98475,0.9817499999999999,0.98475,0.9825000000000002,0.9772500000000001,0.9775,0.9850000000000001,0.98225,0.541,0.9799999999999999,0.9817499999999999,0.98375,0.79725,0.9817500000000001,0.9845,0.98325,0.9837500000000002,0.98275,0.982,0.97875,0.982,0.9825000000000002,0.984,0.9802499999999998,0.9657500000000001,0.9814999999999999,0.984,0.984,0.9850000000000001,0.9817499999999999,0.9829999999999999,0.9835,0.97875,0.98375,0.9767500000000002,0.97525,0.984,0.9807500000000001,0.984,0.98125,0.9835,0.9835,0.98125,0.9824999999999999,0.9845,0.98275,0.9817500000000001,0.98325,0.9795000000000001,0.9842500000000001,0.551,0.982,0.984,0.9822500000000002,0.9832500000000002,0.9802500000000001,0.98425,0.982,0.98325,0.9824999999999999,0.9835,0.9817500000000001,0.982,0.9782499999999998,0.984,0.9817500000000001,0.98325,0.9842500000000001,0.98325,0.98375,0.9814999999999999,0.98325,0.9792499999999998,0.9832500000000002,0.9835,0.9824999999999999,0.9842500000000001,0.984,0.9840000000000002,0.984,0.98125,0.9760000000000002,0.983,0.9789999999999999,0.98275],\"type\":\"scatter\"}],                        {\"title\":{\"text\":\"Slice Plot\"},\"template\":{\"data\":{\"histogram2dcontour\":[{\"type\":\"histogram2dcontour\",\"colorbar\":{\"outlinewidth\":0,\"ticks\":\"\"},\"colorscale\":[[0.0,\"#0d0887\"],[0.1111111111111111,\"#46039f\"],[0.2222222222222222,\"#7201a8\"],[0.3333333333333333,\"#9c179e\"],[0.4444444444444444,\"#bd3786\"],[0.5555555555555556,\"#d8576b\"],[0.6666666666666666,\"#ed7953\"],[0.7777777777777778,\"#fb9f3a\"],[0.8888888888888888,\"#fdca26\"],[1.0,\"#f0f921\"]]}],\"choropleth\":[{\"type\":\"choropleth\",\"colorbar\":{\"outlinewidth\":0,\"ticks\":\"\"}}],\"histogram2d\":[{\"type\":\"histogram2d\",\"colorbar\":{\"outlinewidth\":0,\"ticks\":\"\"},\"colorscale\":[[0.0,\"#0d0887\"],[0.1111111111111111,\"#46039f\"],[0.2222222222222222,\"#7201a8\"],[0.3333333333333333,\"#9c179e\"],[0.4444444444444444,\"#bd3786\"],[0.5555555555555556,\"#d8576b\"],[0.6666666666666666,\"#ed7953\"],[0.7777777777777778,\"#fb9f3a\"],[0.8888888888888888,\"#fdca26\"],[1.0,\"#f0f921\"]]}],\"heatmap\":[{\"type\":\"heatmap\",\"colorbar\":{\"outlinewidth\":0,\"ticks\":\"\"},\"colorscale\":[[0.0,\"#0d0887\"],[0.1111111111111111,\"#46039f\"],[0.2222222222222222,\"#7201a8\"],[0.3333333333333333,\"#9c179e\"],[0.4444444444444444,\"#bd3786\"],[0.5555555555555556,\"#d8576b\"],[0.6666666666666666,\"#ed7953\"],[0.7777777777777778,\"#fb9f3a\"],[0.8888888888888888,\"#fdca26\"],[1.0,\"#f0f921\"]]}],\"heatmapgl\":[{\"type\":\"heatmapgl\",\"colorbar\":{\"outlinewidth\":0,\"ticks\":\"\"},\"colorscale\":[[0.0,\"#0d0887\"],[0.1111111111111111,\"#46039f\"],[0.2222222222222222,\"#7201a8\"],[0.3333333333333333,\"#9c179e\"],[0.4444444444444444,\"#bd3786\"],[0.5555555555555556,\"#d8576b\"],[0.6666666666666666,\"#ed7953\"],[0.7777777777777778,\"#fb9f3a\"],[0.8888888888888888,\"#fdca26\"],[1.0,\"#f0f921\"]]}],\"contourcarpet\":[{\"type\":\"contourcarpet\",\"colorbar\":{\"outlinewidth\":0,\"ticks\":\"\"}}],\"contour\":[{\"type\":\"contour\",\"colorbar\":{\"outlinewidth\":0,\"ticks\":\"\"},\"colorscale\":[[0.0,\"#0d0887\"],[0.1111111111111111,\"#46039f\"],[0.2222222222222222,\"#7201a8\"],[0.3333333333333333,\"#9c179e\"],[0.4444444444444444,\"#bd3786\"],[0.5555555555555556,\"#d8576b\"],[0.6666666666666666,\"#ed7953\"],[0.7777777777777778,\"#fb9f3a\"],[0.8888888888888888,\"#fdca26\"],[1.0,\"#f0f921\"]]}],\"surface\":[{\"type\":\"surface\",\"colorbar\":{\"outlinewidth\":0,\"ticks\":\"\"},\"colorscale\":[[0.0,\"#0d0887\"],[0.1111111111111111,\"#46039f\"],[0.2222222222222222,\"#7201a8\"],[0.3333333333333333,\"#9c179e\"],[0.4444444444444444,\"#bd3786\"],[0.5555555555555556,\"#d8576b\"],[0.6666666666666666,\"#ed7953\"],[0.7777777777777778,\"#fb9f3a\"],[0.8888888888888888,\"#fdca26\"],[1.0,\"#f0f921\"]]}],\"mesh3d\":[{\"type\":\"mesh3d\",\"colorbar\":{\"outlinewidth\":0,\"ticks\":\"\"}}],\"scatter\":[{\"fillpattern\":{\"fillmode\":\"overlay\",\"size\":10,\"solidity\":0.2},\"type\":\"scatter\"}],\"parcoords\":[{\"type\":\"parcoords\",\"line\":{\"colorbar\":{\"outlinewidth\":0,\"ticks\":\"\"}}}],\"scatterpolargl\":[{\"type\":\"scatterpolargl\",\"marker\":{\"colorbar\":{\"outlinewidth\":0,\"ticks\":\"\"}}}],\"bar\":[{\"error_x\":{\"color\":\"#2a3f5f\"},\"error_y\":{\"color\":\"#2a3f5f\"},\"marker\":{\"line\":{\"color\":\"#E5ECF6\",\"width\":0.5},\"pattern\":{\"fillmode\":\"overlay\",\"size\":10,\"solidity\":0.2}},\"type\":\"bar\"}],\"scattergeo\":[{\"type\":\"scattergeo\",\"marker\":{\"colorbar\":{\"outlinewidth\":0,\"ticks\":\"\"}}}],\"scatterpolar\":[{\"type\":\"scatterpolar\",\"marker\":{\"colorbar\":{\"outlinewidth\":0,\"ticks\":\"\"}}}],\"histogram\":[{\"marker\":{\"pattern\":{\"fillmode\":\"overlay\",\"size\":10,\"solidity\":0.2}},\"type\":\"histogram\"}],\"scattergl\":[{\"type\":\"scattergl\",\"marker\":{\"colorbar\":{\"outlinewidth\":0,\"ticks\":\"\"}}}],\"scatter3d\":[{\"type\":\"scatter3d\",\"line\":{\"colorbar\":{\"outlinewidth\":0,\"ticks\":\"\"}},\"marker\":{\"colorbar\":{\"outlinewidth\":0,\"ticks\":\"\"}}}],\"scattermapbox\":[{\"type\":\"scattermapbox\",\"marker\":{\"colorbar\":{\"outlinewidth\":0,\"ticks\":\"\"}}}],\"scatterternary\":[{\"type\":\"scatterternary\",\"marker\":{\"colorbar\":{\"outlinewidth\":0,\"ticks\":\"\"}}}],\"scattercarpet\":[{\"type\":\"scattercarpet\",\"marker\":{\"colorbar\":{\"outlinewidth\":0,\"ticks\":\"\"}}}],\"carpet\":[{\"aaxis\":{\"endlinecolor\":\"#2a3f5f\",\"gridcolor\":\"white\",\"linecolor\":\"white\",\"minorgridcolor\":\"white\",\"startlinecolor\":\"#2a3f5f\"},\"baxis\":{\"endlinecolor\":\"#2a3f5f\",\"gridcolor\":\"white\",\"linecolor\":\"white\",\"minorgridcolor\":\"white\",\"startlinecolor\":\"#2a3f5f\"},\"type\":\"carpet\"}],\"table\":[{\"cells\":{\"fill\":{\"color\":\"#EBF0F8\"},\"line\":{\"color\":\"white\"}},\"header\":{\"fill\":{\"color\":\"#C8D4E3\"},\"line\":{\"color\":\"white\"}},\"type\":\"table\"}],\"barpolar\":[{\"marker\":{\"line\":{\"color\":\"#E5ECF6\",\"width\":0.5},\"pattern\":{\"fillmode\":\"overlay\",\"size\":10,\"solidity\":0.2}},\"type\":\"barpolar\"}],\"pie\":[{\"automargin\":true,\"type\":\"pie\"}]},\"layout\":{\"autotypenumbers\":\"strict\",\"colorway\":[\"#636efa\",\"#EF553B\",\"#00cc96\",\"#ab63fa\",\"#FFA15A\",\"#19d3f3\",\"#FF6692\",\"#B6E880\",\"#FF97FF\",\"#FECB52\"],\"font\":{\"color\":\"#2a3f5f\"},\"hovermode\":\"closest\",\"hoverlabel\":{\"align\":\"left\"},\"paper_bgcolor\":\"white\",\"plot_bgcolor\":\"#E5ECF6\",\"polar\":{\"bgcolor\":\"#E5ECF6\",\"angularaxis\":{\"gridcolor\":\"white\",\"linecolor\":\"white\",\"ticks\":\"\"},\"radialaxis\":{\"gridcolor\":\"white\",\"linecolor\":\"white\",\"ticks\":\"\"}},\"ternary\":{\"bgcolor\":\"#E5ECF6\",\"aaxis\":{\"gridcolor\":\"white\",\"linecolor\":\"white\",\"ticks\":\"\"},\"baxis\":{\"gridcolor\":\"white\",\"linecolor\":\"white\",\"ticks\":\"\"},\"caxis\":{\"gridcolor\":\"white\",\"linecolor\":\"white\",\"ticks\":\"\"}},\"coloraxis\":{\"colorbar\":{\"outlinewidth\":0,\"ticks\":\"\"}},\"colorscale\":{\"sequential\":[[0.0,\"#0d0887\"],[0.1111111111111111,\"#46039f\"],[0.2222222222222222,\"#7201a8\"],[0.3333333333333333,\"#9c179e\"],[0.4444444444444444,\"#bd3786\"],[0.5555555555555556,\"#d8576b\"],[0.6666666666666666,\"#ed7953\"],[0.7777777777777778,\"#fb9f3a\"],[0.8888888888888888,\"#fdca26\"],[1.0,\"#f0f921\"]],\"sequentialminus\":[[0.0,\"#0d0887\"],[0.1111111111111111,\"#46039f\"],[0.2222222222222222,\"#7201a8\"],[0.3333333333333333,\"#9c179e\"],[0.4444444444444444,\"#bd3786\"],[0.5555555555555556,\"#d8576b\"],[0.6666666666666666,\"#ed7953\"],[0.7777777777777778,\"#fb9f3a\"],[0.8888888888888888,\"#fdca26\"],[1.0,\"#f0f921\"]],\"diverging\":[[0,\"#8e0152\"],[0.1,\"#c51b7d\"],[0.2,\"#de77ae\"],[0.3,\"#f1b6da\"],[0.4,\"#fde0ef\"],[0.5,\"#f7f7f7\"],[0.6,\"#e6f5d0\"],[0.7,\"#b8e186\"],[0.8,\"#7fbc41\"],[0.9,\"#4d9221\"],[1,\"#276419\"]]},\"xaxis\":{\"gridcolor\":\"white\",\"linecolor\":\"white\",\"ticks\":\"\",\"title\":{\"standoff\":15},\"zerolinecolor\":\"white\",\"automargin\":true,\"zerolinewidth\":2},\"yaxis\":{\"gridcolor\":\"white\",\"linecolor\":\"white\",\"ticks\":\"\",\"title\":{\"standoff\":15},\"zerolinecolor\":\"white\",\"automargin\":true,\"zerolinewidth\":2},\"scene\":{\"xaxis\":{\"backgroundcolor\":\"#E5ECF6\",\"gridcolor\":\"white\",\"linecolor\":\"white\",\"showbackground\":true,\"ticks\":\"\",\"zerolinecolor\":\"white\",\"gridwidth\":2},\"yaxis\":{\"backgroundcolor\":\"#E5ECF6\",\"gridcolor\":\"white\",\"linecolor\":\"white\",\"showbackground\":true,\"ticks\":\"\",\"zerolinecolor\":\"white\",\"gridwidth\":2},\"zaxis\":{\"backgroundcolor\":\"#E5ECF6\",\"gridcolor\":\"white\",\"linecolor\":\"white\",\"showbackground\":true,\"ticks\":\"\",\"zerolinecolor\":\"white\",\"gridwidth\":2}},\"shapedefaults\":{\"line\":{\"color\":\"#2a3f5f\"}},\"annotationdefaults\":{\"arrowcolor\":\"#2a3f5f\",\"arrowhead\":0,\"arrowwidth\":1},\"geo\":{\"bgcolor\":\"white\",\"landcolor\":\"#E5ECF6\",\"subunitcolor\":\"white\",\"showland\":true,\"showlakes\":true,\"lakecolor\":\"white\"},\"title\":{\"x\":0.05},\"mapbox\":{\"style\":\"light\"}}},\"xaxis\":{\"title\":{\"text\":\"gamma\"},\"type\":\"log\"},\"yaxis\":{\"title\":{\"text\":\"Objective Value\"}}},                        {\"responsive\": true}                    ).then(function(){\n",
       "                            \n",
       "var gd = document.getElementById('22aeaa77-35d4-492e-bea4-706777f187fd');\n",
       "var x = new MutationObserver(function (mutations, observer) {{\n",
       "        var display = window.getComputedStyle(gd).display;\n",
       "        if (!display || display === 'none') {{\n",
       "            console.log([gd, 'removed!']);\n",
       "            Plotly.purge(gd);\n",
       "            observer.disconnect();\n",
       "        }}\n",
       "}});\n",
       "\n",
       "// Listen for the removal of the full notebook cells\n",
       "var notebookContainer = gd.closest('#notebook-container');\n",
       "if (notebookContainer) {{\n",
       "    x.observe(notebookContainer, {childList: true});\n",
       "}}\n",
       "\n",
       "// Listen for the clearing of the current output cell\n",
       "var outputEl = gd.closest('.output');\n",
       "if (outputEl) {{\n",
       "    x.observe(outputEl, {childList: true});\n",
       "}}\n",
       "\n",
       "                        })                };                });            </script>        </div>"
      ]
     },
     "metadata": {},
     "output_type": "display_data"
    }
   ],
   "source": [
    "# SVC\n",
    "# Create an Optuna study\n",
    "study = optuna.create_study(direction='maximize')\n",
    "\n",
    "# Optimize the hyperparameters\n",
    "study.optimize(objective_SVC, n_trials=200)\n",
    "\n",
    "# Get the best parameters and best score\n",
    "best_params_SVC = study.best_params\n",
    "best_score = study.best_value\n",
    "\n",
    "print(\"Best params: \", best_params_SVC)\n",
    "print(\"Best score: \", best_score)\n",
    "\n",
    "# Visualize the optimization history\n",
    "optuna.visualization.plot_optimization_history(study)\n",
    "\n",
    "# Visualize the parameter importances\n",
    "optuna.visualization.plot_param_importances(study)\n",
    "\n",
    "# Create accuracy plots for each hyperparameter\n",
    "hyperparameters = ['C', 'gamma']\n",
    "for param in hyperparameters:\n",
    "    # Visualize the parameter relationship with accuracy\n",
    "    fig = optuna.visualization.plot_slice(study, params=[param])\n",
    "    fig.show()\n",
    "\n",
    "# Best params:  {'C': 126.20701596403441, 'gamma': 0.012668493747853154, 'kernel': 'rbf'}\n",
    "# Best score:  0.9845\n",
    "# Best params:  {'C': 129.19717801945768, 'gamma': 0.013344723038063278, 'kernel': 'rbf'}\n",
    "# Best score:  0.9845"
   ]
  },
  {
   "cell_type": "markdown",
   "id": "94a4bacd",
   "metadata": {
    "papermill": {
     "duration": 0.009927,
     "end_time": "2024-04-26T20:05:47.924888",
     "exception": false,
     "start_time": "2024-04-26T20:05:47.914961",
     "status": "completed"
    },
    "tags": []
   },
   "source": [
    "Testing tuned classifiers"
   ]
  },
  {
   "cell_type": "code",
   "execution_count": 16,
   "id": "9f511b17",
   "metadata": {
    "execution": {
     "iopub.execute_input": "2024-04-26T20:05:47.946830Z",
     "iopub.status.busy": "2024-04-26T20:05:47.945861Z",
     "iopub.status.idle": "2024-04-26T20:05:47.953410Z",
     "shell.execute_reply": "2024-04-26T20:05:47.952633Z"
    },
    "papermill": {
     "duration": 0.020937,
     "end_time": "2024-04-26T20:05:47.955520",
     "exception": false,
     "start_time": "2024-04-26T20:05:47.934583",
     "status": "completed"
    },
    "tags": []
   },
   "outputs": [],
   "source": [
    "classifiers = {\n",
    "    # num_hidden_units=400 and C=2 for ELM proposed by paper\n",
    "    \"ELM for binary\": ELM(122, 400, 2, C=2), \n",
    "    \"ELM for multiclass\": ELM(122, 400, 37, C=2),\n",
    "    \"Kernel ELM for binary\": KELM(**best_params_KELM_bin),\n",
    "    \"Kernel ELM for multiclass\": KELM(**best_params_KELM),\n",
    "    \"SVM for binary\": SVC(**best_params_SVC_bin),\n",
    "    \"SVM for multiclass\": SVC(**best_params_SVC)\n",
    "}"
   ]
  },
  {
   "cell_type": "code",
   "execution_count": 17,
   "id": "6033ba12",
   "metadata": {
    "execution": {
     "iopub.execute_input": "2024-04-26T20:05:47.977164Z",
     "iopub.status.busy": "2024-04-26T20:05:47.976588Z",
     "iopub.status.idle": "2024-04-26T20:05:54.010168Z",
     "shell.execute_reply": "2024-04-26T20:05:54.008541Z"
    },
    "papermill": {
     "duration": 6.047187,
     "end_time": "2024-04-26T20:05:54.012578",
     "exception": false,
     "start_time": "2024-04-26T20:05:47.965391",
     "status": "completed"
    },
    "tags": []
   },
   "outputs": [
    {
     "name": "stdout",
     "output_type": "stream",
     "text": [
      "Classifier: ELM for binary\n",
      "Fit Time: 0.1732 seconds\n",
      "Predict Time: 0.0656 seconds\n",
      "Accuracy: 0.9858\n",
      "95% Confidence Interval: [0.9816, 0.9890]\n",
      "\n",
      "Classifier: ELM for multiclass\n",
      "Fit Time: 0.1094 seconds\n",
      "Predict Time: 0.0656 seconds\n",
      "Accuracy: 0.9782\n",
      "95% Confidence Interval: [0.9732, 0.9823]\n",
      "\n",
      "Classifier: Kernel ELM for binary\n",
      "Fit Time: 1.9819 seconds\n",
      "Predict Time: 0.4411 seconds\n",
      "Accuracy: 0.9855\n",
      "95% Confidence Interval: [0.9813, 0.9888]\n",
      "\n",
      "Classifier: Kernel ELM for multiclass\n",
      "Fit Time: 1.7862 seconds\n",
      "Predict Time: 0.4691 seconds\n",
      "Accuracy: 0.9842\n",
      "95% Confidence Interval: [0.9799, 0.9877]\n",
      "\n",
      "Classifier: SVM for binary\n",
      "Fit Time: 0.2069 seconds\n",
      "Predict Time: 0.1193 seconds\n",
      "Accuracy: 0.9865\n",
      "95% Confidence Interval: [0.9824, 0.9896]\n",
      "\n",
      "Classifier: SVM for multiclass\n",
      "Fit Time: 0.2826 seconds\n",
      "Predict Time: 0.3026 seconds\n",
      "Accuracy: 0.9870\n",
      "95% Confidence Interval: [0.9830, 0.9901]\n",
      "\n"
     ]
    }
   ],
   "source": [
    "for name, classifier in classifiers.items():\n",
    "    # Fit the classifier on the training data\n",
    "    if name.endswith(\"binary\"):\n",
    "        ys_train = y_train_bin\n",
    "        ys_test = y_test_bin\n",
    "    else:\n",
    "        ys_train = y_train\n",
    "        ys_test = y_test\n",
    "    if name.startswith(\"ELM\"):\n",
    "        # because ELM initializes wit\n",
    "        times = []\n",
    "        accuracies = []\n",
    "    start_time = time.time()\n",
    "    classifier.fit(X_train, ys_train)\n",
    "    end_time = time.time()\n",
    "    fit_time = end_time - start_time\n",
    "    \n",
    "    # Make predictions on the test data\n",
    "    start_time = time.time()\n",
    "    y_pred = classifier.predict(X_test)\n",
    "    end_time = time.time()\n",
    "    predict_time = end_time - start_time\n",
    "    \n",
    "    # Calculate the accuracy\n",
    "    accuracy = accuracy_score(ys_test, y_pred)\n",
    "    \n",
    "    # Calculate the 95% confidence interval\n",
    "    n_samples = len(ys_test)\n",
    "    lower, upper = proportion_confint(int(accuracy * n_samples), n_samples, alpha=0.05, method='wilson')\n",
    "    \n",
    "    print(f\"Classifier: {name}\")\n",
    "    print(f\"Fit Time: {fit_time:.4f} seconds\")\n",
    "    print(f\"Predict Time: {predict_time:.4f} seconds\")\n",
    "    print(f\"Accuracy: {accuracy:.4f}\")\n",
    "    print(f\"95% Confidence Interval: [{lower:.4f}, {upper:.4f}]\")\n",
    "    print()"
   ]
  }
 ],
 "metadata": {
  "kaggle": {
   "accelerator": "none",
   "dataSources": [
    {
     "datasetId": 4877157,
     "sourceId": 8225555,
     "sourceType": "datasetVersion"
    }
   ],
   "dockerImageVersionId": 30698,
   "isGpuEnabled": false,
   "isInternetEnabled": true,
   "language": "python",
   "sourceType": "notebook"
  },
  "kernelspec": {
   "display_name": "Python 3",
   "language": "python",
   "name": "python3"
  },
  "language_info": {
   "codemirror_mode": {
    "name": "ipython",
    "version": 3
   },
   "file_extension": ".py",
   "mimetype": "text/x-python",
   "name": "python",
   "nbconvert_exporter": "python",
   "pygments_lexer": "ipython3",
   "version": "3.10.12"
  },
  "papermill": {
   "default_parameters": {},
   "duration": 5454.105021,
   "end_time": "2024-04-26T20:05:56.656746",
   "environment_variables": {},
   "exception": null,
   "input_path": "__notebook__.ipynb",
   "output_path": "__notebook__.ipynb",
   "parameters": {},
   "start_time": "2024-04-26T18:35:02.551725",
   "version": "2.5.0"
  }
 },
 "nbformat": 4,
 "nbformat_minor": 5
}
