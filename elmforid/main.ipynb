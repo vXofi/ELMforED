{
 "cells": [
  {
   "cell_type": "code",
   "execution_count": 55,
   "metadata": {},
   "outputs": [],
   "source": [
    "import numpy as np\n",
    "import pandas as pd\n",
    "from numpy.linalg import inv, pinv\n",
    "from sklearn.preprocessing import OneHotEncoder, StandardScaler\n",
    "from sklearn.metrics import accuracy_score, precision_score, recall_score, f1_score, classification_report\n",
    "from sklearn.svm import SVC\n",
    "from sklearn.multiclass import OneVsOneClassifier\n",
    "from sklearn.model_selection import GridSearchCV, RandomizedSearchCV\n",
    "from sklearn.utils.multiclass import unique_labels\n",
    "from sklearn.utils import resample\n",
    "from sklearn.base import BaseEstimator, ClassifierMixin\n",
    "from typing import Optional\n",
    "from matplotlib import pyplot as plt"
   ]
  },
  {
   "cell_type": "code",
   "execution_count": 8,
   "metadata": {},
   "outputs": [],
   "source": [
    "week1 = pd.read_csv(\"/home/vxofi/Datasets/Intrusions/week1/week1.csv\", sep=\";\", header=None)\n",
    "week2 = pd.read_csv(\"/home/vxofi/Datasets/Intrusions/week2/week2.csv\", sep=\";\", header=None)\n",
    "week3 = pd.read_csv(\"/home/vxofi/Datasets/Intrusions/week3/week3.csv\", sep=\";\", header=None)\n",
    "week4 = pd.read_csv(\"/home/vxofi/Datasets/Intrusions/week4/week4.csv\", sep=\";\", header=None)\n",
    "week5 = pd.read_csv(\"/home/vxofi/Datasets/Intrusions/week5/week5.csv\", sep=\";\", header=None)\n",
    "week6 = pd.read_csv(\"/home/vxofi/Datasets/Intrusions/week6/week6.csv\", sep=\";\", header=None)\n",
    "week7 = pd.read_csv(\"/home/vxofi/Datasets/Intrusions/week7/week7.csv\", sep=\";\", header=None)\n",
    "week8_true = pd.read_csv(\"/home/vxofi/Datasets/Intrusions/week8_true/week8_true.csv\", sep=\";\", header=None)\n",
    "week9_true = pd.read_csv(\"/home/vxofi/Datasets/Intrusions/week9_true/week9_true.csv\", sep=\";\", header=None)"
   ]
  },
  {
   "cell_type": "code",
   "execution_count": 9,
   "metadata": {},
   "outputs": [
    {
     "data": {
      "text/html": [
       "<div>\n",
       "<style scoped>\n",
       "    .dataframe tbody tr th:only-of-type {\n",
       "        vertical-align: middle;\n",
       "    }\n",
       "\n",
       "    .dataframe tbody tr th {\n",
       "        vertical-align: top;\n",
       "    }\n",
       "\n",
       "    .dataframe thead th {\n",
       "        text-align: right;\n",
       "    }\n",
       "</style>\n",
       "<table border=\"1\" class=\"dataframe\">\n",
       "  <thead>\n",
       "    <tr style=\"text-align: right;\">\n",
       "      <th></th>\n",
       "      <th>0</th>\n",
       "      <th>1</th>\n",
       "      <th>2</th>\n",
       "      <th>3</th>\n",
       "      <th>4</th>\n",
       "      <th>5</th>\n",
       "      <th>6</th>\n",
       "      <th>7</th>\n",
       "      <th>8</th>\n",
       "      <th>9</th>\n",
       "      <th>10</th>\n",
       "    </tr>\n",
       "  </thead>\n",
       "  <tbody>\n",
       "    <tr>\n",
       "      <th>0</th>\n",
       "      <td>1</td>\n",
       "      <td>06.02.1998</td>\n",
       "      <td>00:00:07</td>\n",
       "      <td>00:00:01</td>\n",
       "      <td>http</td>\n",
       "      <td>2127</td>\n",
       "      <td>80</td>\n",
       "      <td>172.016.114.207</td>\n",
       "      <td>152.163.214.011</td>\n",
       "      <td>0</td>\n",
       "      <td>-</td>\n",
       "    </tr>\n",
       "    <tr>\n",
       "      <th>1</th>\n",
       "      <td>2</td>\n",
       "      <td>06.02.1998</td>\n",
       "      <td>00:00:07</td>\n",
       "      <td>00:00:01</td>\n",
       "      <td>http</td>\n",
       "      <td>2139</td>\n",
       "      <td>80</td>\n",
       "      <td>172.016.114.207</td>\n",
       "      <td>152.163.212.172</td>\n",
       "      <td>0</td>\n",
       "      <td>-</td>\n",
       "    </tr>\n",
       "    <tr>\n",
       "      <th>2</th>\n",
       "      <td>3</td>\n",
       "      <td>06.02.1998</td>\n",
       "      <td>00:00:07</td>\n",
       "      <td>00:00:01</td>\n",
       "      <td>http</td>\n",
       "      <td>2128</td>\n",
       "      <td>80</td>\n",
       "      <td>172.016.114.207</td>\n",
       "      <td>152.163.214.011</td>\n",
       "      <td>0</td>\n",
       "      <td>-</td>\n",
       "    </tr>\n",
       "    <tr>\n",
       "      <th>3</th>\n",
       "      <td>4</td>\n",
       "      <td>06.02.1998</td>\n",
       "      <td>00:00:07</td>\n",
       "      <td>00:00:01</td>\n",
       "      <td>http</td>\n",
       "      <td>2129</td>\n",
       "      <td>80</td>\n",
       "      <td>172.016.114.207</td>\n",
       "      <td>152.163.214.011</td>\n",
       "      <td>0</td>\n",
       "      <td>-</td>\n",
       "    </tr>\n",
       "    <tr>\n",
       "      <th>4</th>\n",
       "      <td>5</td>\n",
       "      <td>06.02.1998</td>\n",
       "      <td>00:00:07</td>\n",
       "      <td>00:00:01</td>\n",
       "      <td>http</td>\n",
       "      <td>2130</td>\n",
       "      <td>80</td>\n",
       "      <td>172.016.114.207</td>\n",
       "      <td>152.163.214.011</td>\n",
       "      <td>0</td>\n",
       "      <td>-</td>\n",
       "    </tr>\n",
       "  </tbody>\n",
       "</table>\n",
       "</div>"
      ],
      "text/plain": [
       "   0           1         2         3     4     5   6                7   \\\n",
       "0   1  06.02.1998  00:00:07  00:00:01  http  2127  80  172.016.114.207   \n",
       "1   2  06.02.1998  00:00:07  00:00:01  http  2139  80  172.016.114.207   \n",
       "2   3  06.02.1998  00:00:07  00:00:01  http  2128  80  172.016.114.207   \n",
       "3   4  06.02.1998  00:00:07  00:00:01  http  2129  80  172.016.114.207   \n",
       "4   5  06.02.1998  00:00:07  00:00:01  http  2130  80  172.016.114.207   \n",
       "\n",
       "                8   9  10  \n",
       "0  152.163.214.011   0  -  \n",
       "1  152.163.212.172   0  -  \n",
       "2  152.163.214.011   0  -  \n",
       "3  152.163.214.011   0  -  \n",
       "4  152.163.214.011   0  -  "
      ]
     },
     "execution_count": 9,
     "metadata": {},
     "output_type": "execute_result"
    }
   ],
   "source": [
    "week1.head()"
   ]
  },
  {
   "cell_type": "code",
   "execution_count": 2,
   "metadata": {},
   "outputs": [
    {
     "ename": "NameError",
     "evalue": "name 'week1' is not defined",
     "output_type": "error",
     "traceback": [
      "\u001b[0;31m---------------------------------------------------------------------------\u001b[0m",
      "\u001b[0;31mNameError\u001b[0m                                 Traceback (most recent call last)",
      "Cell \u001b[0;32mIn[2], line 1\u001b[0m\n\u001b[0;32m----> 1\u001b[0m train \u001b[38;5;241m=\u001b[39m pd\u001b[38;5;241m.\u001b[39mconcat([\u001b[43mweek1\u001b[49m, week2, week3, week4, week5, week6, week7], ignore_index\u001b[38;5;241m=\u001b[39m\u001b[38;5;28;01mTrue\u001b[39;00m)\n\u001b[1;32m      2\u001b[0m test \u001b[38;5;241m=\u001b[39m pd\u001b[38;5;241m.\u001b[39mconcat([week8_true, week9_true], ignore_index\u001b[38;5;241m=\u001b[39m\u001b[38;5;28;01mTrue\u001b[39;00m)\n\u001b[1;32m      4\u001b[0m train\u001b[38;5;241m.\u001b[39mdrop(columns\u001b[38;5;241m=\u001b[39mtrain\u001b[38;5;241m.\u001b[39mcolumns[\u001b[38;5;241m0\u001b[39m], axis\u001b[38;5;241m=\u001b[39m\u001b[38;5;241m1\u001b[39m,  inplace\u001b[38;5;241m=\u001b[39m\u001b[38;5;28;01mTrue\u001b[39;00m) \u001b[38;5;66;03m#train is 1-7 weeks\u001b[39;00m\n",
      "\u001b[0;31mNameError\u001b[0m: name 'week1' is not defined"
     ]
    }
   ],
   "source": [
    "train = pd.concat([week1, week2, week3, week4, week5, week6, week7], ignore_index=True)\n",
    "test = pd.concat([week8_true, week9_true], ignore_index=True)\n",
    "\n",
    "train.drop(columns=train.columns[0], axis=1,  inplace=True) #train is 1-7 weeks\n",
    "test.drop(columns=test.columns[0], axis=1,  inplace=True) #test is 8 and 9 weeks as suggested by authors"
   ]
  },
  {
   "cell_type": "code",
   "execution_count": 19,
   "metadata": {},
   "outputs": [],
   "source": [
    "labels = [\"Start Date\", \"Start Time\", \"Duration\", \"Serv\", \"Src Port\",\n",
    "           \"Dest Port\", \"Src IP\", \"Dest IP\", \"Attack Score\", \"Name\"] #from readme\n",
    "train.columns = labels\n",
    "test.columns = labels"
   ]
  },
  {
   "cell_type": "code",
   "execution_count": 20,
   "metadata": {},
   "outputs": [
    {
     "data": {
      "text/html": [
       "<div>\n",
       "<style scoped>\n",
       "    .dataframe tbody tr th:only-of-type {\n",
       "        vertical-align: middle;\n",
       "    }\n",
       "\n",
       "    .dataframe tbody tr th {\n",
       "        vertical-align: top;\n",
       "    }\n",
       "\n",
       "    .dataframe thead th {\n",
       "        text-align: right;\n",
       "    }\n",
       "</style>\n",
       "<table border=\"1\" class=\"dataframe\">\n",
       "  <thead>\n",
       "    <tr style=\"text-align: right;\">\n",
       "      <th></th>\n",
       "      <th>Start Date</th>\n",
       "      <th>Start Time</th>\n",
       "      <th>Duration</th>\n",
       "      <th>Serv</th>\n",
       "      <th>Src Port</th>\n",
       "      <th>Dest Port</th>\n",
       "      <th>Src IP</th>\n",
       "      <th>Dest IP</th>\n",
       "      <th>Attack Score</th>\n",
       "      <th>Name</th>\n",
       "    </tr>\n",
       "  </thead>\n",
       "  <tbody>\n",
       "    <tr>\n",
       "      <th>0</th>\n",
       "      <td>07/20/1998</td>\n",
       "      <td>08:00:01</td>\n",
       "      <td>00:00:01</td>\n",
       "      <td>domain/u</td>\n",
       "      <td>1114</td>\n",
       "      <td>53</td>\n",
       "      <td>192.168.001.010</td>\n",
       "      <td>172.016.112.020</td>\n",
       "      <td>0</td>\n",
       "      <td>-</td>\n",
       "    </tr>\n",
       "    <tr>\n",
       "      <th>1</th>\n",
       "      <td>07/20/1998</td>\n",
       "      <td>08:00:01</td>\n",
       "      <td>00:00:01</td>\n",
       "      <td>domain/u</td>\n",
       "      <td>1059</td>\n",
       "      <td>53</td>\n",
       "      <td>192.168.001.010</td>\n",
       "      <td>172.016.112.020</td>\n",
       "      <td>0</td>\n",
       "      <td>-</td>\n",
       "    </tr>\n",
       "    <tr>\n",
       "      <th>2</th>\n",
       "      <td>07/20/1998</td>\n",
       "      <td>08:00:31</td>\n",
       "      <td>00:00:01</td>\n",
       "      <td>snmp/u</td>\n",
       "      <td>1195</td>\n",
       "      <td>161</td>\n",
       "      <td>194.027.251.021</td>\n",
       "      <td>192.168.001.001</td>\n",
       "      <td>0</td>\n",
       "      <td>-</td>\n",
       "    </tr>\n",
       "    <tr>\n",
       "      <th>3</th>\n",
       "      <td>07/20/1998</td>\n",
       "      <td>08:00:31</td>\n",
       "      <td>00:00:01</td>\n",
       "      <td>urp/i</td>\n",
       "      <td>-</td>\n",
       "      <td>-</td>\n",
       "      <td>192.168.001.001</td>\n",
       "      <td>194.027.251.021</td>\n",
       "      <td>0</td>\n",
       "      <td>-</td>\n",
       "    </tr>\n",
       "    <tr>\n",
       "      <th>4</th>\n",
       "      <td>07/20/1998</td>\n",
       "      <td>08:00:36</td>\n",
       "      <td>00:00:01</td>\n",
       "      <td>snmp/u</td>\n",
       "      <td>1197</td>\n",
       "      <td>161</td>\n",
       "      <td>194.027.251.021</td>\n",
       "      <td>192.168.001.001</td>\n",
       "      <td>0</td>\n",
       "      <td>-</td>\n",
       "    </tr>\n",
       "  </tbody>\n",
       "</table>\n",
       "</div>"
      ],
      "text/plain": [
       "   Start Date Start Time  Duration      Serv Src Port Dest Port  \\\n",
       "0  07/20/1998   08:00:01  00:00:01  domain/u     1114        53   \n",
       "1  07/20/1998   08:00:01  00:00:01  domain/u     1059        53   \n",
       "2  07/20/1998   08:00:31  00:00:01    snmp/u     1195       161   \n",
       "3  07/20/1998   08:00:31  00:00:01     urp/i        -         -   \n",
       "4  07/20/1998   08:00:36  00:00:01    snmp/u     1197       161   \n",
       "\n",
       "            Src IP          Dest IP  Attack Score Name  \n",
       "0  192.168.001.010  172.016.112.020             0    -  \n",
       "1  192.168.001.010  172.016.112.020             0    -  \n",
       "2  194.027.251.021  192.168.001.001             0    -  \n",
       "3  192.168.001.001  194.027.251.021             0    -  \n",
       "4  194.027.251.021  192.168.001.001             0    -  "
      ]
     },
     "execution_count": 20,
     "metadata": {},
     "output_type": "execute_result"
    }
   ],
   "source": [
    "test.head()"
   ]
  },
  {
   "cell_type": "markdown",
   "metadata": {},
   "source": [
    "New Dataset"
   ]
  },
  {
   "cell_type": "code",
   "execution_count": 56,
   "metadata": {},
   "outputs": [],
   "source": [
    "train = pd.read_csv(\"/home/vxofi/Datasets/KDD-CUP/kdd_train.csv\", sep=\",\")\n",
    "test = pd.read_csv(\"/home/vxofi/Datasets/KDD-CUP/kdd_test.csv\", sep=\",\")"
   ]
  },
  {
   "cell_type": "code",
   "execution_count": 57,
   "metadata": {},
   "outputs": [],
   "source": [
    "data = pd.concat([train, test], ignore_index=True)\n",
    "X = pd.get_dummies(data.iloc[:, :-1], columns=['protocol_type', 'service', 'flag'], dtype=int)\n",
    "y = pd.get_dummies(data['labels'], dtype=int)\n",
    "\n",
    "# paper says, they use 2000/4000/8000 random connections from dataset\n",
    "\n",
    "# Extract the sampled records from X and Y datasets\n",
    "sampled_X = X.sample(n=8000, random_state=42)\n",
    "sampled_y = y.loc[sampled_X.index]\n",
    "\n",
    "sampled_y_bin = (sampled_y['normal'] == 1).astype(int) # 1 is attack, 0 is normal\n",
    "# train test split\n",
    "#scaling"
   ]
  },
  {
   "cell_type": "code",
   "execution_count": 58,
   "metadata": {},
   "outputs": [],
   "source": [
    "scaler = StandardScaler()\n",
    "\n",
    "# then they split train and test equally\n",
    "X_train = sampled_X[:4000]\n",
    "onhs_tr = X_train.loc[:, \"protocol_type_icmp\":]\n",
    "X_train = scaler.fit_transform(X_train.loc[:, :\"dst_host_srv_rerror_rate\"])\n",
    "X_train = np.concatenate([X_train, onhs_tr.to_numpy()], axis=1)\n",
    "\n",
    "X_test = sampled_X[4000:]\n",
    "onhs_te = X_test.loc[:, \"protocol_type_icmp\":]\n",
    "X_test = scaler.fit_transform(X_test.loc[:, :\"dst_host_srv_rerror_rate\"])\n",
    "X_test = np.concatenate([X_test, onhs_te.to_numpy()], axis=1)\n",
    "\n",
    "y_train = sampled_y[:4000]\n",
    "y_train_bin = sampled_y_bin[:4000]\n",
    "y_train = np.argmax(y_train, axis=1)\n",
    "\n",
    "y_test = sampled_y[4000:]\n",
    "y_test_bin = sampled_y_bin[4000:]\n",
    "y_test = np.argmax(y_test, axis=1)"
   ]
  },
  {
   "cell_type": "code",
   "execution_count": 60,
   "metadata": {},
   "outputs": [],
   "source": [
    "class ELM(BaseEstimator, ClassifierMixin):\n",
    "    def __init__(self, num_input_nodes : int=None, num_hidden_units : int=None,\n",
    "                 num_out_units : int=None, C : float=None,\n",
    "                 beta_init : np.ndarray = None,\n",
    "                 w_init : np.ndarray = None,\n",
    "                 bias_init : np.ndarray = None):\n",
    "        self.num_input_nodes = num_input_nodes\n",
    "        self.num_hidden_units = num_hidden_units\n",
    "        self.num_out_units = num_out_units\n",
    "        self.C = C\n",
    "\n",
    "        if isinstance(beta_init, np.ndarray):\n",
    "            self._beta = beta_init\n",
    "        else:\n",
    "            self._beta = np.random.uniform(-1., 1., size=(self.num_hidden_units, self.num_out_units))\n",
    "\n",
    "        if isinstance(w_init, np.ndarray):\n",
    "            self._w = w_init\n",
    "        else:\n",
    "            self._w = np.random.uniform(-1, 1, size=(self.num_input_nodes, self.num_hidden_units))\n",
    "\n",
    "        if isinstance(bias_init, np.ndarray):\n",
    "            self._bias = bias_init\n",
    "        else:\n",
    "            self._bias = np.zeros(shape=(self.num_hidden_units,))\n",
    "\n",
    "    def _sigmoid(self, x : float) ->  float:\n",
    "        return 1. / (1. + np.exp(-x))\n",
    "\n",
    "    def fit(self, X : np.ndarray, Y : np.ndarray) -> None:\n",
    "        self.classes_ = unique_labels(Y)\n",
    "        \n",
    "        H = self._sigmoid(X.dot(self._w) + self._bias)\n",
    "        I = np.eye(self.num_hidden_units)\n",
    "        \n",
    "        label_mapping = {cls: i for i, cls in enumerate(self.classes_)}\n",
    "        Y_mapped = np.array([label_mapping[label] for label in Y])\n",
    "\n",
    "        # Convert labels to one-hot encoding\n",
    "        Y_onehot = np.zeros((Y.shape[0], self.classes_.shape[0]))\n",
    "        Y_onehot[np.arange(Y.shape[0]), Y_mapped] = 1\n",
    "        \n",
    "        self._beta = np.linalg.inv((H.T @ H) + (self.C * I)) @ H.T @ Y_onehot\n",
    "\n",
    "\n",
    "    def predict_proba(self, X : np.ndarray) -> np.ndarray:\n",
    "        H = self._sigmoid(X.dot(self._w) + self._bias)\n",
    "        preds = H.dot(self._beta)\n",
    "        \n",
    "        if self.num_out_units == 1:\n",
    "        # For binary classification, use sigmoid function\n",
    "            y_pred_proba = 1 / (1 + np.exp(-preds))\n",
    "        else:\n",
    "        # For multi-class classification, use softmax function\n",
    "            exp_pred = np.exp(preds - np.max(preds, axis=1, keepdims=True))\n",
    "            y_pred_proba = exp_pred / np.sum(exp_pred, axis=1, keepdims=True)\n",
    "\n",
    "        return y_pred_proba\n",
    "    \n",
    "    def predict(self, X : np.ndarray) -> np.ndarray:\n",
    "        y_pred_proba = self.predict_proba(X)\n",
    "        y_pred_indices = np.argmax(y_pred_proba, axis=1)\n",
    "        y_pred = self.classes_[y_pred_indices]\n",
    "        return y_pred\n",
    "    \n",
    "    def classification_report(self, X : np.ndarray, y_true : np.ndarray) -> str:\n",
    "        y_pred = self.predict(X)\n",
    "        return classification_report(y_true, y_pred)\n",
    "    \n",
    "    def get_params(self, deep=True):\n",
    "        return {\n",
    "            'num_out_units': self.num_out_units,\n",
    "            'num_hidden_units': self.num_hidden_units,\n",
    "            'num_out_units': self.num_out_units,\n",
    "            'C': self.C\n",
    "        }\n",
    "\n",
    "    def set_params(self, **parameters):\n",
    "        for parameter, value in parameters.items():\n",
    "            setattr(self, parameter, value)\n",
    "        return self"
   ]
  },
  {
   "cell_type": "code",
   "execution_count": 61,
   "metadata": {},
   "outputs": [],
   "source": [
    "class KELM(BaseEstimator, ClassifierMixin):\n",
    "    def __init__(self, num_out_units : int=None, C : float=None, gamma : float=None):\n",
    "        self.num_out_units = num_out_units\n",
    "        self.C = C\n",
    "        self.gamma = gamma\n",
    "        self._beta = None\n",
    "\n",
    "    def _cal_K(self, X : np.ndarray, Y : np.ndarray) -> np.ndarray:\n",
    "        if self.gamma is None:\n",
    "            self.gamma = 1.0 / X.shape[1]  # Default gamma value\n",
    "        # Compute the RBF kernel matrix\n",
    "        X_norm = np.sum(X ** 2, axis=-1)\n",
    "        Y_norm = np.sum(Y ** 2, axis=-1)\n",
    "        K = np.exp(-self.gamma * (X_norm[:, None] + Y_norm[None, :] - 2 * np.dot(X, Y.T)))\n",
    "        return K\n",
    "    \n",
    "    def fit(self, X : np.ndarray, Y : np.ndarray) -> None:\n",
    "        self.classes_ = unique_labels(Y)\n",
    "        self._X_train = X\n",
    "        if self.C is None: # Default C value\n",
    "            self.C = 1.0\n",
    "        K = self._cal_K(X, X)  # Kernel matrix for training data\n",
    "        reg_term = np.eye(K.shape[0]) / self.C\n",
    "\n",
    "        # Map labels to contiguous integers starting from 0\n",
    "        label_mapping = {cls: i for i, cls in enumerate(self.classes_)}\n",
    "        Y_mapped = np.array([label_mapping[label] for label in Y])\n",
    "\n",
    "        # Convert labels to one-hot encoding\n",
    "        Y_onehot = np.zeros((Y.shape[0], self.classes_.shape[0]))\n",
    "        Y_onehot[np.arange(Y.shape[0]), Y_mapped] = 1\n",
    "\n",
    "        # Compute the output weights beta\n",
    "        self._beta = np.linalg.solve(K + reg_term, Y_onehot)\n",
    "        #self._beta = np.linalg.solve(K + reg_term, Y)\n",
    "\n",
    "    def predict_proba(self, X : np.ndarray) -> np.ndarray:\n",
    "        K = self._cal_K(X, self._X_train)  # Kernel matrix between new data and training data\n",
    "        preds = np.dot(K, self._beta)\n",
    "        \n",
    "        if self.num_out_units == 1:\n",
    "        # For binary classification, use sigmoid function\n",
    "            y_pred_proba = 1 / (1 + np.exp(-preds))\n",
    "        else:\n",
    "        # For multi-class classification, use softmax function\n",
    "            exp_pred = np.exp(preds - np.max(preds, axis=1, keepdims=True))\n",
    "            y_pred_proba = exp_pred / np.sum(exp_pred, axis=1, keepdims=True)\n",
    "\n",
    "        return y_pred_proba\n",
    "    \n",
    "    def predict(self, X : np.ndarray) -> np.ndarray:\n",
    "        y_pred_proba = self.predict_proba(X)\n",
    "        y_pred_indices = np.argmax(y_pred_proba, axis=1)\n",
    "        y_pred = self.classes_[y_pred_indices]\n",
    "        return y_pred\n",
    "    \n",
    "    def classification_report(self, X : np.ndarray, y_true : np.ndarray) -> str:\n",
    "        y_pred = self.predict(X)\n",
    "        return classification_report(y_true, y_pred)\n",
    "    \n",
    "    def get_params(self, deep=True):\n",
    "        return {\n",
    "            'num_out_units': self.num_out_units,\n",
    "            'C': self.C,\n",
    "            'gamma': self.gamma\n",
    "        }\n",
    "\n",
    "    def set_params(self, **parameters):\n",
    "        for parameter, value in parameters.items():\n",
    "            setattr(self, parameter, value)\n",
    "        return self"
   ]
  },
  {
   "cell_type": "code",
   "execution_count": 63,
   "metadata": {},
   "outputs": [],
   "source": [
    "test = KELM(2, 2, 2)\n",
    "test.fit(X_train, y_train_bin)"
   ]
  },
  {
   "cell_type": "code",
   "execution_count": 51,
   "metadata": {},
   "outputs": [],
   "source": [
    "Cs = [2**i for i in range(-24, 25 + 1)]\n",
    "gs = [2**i for i in range(-24, 2 + 1)]\n",
    "\n",
    "param_grid_SVC = [\n",
    "  {'C': Cs, 'gamma': gs, 'kernel': ['rbf']},\n",
    " ]\n",
    "param_grid_KELM_bin = [\n",
    "  {'num_out_units': [2], 'C': Cs, 'gamma': gs},\n",
    " ]\n",
    "param_grid_KELM = [\n",
    "  {'num_out_units': [37], 'C': Cs, 'gamma': gs},\n",
    " ]"
   ]
  },
  {
   "cell_type": "code",
   "execution_count": 96,
   "metadata": {},
   "outputs": [
    {
     "name": "stdout",
     "output_type": "stream",
     "text": [
      "Fitting 10 folds for each of 2500 candidates, totalling 25000 fits\n"
     ]
    },
    {
     "ename": "KeyboardInterrupt",
     "evalue": "",
     "output_type": "error",
     "traceback": [
      "\u001b[0;31m---------------------------------------------------------------------------\u001b[0m",
      "\u001b[0;31mKeyboardInterrupt\u001b[0m                         Traceback (most recent call last)",
      "Cell \u001b[0;32mIn[96], line 3\u001b[0m\n\u001b[1;32m      1\u001b[0m \u001b[38;5;66;03m#SVM for binary classification\u001b[39;00m\n\u001b[1;32m      2\u001b[0m grid_SVC_bin \u001b[38;5;241m=\u001b[39m GridSearchCV(SVC(), param_grid_SVC, cv\u001b[38;5;241m=\u001b[39m\u001b[38;5;241m10\u001b[39m, verbose\u001b[38;5;241m=\u001b[39m\u001b[38;5;241m1\u001b[39m, n_jobs\u001b[38;5;241m=\u001b[39m\u001b[38;5;241m-\u001b[39m\u001b[38;5;241m1\u001b[39m) \u001b[38;5;66;03m# scoring?, cv=10 as in other* paper\u001b[39;00m\n\u001b[0;32m----> 3\u001b[0m \u001b[43mgrid_SVC_bin\u001b[49m\u001b[38;5;241;43m.\u001b[39;49m\u001b[43mfit\u001b[49m\u001b[43m(\u001b[49m\u001b[43mX_train\u001b[49m\u001b[43m,\u001b[49m\u001b[43m \u001b[49m\u001b[43my_train_bin\u001b[49m\u001b[43m)\u001b[49m\n\u001b[1;32m      4\u001b[0m C, g, ker \u001b[38;5;241m=\u001b[39m grid_SVC_bin\u001b[38;5;241m.\u001b[39mbest_params_\u001b[38;5;241m.\u001b[39mvalues()\n\u001b[1;32m      5\u001b[0m SVM_classifier \u001b[38;5;241m=\u001b[39m SVC(kernel\u001b[38;5;241m=\u001b[39mker, C\u001b[38;5;241m=\u001b[39mC, gamma\u001b[38;5;241m=\u001b[39mg)\n",
      "File \u001b[0;32m~/.cache/pypoetry/virtualenvs/elmforid-_YaLGIda-py3.10/lib/python3.10/site-packages/sklearn/base.py:1474\u001b[0m, in \u001b[0;36m_fit_context.<locals>.decorator.<locals>.wrapper\u001b[0;34m(estimator, *args, **kwargs)\u001b[0m\n\u001b[1;32m   1467\u001b[0m     estimator\u001b[38;5;241m.\u001b[39m_validate_params()\n\u001b[1;32m   1469\u001b[0m \u001b[38;5;28;01mwith\u001b[39;00m config_context(\n\u001b[1;32m   1470\u001b[0m     skip_parameter_validation\u001b[38;5;241m=\u001b[39m(\n\u001b[1;32m   1471\u001b[0m         prefer_skip_nested_validation \u001b[38;5;129;01mor\u001b[39;00m global_skip_validation\n\u001b[1;32m   1472\u001b[0m     )\n\u001b[1;32m   1473\u001b[0m ):\n\u001b[0;32m-> 1474\u001b[0m     \u001b[38;5;28;01mreturn\u001b[39;00m \u001b[43mfit_method\u001b[49m\u001b[43m(\u001b[49m\u001b[43mestimator\u001b[49m\u001b[43m,\u001b[49m\u001b[43m \u001b[49m\u001b[38;5;241;43m*\u001b[39;49m\u001b[43margs\u001b[49m\u001b[43m,\u001b[49m\u001b[43m \u001b[49m\u001b[38;5;241;43m*\u001b[39;49m\u001b[38;5;241;43m*\u001b[39;49m\u001b[43mkwargs\u001b[49m\u001b[43m)\u001b[49m\n",
      "File \u001b[0;32m~/.cache/pypoetry/virtualenvs/elmforid-_YaLGIda-py3.10/lib/python3.10/site-packages/sklearn/model_selection/_search.py:970\u001b[0m, in \u001b[0;36mBaseSearchCV.fit\u001b[0;34m(self, X, y, **params)\u001b[0m\n\u001b[1;32m    964\u001b[0m     results \u001b[38;5;241m=\u001b[39m \u001b[38;5;28mself\u001b[39m\u001b[38;5;241m.\u001b[39m_format_results(\n\u001b[1;32m    965\u001b[0m         all_candidate_params, n_splits, all_out, all_more_results\n\u001b[1;32m    966\u001b[0m     )\n\u001b[1;32m    968\u001b[0m     \u001b[38;5;28;01mreturn\u001b[39;00m results\n\u001b[0;32m--> 970\u001b[0m \u001b[38;5;28;43mself\u001b[39;49m\u001b[38;5;241;43m.\u001b[39;49m\u001b[43m_run_search\u001b[49m\u001b[43m(\u001b[49m\u001b[43mevaluate_candidates\u001b[49m\u001b[43m)\u001b[49m\n\u001b[1;32m    972\u001b[0m \u001b[38;5;66;03m# multimetric is determined here because in the case of a callable\u001b[39;00m\n\u001b[1;32m    973\u001b[0m \u001b[38;5;66;03m# self.scoring the return type is only known after calling\u001b[39;00m\n\u001b[1;32m    974\u001b[0m first_test_score \u001b[38;5;241m=\u001b[39m all_out[\u001b[38;5;241m0\u001b[39m][\u001b[38;5;124m\"\u001b[39m\u001b[38;5;124mtest_scores\u001b[39m\u001b[38;5;124m\"\u001b[39m]\n",
      "File \u001b[0;32m~/.cache/pypoetry/virtualenvs/elmforid-_YaLGIda-py3.10/lib/python3.10/site-packages/sklearn/model_selection/_search.py:1527\u001b[0m, in \u001b[0;36mGridSearchCV._run_search\u001b[0;34m(self, evaluate_candidates)\u001b[0m\n\u001b[1;32m   1525\u001b[0m \u001b[38;5;28;01mdef\u001b[39;00m \u001b[38;5;21m_run_search\u001b[39m(\u001b[38;5;28mself\u001b[39m, evaluate_candidates):\n\u001b[1;32m   1526\u001b[0m \u001b[38;5;250m    \u001b[39m\u001b[38;5;124;03m\"\"\"Search all candidates in param_grid\"\"\"\u001b[39;00m\n\u001b[0;32m-> 1527\u001b[0m     \u001b[43mevaluate_candidates\u001b[49m\u001b[43m(\u001b[49m\u001b[43mParameterGrid\u001b[49m\u001b[43m(\u001b[49m\u001b[38;5;28;43mself\u001b[39;49m\u001b[38;5;241;43m.\u001b[39;49m\u001b[43mparam_grid\u001b[49m\u001b[43m)\u001b[49m\u001b[43m)\u001b[49m\n",
      "File \u001b[0;32m~/.cache/pypoetry/virtualenvs/elmforid-_YaLGIda-py3.10/lib/python3.10/site-packages/sklearn/model_selection/_search.py:916\u001b[0m, in \u001b[0;36mBaseSearchCV.fit.<locals>.evaluate_candidates\u001b[0;34m(candidate_params, cv, more_results)\u001b[0m\n\u001b[1;32m    908\u001b[0m \u001b[38;5;28;01mif\u001b[39;00m \u001b[38;5;28mself\u001b[39m\u001b[38;5;241m.\u001b[39mverbose \u001b[38;5;241m>\u001b[39m \u001b[38;5;241m0\u001b[39m:\n\u001b[1;32m    909\u001b[0m     \u001b[38;5;28mprint\u001b[39m(\n\u001b[1;32m    910\u001b[0m         \u001b[38;5;124m\"\u001b[39m\u001b[38;5;124mFitting \u001b[39m\u001b[38;5;132;01m{0}\u001b[39;00m\u001b[38;5;124m folds for each of \u001b[39m\u001b[38;5;132;01m{1}\u001b[39;00m\u001b[38;5;124m candidates,\u001b[39m\u001b[38;5;124m\"\u001b[39m\n\u001b[1;32m    911\u001b[0m         \u001b[38;5;124m\"\u001b[39m\u001b[38;5;124m totalling \u001b[39m\u001b[38;5;132;01m{2}\u001b[39;00m\u001b[38;5;124m fits\u001b[39m\u001b[38;5;124m\"\u001b[39m\u001b[38;5;241m.\u001b[39mformat(\n\u001b[1;32m    912\u001b[0m             n_splits, n_candidates, n_candidates \u001b[38;5;241m*\u001b[39m n_splits\n\u001b[1;32m    913\u001b[0m         )\n\u001b[1;32m    914\u001b[0m     )\n\u001b[0;32m--> 916\u001b[0m out \u001b[38;5;241m=\u001b[39m \u001b[43mparallel\u001b[49m\u001b[43m(\u001b[49m\n\u001b[1;32m    917\u001b[0m \u001b[43m    \u001b[49m\u001b[43mdelayed\u001b[49m\u001b[43m(\u001b[49m\u001b[43m_fit_and_score\u001b[49m\u001b[43m)\u001b[49m\u001b[43m(\u001b[49m\n\u001b[1;32m    918\u001b[0m \u001b[43m        \u001b[49m\u001b[43mclone\u001b[49m\u001b[43m(\u001b[49m\u001b[43mbase_estimator\u001b[49m\u001b[43m)\u001b[49m\u001b[43m,\u001b[49m\n\u001b[1;32m    919\u001b[0m \u001b[43m        \u001b[49m\u001b[43mX\u001b[49m\u001b[43m,\u001b[49m\n\u001b[1;32m    920\u001b[0m \u001b[43m        \u001b[49m\u001b[43my\u001b[49m\u001b[43m,\u001b[49m\n\u001b[1;32m    921\u001b[0m \u001b[43m        \u001b[49m\u001b[43mtrain\u001b[49m\u001b[38;5;241;43m=\u001b[39;49m\u001b[43mtrain\u001b[49m\u001b[43m,\u001b[49m\n\u001b[1;32m    922\u001b[0m \u001b[43m        \u001b[49m\u001b[43mtest\u001b[49m\u001b[38;5;241;43m=\u001b[39;49m\u001b[43mtest\u001b[49m\u001b[43m,\u001b[49m\n\u001b[1;32m    923\u001b[0m \u001b[43m        \u001b[49m\u001b[43mparameters\u001b[49m\u001b[38;5;241;43m=\u001b[39;49m\u001b[43mparameters\u001b[49m\u001b[43m,\u001b[49m\n\u001b[1;32m    924\u001b[0m \u001b[43m        \u001b[49m\u001b[43msplit_progress\u001b[49m\u001b[38;5;241;43m=\u001b[39;49m\u001b[43m(\u001b[49m\u001b[43msplit_idx\u001b[49m\u001b[43m,\u001b[49m\u001b[43m \u001b[49m\u001b[43mn_splits\u001b[49m\u001b[43m)\u001b[49m\u001b[43m,\u001b[49m\n\u001b[1;32m    925\u001b[0m \u001b[43m        \u001b[49m\u001b[43mcandidate_progress\u001b[49m\u001b[38;5;241;43m=\u001b[39;49m\u001b[43m(\u001b[49m\u001b[43mcand_idx\u001b[49m\u001b[43m,\u001b[49m\u001b[43m \u001b[49m\u001b[43mn_candidates\u001b[49m\u001b[43m)\u001b[49m\u001b[43m,\u001b[49m\n\u001b[1;32m    926\u001b[0m \u001b[43m        \u001b[49m\u001b[38;5;241;43m*\u001b[39;49m\u001b[38;5;241;43m*\u001b[39;49m\u001b[43mfit_and_score_kwargs\u001b[49m\u001b[43m,\u001b[49m\n\u001b[1;32m    927\u001b[0m \u001b[43m    \u001b[49m\u001b[43m)\u001b[49m\n\u001b[1;32m    928\u001b[0m \u001b[43m    \u001b[49m\u001b[38;5;28;43;01mfor\u001b[39;49;00m\u001b[43m \u001b[49m\u001b[43m(\u001b[49m\u001b[43mcand_idx\u001b[49m\u001b[43m,\u001b[49m\u001b[43m \u001b[49m\u001b[43mparameters\u001b[49m\u001b[43m)\u001b[49m\u001b[43m,\u001b[49m\u001b[43m \u001b[49m\u001b[43m(\u001b[49m\u001b[43msplit_idx\u001b[49m\u001b[43m,\u001b[49m\u001b[43m \u001b[49m\u001b[43m(\u001b[49m\u001b[43mtrain\u001b[49m\u001b[43m,\u001b[49m\u001b[43m \u001b[49m\u001b[43mtest\u001b[49m\u001b[43m)\u001b[49m\u001b[43m)\u001b[49m\u001b[43m \u001b[49m\u001b[38;5;129;43;01min\u001b[39;49;00m\u001b[43m \u001b[49m\u001b[43mproduct\u001b[49m\u001b[43m(\u001b[49m\n\u001b[1;32m    929\u001b[0m \u001b[43m        \u001b[49m\u001b[38;5;28;43menumerate\u001b[39;49m\u001b[43m(\u001b[49m\u001b[43mcandidate_params\u001b[49m\u001b[43m)\u001b[49m\u001b[43m,\u001b[49m\n\u001b[1;32m    930\u001b[0m \u001b[43m        \u001b[49m\u001b[38;5;28;43menumerate\u001b[39;49m\u001b[43m(\u001b[49m\u001b[43mcv\u001b[49m\u001b[38;5;241;43m.\u001b[39;49m\u001b[43msplit\u001b[49m\u001b[43m(\u001b[49m\u001b[43mX\u001b[49m\u001b[43m,\u001b[49m\u001b[43m \u001b[49m\u001b[43my\u001b[49m\u001b[43m,\u001b[49m\u001b[43m \u001b[49m\u001b[38;5;241;43m*\u001b[39;49m\u001b[38;5;241;43m*\u001b[39;49m\u001b[43mrouted_params\u001b[49m\u001b[38;5;241;43m.\u001b[39;49m\u001b[43msplitter\u001b[49m\u001b[38;5;241;43m.\u001b[39;49m\u001b[43msplit\u001b[49m\u001b[43m)\u001b[49m\u001b[43m)\u001b[49m\u001b[43m,\u001b[49m\n\u001b[1;32m    931\u001b[0m \u001b[43m    \u001b[49m\u001b[43m)\u001b[49m\n\u001b[1;32m    932\u001b[0m \u001b[43m\u001b[49m\u001b[43m)\u001b[49m\n\u001b[1;32m    934\u001b[0m \u001b[38;5;28;01mif\u001b[39;00m \u001b[38;5;28mlen\u001b[39m(out) \u001b[38;5;241m<\u001b[39m \u001b[38;5;241m1\u001b[39m:\n\u001b[1;32m    935\u001b[0m     \u001b[38;5;28;01mraise\u001b[39;00m \u001b[38;5;167;01mValueError\u001b[39;00m(\n\u001b[1;32m    936\u001b[0m         \u001b[38;5;124m\"\u001b[39m\u001b[38;5;124mNo fits were performed. \u001b[39m\u001b[38;5;124m\"\u001b[39m\n\u001b[1;32m    937\u001b[0m         \u001b[38;5;124m\"\u001b[39m\u001b[38;5;124mWas the CV iterator empty? \u001b[39m\u001b[38;5;124m\"\u001b[39m\n\u001b[1;32m    938\u001b[0m         \u001b[38;5;124m\"\u001b[39m\u001b[38;5;124mWere there no candidates?\u001b[39m\u001b[38;5;124m\"\u001b[39m\n\u001b[1;32m    939\u001b[0m     )\n",
      "File \u001b[0;32m~/.cache/pypoetry/virtualenvs/elmforid-_YaLGIda-py3.10/lib/python3.10/site-packages/sklearn/utils/parallel.py:67\u001b[0m, in \u001b[0;36mParallel.__call__\u001b[0;34m(self, iterable)\u001b[0m\n\u001b[1;32m     62\u001b[0m config \u001b[38;5;241m=\u001b[39m get_config()\n\u001b[1;32m     63\u001b[0m iterable_with_config \u001b[38;5;241m=\u001b[39m (\n\u001b[1;32m     64\u001b[0m     (_with_config(delayed_func, config), args, kwargs)\n\u001b[1;32m     65\u001b[0m     \u001b[38;5;28;01mfor\u001b[39;00m delayed_func, args, kwargs \u001b[38;5;129;01min\u001b[39;00m iterable\n\u001b[1;32m     66\u001b[0m )\n\u001b[0;32m---> 67\u001b[0m \u001b[38;5;28;01mreturn\u001b[39;00m \u001b[38;5;28;43msuper\u001b[39;49m\u001b[43m(\u001b[49m\u001b[43m)\u001b[49m\u001b[38;5;241;43m.\u001b[39;49m\u001b[38;5;21;43m__call__\u001b[39;49m\u001b[43m(\u001b[49m\u001b[43miterable_with_config\u001b[49m\u001b[43m)\u001b[49m\n",
      "File \u001b[0;32m~/.cache/pypoetry/virtualenvs/elmforid-_YaLGIda-py3.10/lib/python3.10/site-packages/joblib/parallel.py:1952\u001b[0m, in \u001b[0;36mParallel.__call__\u001b[0;34m(self, iterable)\u001b[0m\n\u001b[1;32m   1946\u001b[0m \u001b[38;5;66;03m# The first item from the output is blank, but it makes the interpreter\u001b[39;00m\n\u001b[1;32m   1947\u001b[0m \u001b[38;5;66;03m# progress until it enters the Try/Except block of the generator and\u001b[39;00m\n\u001b[1;32m   1948\u001b[0m \u001b[38;5;66;03m# reach the first `yield` statement. This starts the aynchronous\u001b[39;00m\n\u001b[1;32m   1949\u001b[0m \u001b[38;5;66;03m# dispatch of the tasks to the workers.\u001b[39;00m\n\u001b[1;32m   1950\u001b[0m \u001b[38;5;28mnext\u001b[39m(output)\n\u001b[0;32m-> 1952\u001b[0m \u001b[38;5;28;01mreturn\u001b[39;00m output \u001b[38;5;28;01mif\u001b[39;00m \u001b[38;5;28mself\u001b[39m\u001b[38;5;241m.\u001b[39mreturn_generator \u001b[38;5;28;01melse\u001b[39;00m \u001b[38;5;28;43mlist\u001b[39;49m\u001b[43m(\u001b[49m\u001b[43moutput\u001b[49m\u001b[43m)\u001b[49m\n",
      "File \u001b[0;32m~/.cache/pypoetry/virtualenvs/elmforid-_YaLGIda-py3.10/lib/python3.10/site-packages/joblib/parallel.py:1595\u001b[0m, in \u001b[0;36mParallel._get_outputs\u001b[0;34m(self, iterator, pre_dispatch)\u001b[0m\n\u001b[1;32m   1592\u001b[0m     \u001b[38;5;28;01myield\u001b[39;00m\n\u001b[1;32m   1594\u001b[0m     \u001b[38;5;28;01mwith\u001b[39;00m \u001b[38;5;28mself\u001b[39m\u001b[38;5;241m.\u001b[39m_backend\u001b[38;5;241m.\u001b[39mretrieval_context():\n\u001b[0;32m-> 1595\u001b[0m         \u001b[38;5;28;01myield from\u001b[39;00m \u001b[38;5;28mself\u001b[39m\u001b[38;5;241m.\u001b[39m_retrieve()\n\u001b[1;32m   1597\u001b[0m \u001b[38;5;28;01mexcept\u001b[39;00m \u001b[38;5;167;01mGeneratorExit\u001b[39;00m:\n\u001b[1;32m   1598\u001b[0m     \u001b[38;5;66;03m# The generator has been garbage collected before being fully\u001b[39;00m\n\u001b[1;32m   1599\u001b[0m     \u001b[38;5;66;03m# consumed. This aborts the remaining tasks if possible and warn\u001b[39;00m\n\u001b[1;32m   1600\u001b[0m     \u001b[38;5;66;03m# the user if necessary.\u001b[39;00m\n\u001b[1;32m   1601\u001b[0m     \u001b[38;5;28mself\u001b[39m\u001b[38;5;241m.\u001b[39m_exception \u001b[38;5;241m=\u001b[39m \u001b[38;5;28;01mTrue\u001b[39;00m\n",
      "File \u001b[0;32m~/.cache/pypoetry/virtualenvs/elmforid-_YaLGIda-py3.10/lib/python3.10/site-packages/joblib/parallel.py:1707\u001b[0m, in \u001b[0;36mParallel._retrieve\u001b[0;34m(self)\u001b[0m\n\u001b[1;32m   1702\u001b[0m \u001b[38;5;66;03m# If the next job is not ready for retrieval yet, we just wait for\u001b[39;00m\n\u001b[1;32m   1703\u001b[0m \u001b[38;5;66;03m# async callbacks to progress.\u001b[39;00m\n\u001b[1;32m   1704\u001b[0m \u001b[38;5;28;01mif\u001b[39;00m ((\u001b[38;5;28mlen\u001b[39m(\u001b[38;5;28mself\u001b[39m\u001b[38;5;241m.\u001b[39m_jobs) \u001b[38;5;241m==\u001b[39m \u001b[38;5;241m0\u001b[39m) \u001b[38;5;129;01mor\u001b[39;00m\n\u001b[1;32m   1705\u001b[0m     (\u001b[38;5;28mself\u001b[39m\u001b[38;5;241m.\u001b[39m_jobs[\u001b[38;5;241m0\u001b[39m]\u001b[38;5;241m.\u001b[39mget_status(\n\u001b[1;32m   1706\u001b[0m         timeout\u001b[38;5;241m=\u001b[39m\u001b[38;5;28mself\u001b[39m\u001b[38;5;241m.\u001b[39mtimeout) \u001b[38;5;241m==\u001b[39m TASK_PENDING)):\n\u001b[0;32m-> 1707\u001b[0m     \u001b[43mtime\u001b[49m\u001b[38;5;241;43m.\u001b[39;49m\u001b[43msleep\u001b[49m\u001b[43m(\u001b[49m\u001b[38;5;241;43m0.01\u001b[39;49m\u001b[43m)\u001b[49m\n\u001b[1;32m   1708\u001b[0m     \u001b[38;5;28;01mcontinue\u001b[39;00m\n\u001b[1;32m   1710\u001b[0m \u001b[38;5;66;03m# We need to be careful: the job list can be filling up as\u001b[39;00m\n\u001b[1;32m   1711\u001b[0m \u001b[38;5;66;03m# we empty it and Python list are not thread-safe by\u001b[39;00m\n\u001b[1;32m   1712\u001b[0m \u001b[38;5;66;03m# default hence the use of the lock\u001b[39;00m\n",
      "\u001b[0;31mKeyboardInterrupt\u001b[0m: "
     ]
    }
   ],
   "source": [
    "#SVM for binary classification\n",
    "grid_SVC_bin = GridSearchCV(SVC(), param_grid_SVC, cv=10, verbose=1, n_jobs=8) # cv=10 as in other* paper\n",
    "grid_SVC_bin.fit(X_train, y_train_bin)\n",
    "C, g, ker = grid_SVC_bin.best_params_.values()\n",
    "SVM_classifier = SVC(kernel=ker, C=C, gamma=g)\n",
    "print(\"best params: \", grid_SVC_bin.best_params_.values())\n",
    "# best params:  dict_values([64, 0.03125, 'rbf'])"
   ]
  },
  {
   "cell_type": "code",
   "execution_count": null,
   "metadata": {},
   "outputs": [],
   "source": [
    "#SVM for multi label classification\n",
    "grid_SVC = GridSearchCV(OneVsOneClassifier(SVC()), param_grid_SVC, cv=10, verbose=5, n_jobs=8)\n",
    "grid_SVC.fit(X_train, y_train)\n",
    "C, g, ker = grid_SVC.best_params_.values()\n",
    "SVM_multic = OneVsOneClassifier(SVC(kernel=ker, C=C, gamma=g))\n",
    "print(\"best params: \", grid_SVC.best_params_.values())"
   ]
  },
  {
   "cell_type": "code",
   "execution_count": 9,
   "metadata": {},
   "outputs": [
    {
     "name": "stdout",
     "output_type": "stream",
     "text": [
      "Fitting 10 folds for each of 2500 candidates, totalling 25000 fits\n",
      "[CV] END C=5.960464477539063e-08, gamma=5.960464477539063e-08, num_out_units=2; total time=   3.2s\n",
      "[CV] END C=5.960464477539063e-08, gamma=5.960464477539063e-08, num_out_units=2; total time=   2.6s\n",
      "[CV] END C=5.960464477539063e-08, gamma=5.960464477539063e-08, num_out_units=2; total time=   2.7s\n",
      "[CV] END C=5.960464477539063e-08, gamma=5.960464477539063e-08, num_out_units=2; total time=   3.7s\n",
      "[CV] END C=5.960464477539063e-08, gamma=5.960464477539063e-08, num_out_units=2; total time=   3.3s\n",
      "[CV] END C=5.960464477539063e-08, gamma=5.960464477539063e-08, num_out_units=2; total time=   2.3s\n",
      "[CV] END C=5.960464477539063e-08, gamma=5.960464477539063e-08, num_out_units=2; total time=   2.9s\n",
      "[CV] END C=5.960464477539063e-08, gamma=5.960464477539063e-08, num_out_units=2; total time=   2.4s\n",
      "[CV] END C=5.960464477539063e-08, gamma=5.960464477539063e-08, num_out_units=2; total time=   2.3s\n",
      "[CV] END C=5.960464477539063e-08, gamma=5.960464477539063e-08, num_out_units=2; total time=   2.9s\n",
      "[CV] END C=5.960464477539063e-08, gamma=1.1920928955078125e-07, num_out_units=2; total time=   2.6s\n",
      "[CV] END C=5.960464477539063e-08, gamma=1.1920928955078125e-07, num_out_units=2; total time=   2.5s\n",
      "[CV] END C=5.960464477539063e-08, gamma=1.1920928955078125e-07, num_out_units=2; total time=   2.3s\n",
      "[CV] END C=5.960464477539063e-08, gamma=1.1920928955078125e-07, num_out_units=2; total time=   2.3s\n",
      "[CV] END C=5.960464477539063e-08, gamma=1.1920928955078125e-07, num_out_units=2; total time=   2.5s\n",
      "[CV] END C=5.960464477539063e-08, gamma=1.1920928955078125e-07, num_out_units=2; total time=   2.2s\n",
      "[CV] END C=5.960464477539063e-08, gamma=1.1920928955078125e-07, num_out_units=2; total time=   2.4s\n",
      "[CV] END C=5.960464477539063e-08, gamma=1.1920928955078125e-07, num_out_units=2; total time=   2.8s\n",
      "[CV] END C=5.960464477539063e-08, gamma=1.1920928955078125e-07, num_out_units=2; total time=   2.5s\n",
      "[CV] END C=5.960464477539063e-08, gamma=1.1920928955078125e-07, num_out_units=2; total time=   2.5s\n",
      "[CV] END C=5.960464477539063e-08, gamma=2.384185791015625e-07, num_out_units=2; total time=   2.4s\n",
      "[CV] END C=5.960464477539063e-08, gamma=2.384185791015625e-07, num_out_units=2; total time=   3.1s\n",
      "[CV] END C=5.960464477539063e-08, gamma=2.384185791015625e-07, num_out_units=2; total time=   4.1s\n",
      "[CV] END C=5.960464477539063e-08, gamma=2.384185791015625e-07, num_out_units=2; total time=   5.0s\n",
      "[CV] END C=5.960464477539063e-08, gamma=2.384185791015625e-07, num_out_units=2; total time=   2.4s\n",
      "[CV] END C=5.960464477539063e-08, gamma=2.384185791015625e-07, num_out_units=2; total time=   2.2s\n",
      "[CV] END C=5.960464477539063e-08, gamma=2.384185791015625e-07, num_out_units=2; total time=   2.5s\n"
     ]
    },
    {
     "ename": "KeyboardInterrupt",
     "evalue": "",
     "output_type": "error",
     "traceback": [
      "\u001b[0;31m---------------------------------------------------------------------------\u001b[0m",
      "\u001b[0;31mKeyboardInterrupt\u001b[0m                         Traceback (most recent call last)",
      "Cell \u001b[0;32mIn[9], line 4\u001b[0m\n\u001b[1;32m      1\u001b[0m \u001b[38;5;66;03m#KELM for binary classification\u001b[39;00m\n\u001b[1;32m      2\u001b[0m grid_KELM_bin \u001b[38;5;241m=\u001b[39m GridSearchCV(KELM(), param_grid_KELM_bin,\n\u001b[1;32m      3\u001b[0m                              cv\u001b[38;5;241m=\u001b[39m\u001b[38;5;241m10\u001b[39m, verbose\u001b[38;5;241m=\u001b[39m\u001b[38;5;241m2\u001b[39m, n_jobs\u001b[38;5;241m=\u001b[39m\u001b[38;5;241m1\u001b[39m, scoring\u001b[38;5;241m=\u001b[39m\u001b[38;5;124m'\u001b[39m\u001b[38;5;124maccuracy\u001b[39m\u001b[38;5;124m'\u001b[39m) \u001b[38;5;66;03m# n_jobs > 5 is crash\u001b[39;00m\n\u001b[0;32m----> 4\u001b[0m \u001b[43mgrid_KELM_bin\u001b[49m\u001b[38;5;241;43m.\u001b[39;49m\u001b[43mfit\u001b[49m\u001b[43m(\u001b[49m\u001b[43mX_train\u001b[49m\u001b[43m,\u001b[49m\u001b[43m \u001b[49m\u001b[43my_train_bin\u001b[49m\u001b[43m)\u001b[49m \u001b[38;5;66;03m# well i dont have enough memory\u001b[39;00m\n\u001b[1;32m      5\u001b[0m no, C, g \u001b[38;5;241m=\u001b[39m grid_KELM_bin\u001b[38;5;241m.\u001b[39mbest_params_\u001b[38;5;241m.\u001b[39mvalues()\n\u001b[1;32m      6\u001b[0m ELM_kernel_bic \u001b[38;5;241m=\u001b[39m KELM(num_out_units\u001b[38;5;241m=\u001b[39mno, C\u001b[38;5;241m=\u001b[39mC, gamma\u001b[38;5;241m=\u001b[39mg)\n",
      "File \u001b[0;32m~/.cache/pypoetry/virtualenvs/elmforid-_YaLGIda-py3.10/lib/python3.10/site-packages/sklearn/base.py:1474\u001b[0m, in \u001b[0;36m_fit_context.<locals>.decorator.<locals>.wrapper\u001b[0;34m(estimator, *args, **kwargs)\u001b[0m\n\u001b[1;32m   1467\u001b[0m     estimator\u001b[38;5;241m.\u001b[39m_validate_params()\n\u001b[1;32m   1469\u001b[0m \u001b[38;5;28;01mwith\u001b[39;00m config_context(\n\u001b[1;32m   1470\u001b[0m     skip_parameter_validation\u001b[38;5;241m=\u001b[39m(\n\u001b[1;32m   1471\u001b[0m         prefer_skip_nested_validation \u001b[38;5;129;01mor\u001b[39;00m global_skip_validation\n\u001b[1;32m   1472\u001b[0m     )\n\u001b[1;32m   1473\u001b[0m ):\n\u001b[0;32m-> 1474\u001b[0m     \u001b[38;5;28;01mreturn\u001b[39;00m \u001b[43mfit_method\u001b[49m\u001b[43m(\u001b[49m\u001b[43mestimator\u001b[49m\u001b[43m,\u001b[49m\u001b[43m \u001b[49m\u001b[38;5;241;43m*\u001b[39;49m\u001b[43margs\u001b[49m\u001b[43m,\u001b[49m\u001b[43m \u001b[49m\u001b[38;5;241;43m*\u001b[39;49m\u001b[38;5;241;43m*\u001b[39;49m\u001b[43mkwargs\u001b[49m\u001b[43m)\u001b[49m\n",
      "File \u001b[0;32m~/.cache/pypoetry/virtualenvs/elmforid-_YaLGIda-py3.10/lib/python3.10/site-packages/sklearn/model_selection/_search.py:970\u001b[0m, in \u001b[0;36mBaseSearchCV.fit\u001b[0;34m(self, X, y, **params)\u001b[0m\n\u001b[1;32m    964\u001b[0m     results \u001b[38;5;241m=\u001b[39m \u001b[38;5;28mself\u001b[39m\u001b[38;5;241m.\u001b[39m_format_results(\n\u001b[1;32m    965\u001b[0m         all_candidate_params, n_splits, all_out, all_more_results\n\u001b[1;32m    966\u001b[0m     )\n\u001b[1;32m    968\u001b[0m     \u001b[38;5;28;01mreturn\u001b[39;00m results\n\u001b[0;32m--> 970\u001b[0m \u001b[38;5;28;43mself\u001b[39;49m\u001b[38;5;241;43m.\u001b[39;49m\u001b[43m_run_search\u001b[49m\u001b[43m(\u001b[49m\u001b[43mevaluate_candidates\u001b[49m\u001b[43m)\u001b[49m\n\u001b[1;32m    972\u001b[0m \u001b[38;5;66;03m# multimetric is determined here because in the case of a callable\u001b[39;00m\n\u001b[1;32m    973\u001b[0m \u001b[38;5;66;03m# self.scoring the return type is only known after calling\u001b[39;00m\n\u001b[1;32m    974\u001b[0m first_test_score \u001b[38;5;241m=\u001b[39m all_out[\u001b[38;5;241m0\u001b[39m][\u001b[38;5;124m\"\u001b[39m\u001b[38;5;124mtest_scores\u001b[39m\u001b[38;5;124m\"\u001b[39m]\n",
      "File \u001b[0;32m~/.cache/pypoetry/virtualenvs/elmforid-_YaLGIda-py3.10/lib/python3.10/site-packages/sklearn/model_selection/_search.py:1527\u001b[0m, in \u001b[0;36mGridSearchCV._run_search\u001b[0;34m(self, evaluate_candidates)\u001b[0m\n\u001b[1;32m   1525\u001b[0m \u001b[38;5;28;01mdef\u001b[39;00m \u001b[38;5;21m_run_search\u001b[39m(\u001b[38;5;28mself\u001b[39m, evaluate_candidates):\n\u001b[1;32m   1526\u001b[0m \u001b[38;5;250m    \u001b[39m\u001b[38;5;124;03m\"\"\"Search all candidates in param_grid\"\"\"\u001b[39;00m\n\u001b[0;32m-> 1527\u001b[0m     \u001b[43mevaluate_candidates\u001b[49m\u001b[43m(\u001b[49m\u001b[43mParameterGrid\u001b[49m\u001b[43m(\u001b[49m\u001b[38;5;28;43mself\u001b[39;49m\u001b[38;5;241;43m.\u001b[39;49m\u001b[43mparam_grid\u001b[49m\u001b[43m)\u001b[49m\u001b[43m)\u001b[49m\n",
      "File \u001b[0;32m~/.cache/pypoetry/virtualenvs/elmforid-_YaLGIda-py3.10/lib/python3.10/site-packages/sklearn/model_selection/_search.py:916\u001b[0m, in \u001b[0;36mBaseSearchCV.fit.<locals>.evaluate_candidates\u001b[0;34m(candidate_params, cv, more_results)\u001b[0m\n\u001b[1;32m    908\u001b[0m \u001b[38;5;28;01mif\u001b[39;00m \u001b[38;5;28mself\u001b[39m\u001b[38;5;241m.\u001b[39mverbose \u001b[38;5;241m>\u001b[39m \u001b[38;5;241m0\u001b[39m:\n\u001b[1;32m    909\u001b[0m     \u001b[38;5;28mprint\u001b[39m(\n\u001b[1;32m    910\u001b[0m         \u001b[38;5;124m\"\u001b[39m\u001b[38;5;124mFitting \u001b[39m\u001b[38;5;132;01m{0}\u001b[39;00m\u001b[38;5;124m folds for each of \u001b[39m\u001b[38;5;132;01m{1}\u001b[39;00m\u001b[38;5;124m candidates,\u001b[39m\u001b[38;5;124m\"\u001b[39m\n\u001b[1;32m    911\u001b[0m         \u001b[38;5;124m\"\u001b[39m\u001b[38;5;124m totalling \u001b[39m\u001b[38;5;132;01m{2}\u001b[39;00m\u001b[38;5;124m fits\u001b[39m\u001b[38;5;124m\"\u001b[39m\u001b[38;5;241m.\u001b[39mformat(\n\u001b[1;32m    912\u001b[0m             n_splits, n_candidates, n_candidates \u001b[38;5;241m*\u001b[39m n_splits\n\u001b[1;32m    913\u001b[0m         )\n\u001b[1;32m    914\u001b[0m     )\n\u001b[0;32m--> 916\u001b[0m out \u001b[38;5;241m=\u001b[39m \u001b[43mparallel\u001b[49m\u001b[43m(\u001b[49m\n\u001b[1;32m    917\u001b[0m \u001b[43m    \u001b[49m\u001b[43mdelayed\u001b[49m\u001b[43m(\u001b[49m\u001b[43m_fit_and_score\u001b[49m\u001b[43m)\u001b[49m\u001b[43m(\u001b[49m\n\u001b[1;32m    918\u001b[0m \u001b[43m        \u001b[49m\u001b[43mclone\u001b[49m\u001b[43m(\u001b[49m\u001b[43mbase_estimator\u001b[49m\u001b[43m)\u001b[49m\u001b[43m,\u001b[49m\n\u001b[1;32m    919\u001b[0m \u001b[43m        \u001b[49m\u001b[43mX\u001b[49m\u001b[43m,\u001b[49m\n\u001b[1;32m    920\u001b[0m \u001b[43m        \u001b[49m\u001b[43my\u001b[49m\u001b[43m,\u001b[49m\n\u001b[1;32m    921\u001b[0m \u001b[43m        \u001b[49m\u001b[43mtrain\u001b[49m\u001b[38;5;241;43m=\u001b[39;49m\u001b[43mtrain\u001b[49m\u001b[43m,\u001b[49m\n\u001b[1;32m    922\u001b[0m \u001b[43m        \u001b[49m\u001b[43mtest\u001b[49m\u001b[38;5;241;43m=\u001b[39;49m\u001b[43mtest\u001b[49m\u001b[43m,\u001b[49m\n\u001b[1;32m    923\u001b[0m \u001b[43m        \u001b[49m\u001b[43mparameters\u001b[49m\u001b[38;5;241;43m=\u001b[39;49m\u001b[43mparameters\u001b[49m\u001b[43m,\u001b[49m\n\u001b[1;32m    924\u001b[0m \u001b[43m        \u001b[49m\u001b[43msplit_progress\u001b[49m\u001b[38;5;241;43m=\u001b[39;49m\u001b[43m(\u001b[49m\u001b[43msplit_idx\u001b[49m\u001b[43m,\u001b[49m\u001b[43m \u001b[49m\u001b[43mn_splits\u001b[49m\u001b[43m)\u001b[49m\u001b[43m,\u001b[49m\n\u001b[1;32m    925\u001b[0m \u001b[43m        \u001b[49m\u001b[43mcandidate_progress\u001b[49m\u001b[38;5;241;43m=\u001b[39;49m\u001b[43m(\u001b[49m\u001b[43mcand_idx\u001b[49m\u001b[43m,\u001b[49m\u001b[43m \u001b[49m\u001b[43mn_candidates\u001b[49m\u001b[43m)\u001b[49m\u001b[43m,\u001b[49m\n\u001b[1;32m    926\u001b[0m \u001b[43m        \u001b[49m\u001b[38;5;241;43m*\u001b[39;49m\u001b[38;5;241;43m*\u001b[39;49m\u001b[43mfit_and_score_kwargs\u001b[49m\u001b[43m,\u001b[49m\n\u001b[1;32m    927\u001b[0m \u001b[43m    \u001b[49m\u001b[43m)\u001b[49m\n\u001b[1;32m    928\u001b[0m \u001b[43m    \u001b[49m\u001b[38;5;28;43;01mfor\u001b[39;49;00m\u001b[43m \u001b[49m\u001b[43m(\u001b[49m\u001b[43mcand_idx\u001b[49m\u001b[43m,\u001b[49m\u001b[43m \u001b[49m\u001b[43mparameters\u001b[49m\u001b[43m)\u001b[49m\u001b[43m,\u001b[49m\u001b[43m \u001b[49m\u001b[43m(\u001b[49m\u001b[43msplit_idx\u001b[49m\u001b[43m,\u001b[49m\u001b[43m \u001b[49m\u001b[43m(\u001b[49m\u001b[43mtrain\u001b[49m\u001b[43m,\u001b[49m\u001b[43m \u001b[49m\u001b[43mtest\u001b[49m\u001b[43m)\u001b[49m\u001b[43m)\u001b[49m\u001b[43m \u001b[49m\u001b[38;5;129;43;01min\u001b[39;49;00m\u001b[43m \u001b[49m\u001b[43mproduct\u001b[49m\u001b[43m(\u001b[49m\n\u001b[1;32m    929\u001b[0m \u001b[43m        \u001b[49m\u001b[38;5;28;43menumerate\u001b[39;49m\u001b[43m(\u001b[49m\u001b[43mcandidate_params\u001b[49m\u001b[43m)\u001b[49m\u001b[43m,\u001b[49m\n\u001b[1;32m    930\u001b[0m \u001b[43m        \u001b[49m\u001b[38;5;28;43menumerate\u001b[39;49m\u001b[43m(\u001b[49m\u001b[43mcv\u001b[49m\u001b[38;5;241;43m.\u001b[39;49m\u001b[43msplit\u001b[49m\u001b[43m(\u001b[49m\u001b[43mX\u001b[49m\u001b[43m,\u001b[49m\u001b[43m \u001b[49m\u001b[43my\u001b[49m\u001b[43m,\u001b[49m\u001b[43m \u001b[49m\u001b[38;5;241;43m*\u001b[39;49m\u001b[38;5;241;43m*\u001b[39;49m\u001b[43mrouted_params\u001b[49m\u001b[38;5;241;43m.\u001b[39;49m\u001b[43msplitter\u001b[49m\u001b[38;5;241;43m.\u001b[39;49m\u001b[43msplit\u001b[49m\u001b[43m)\u001b[49m\u001b[43m)\u001b[49m\u001b[43m,\u001b[49m\n\u001b[1;32m    931\u001b[0m \u001b[43m    \u001b[49m\u001b[43m)\u001b[49m\n\u001b[1;32m    932\u001b[0m \u001b[43m\u001b[49m\u001b[43m)\u001b[49m\n\u001b[1;32m    934\u001b[0m \u001b[38;5;28;01mif\u001b[39;00m \u001b[38;5;28mlen\u001b[39m(out) \u001b[38;5;241m<\u001b[39m \u001b[38;5;241m1\u001b[39m:\n\u001b[1;32m    935\u001b[0m     \u001b[38;5;28;01mraise\u001b[39;00m \u001b[38;5;167;01mValueError\u001b[39;00m(\n\u001b[1;32m    936\u001b[0m         \u001b[38;5;124m\"\u001b[39m\u001b[38;5;124mNo fits were performed. \u001b[39m\u001b[38;5;124m\"\u001b[39m\n\u001b[1;32m    937\u001b[0m         \u001b[38;5;124m\"\u001b[39m\u001b[38;5;124mWas the CV iterator empty? \u001b[39m\u001b[38;5;124m\"\u001b[39m\n\u001b[1;32m    938\u001b[0m         \u001b[38;5;124m\"\u001b[39m\u001b[38;5;124mWere there no candidates?\u001b[39m\u001b[38;5;124m\"\u001b[39m\n\u001b[1;32m    939\u001b[0m     )\n",
      "File \u001b[0;32m~/.cache/pypoetry/virtualenvs/elmforid-_YaLGIda-py3.10/lib/python3.10/site-packages/sklearn/utils/parallel.py:67\u001b[0m, in \u001b[0;36mParallel.__call__\u001b[0;34m(self, iterable)\u001b[0m\n\u001b[1;32m     62\u001b[0m config \u001b[38;5;241m=\u001b[39m get_config()\n\u001b[1;32m     63\u001b[0m iterable_with_config \u001b[38;5;241m=\u001b[39m (\n\u001b[1;32m     64\u001b[0m     (_with_config(delayed_func, config), args, kwargs)\n\u001b[1;32m     65\u001b[0m     \u001b[38;5;28;01mfor\u001b[39;00m delayed_func, args, kwargs \u001b[38;5;129;01min\u001b[39;00m iterable\n\u001b[1;32m     66\u001b[0m )\n\u001b[0;32m---> 67\u001b[0m \u001b[38;5;28;01mreturn\u001b[39;00m \u001b[38;5;28;43msuper\u001b[39;49m\u001b[43m(\u001b[49m\u001b[43m)\u001b[49m\u001b[38;5;241;43m.\u001b[39;49m\u001b[38;5;21;43m__call__\u001b[39;49m\u001b[43m(\u001b[49m\u001b[43miterable_with_config\u001b[49m\u001b[43m)\u001b[49m\n",
      "File \u001b[0;32m~/.cache/pypoetry/virtualenvs/elmforid-_YaLGIda-py3.10/lib/python3.10/site-packages/joblib/parallel.py:1863\u001b[0m, in \u001b[0;36mParallel.__call__\u001b[0;34m(self, iterable)\u001b[0m\n\u001b[1;32m   1861\u001b[0m     output \u001b[38;5;241m=\u001b[39m \u001b[38;5;28mself\u001b[39m\u001b[38;5;241m.\u001b[39m_get_sequential_output(iterable)\n\u001b[1;32m   1862\u001b[0m     \u001b[38;5;28mnext\u001b[39m(output)\n\u001b[0;32m-> 1863\u001b[0m     \u001b[38;5;28;01mreturn\u001b[39;00m output \u001b[38;5;28;01mif\u001b[39;00m \u001b[38;5;28mself\u001b[39m\u001b[38;5;241m.\u001b[39mreturn_generator \u001b[38;5;28;01melse\u001b[39;00m \u001b[38;5;28;43mlist\u001b[39;49m\u001b[43m(\u001b[49m\u001b[43moutput\u001b[49m\u001b[43m)\u001b[49m\n\u001b[1;32m   1865\u001b[0m \u001b[38;5;66;03m# Let's create an ID that uniquely identifies the current call. If the\u001b[39;00m\n\u001b[1;32m   1866\u001b[0m \u001b[38;5;66;03m# call is interrupted early and that the same instance is immediately\u001b[39;00m\n\u001b[1;32m   1867\u001b[0m \u001b[38;5;66;03m# re-used, this id will be used to prevent workers that were\u001b[39;00m\n\u001b[1;32m   1868\u001b[0m \u001b[38;5;66;03m# concurrently finalizing a task from the previous call to run the\u001b[39;00m\n\u001b[1;32m   1869\u001b[0m \u001b[38;5;66;03m# callback.\u001b[39;00m\n\u001b[1;32m   1870\u001b[0m \u001b[38;5;28;01mwith\u001b[39;00m \u001b[38;5;28mself\u001b[39m\u001b[38;5;241m.\u001b[39m_lock:\n",
      "File \u001b[0;32m~/.cache/pypoetry/virtualenvs/elmforid-_YaLGIda-py3.10/lib/python3.10/site-packages/joblib/parallel.py:1792\u001b[0m, in \u001b[0;36mParallel._get_sequential_output\u001b[0;34m(self, iterable)\u001b[0m\n\u001b[1;32m   1790\u001b[0m \u001b[38;5;28mself\u001b[39m\u001b[38;5;241m.\u001b[39mn_dispatched_batches \u001b[38;5;241m+\u001b[39m\u001b[38;5;241m=\u001b[39m \u001b[38;5;241m1\u001b[39m\n\u001b[1;32m   1791\u001b[0m \u001b[38;5;28mself\u001b[39m\u001b[38;5;241m.\u001b[39mn_dispatched_tasks \u001b[38;5;241m+\u001b[39m\u001b[38;5;241m=\u001b[39m \u001b[38;5;241m1\u001b[39m\n\u001b[0;32m-> 1792\u001b[0m res \u001b[38;5;241m=\u001b[39m \u001b[43mfunc\u001b[49m\u001b[43m(\u001b[49m\u001b[38;5;241;43m*\u001b[39;49m\u001b[43margs\u001b[49m\u001b[43m,\u001b[49m\u001b[43m \u001b[49m\u001b[38;5;241;43m*\u001b[39;49m\u001b[38;5;241;43m*\u001b[39;49m\u001b[43mkwargs\u001b[49m\u001b[43m)\u001b[49m\n\u001b[1;32m   1793\u001b[0m \u001b[38;5;28mself\u001b[39m\u001b[38;5;241m.\u001b[39mn_completed_tasks \u001b[38;5;241m+\u001b[39m\u001b[38;5;241m=\u001b[39m \u001b[38;5;241m1\u001b[39m\n\u001b[1;32m   1794\u001b[0m \u001b[38;5;28mself\u001b[39m\u001b[38;5;241m.\u001b[39mprint_progress()\n",
      "File \u001b[0;32m~/.cache/pypoetry/virtualenvs/elmforid-_YaLGIda-py3.10/lib/python3.10/site-packages/sklearn/utils/parallel.py:129\u001b[0m, in \u001b[0;36m_FuncWrapper.__call__\u001b[0;34m(self, *args, **kwargs)\u001b[0m\n\u001b[1;32m    127\u001b[0m     config \u001b[38;5;241m=\u001b[39m {}\n\u001b[1;32m    128\u001b[0m \u001b[38;5;28;01mwith\u001b[39;00m config_context(\u001b[38;5;241m*\u001b[39m\u001b[38;5;241m*\u001b[39mconfig):\n\u001b[0;32m--> 129\u001b[0m     \u001b[38;5;28;01mreturn\u001b[39;00m \u001b[38;5;28;43mself\u001b[39;49m\u001b[38;5;241;43m.\u001b[39;49m\u001b[43mfunction\u001b[49m\u001b[43m(\u001b[49m\u001b[38;5;241;43m*\u001b[39;49m\u001b[43margs\u001b[49m\u001b[43m,\u001b[49m\u001b[43m \u001b[49m\u001b[38;5;241;43m*\u001b[39;49m\u001b[38;5;241;43m*\u001b[39;49m\u001b[43mkwargs\u001b[49m\u001b[43m)\u001b[49m\n",
      "File \u001b[0;32m~/.cache/pypoetry/virtualenvs/elmforid-_YaLGIda-py3.10/lib/python3.10/site-packages/sklearn/model_selection/_validation.py:895\u001b[0m, in \u001b[0;36m_fit_and_score\u001b[0;34m(estimator, X, y, scorer, train, test, verbose, parameters, fit_params, score_params, return_train_score, return_parameters, return_n_test_samples, return_times, return_estimator, split_progress, candidate_progress, error_score)\u001b[0m\n\u001b[1;32m    893\u001b[0m         estimator\u001b[38;5;241m.\u001b[39mfit(X_train, \u001b[38;5;241m*\u001b[39m\u001b[38;5;241m*\u001b[39mfit_params)\n\u001b[1;32m    894\u001b[0m     \u001b[38;5;28;01melse\u001b[39;00m:\n\u001b[0;32m--> 895\u001b[0m         \u001b[43mestimator\u001b[49m\u001b[38;5;241;43m.\u001b[39;49m\u001b[43mfit\u001b[49m\u001b[43m(\u001b[49m\u001b[43mX_train\u001b[49m\u001b[43m,\u001b[49m\u001b[43m \u001b[49m\u001b[43my_train\u001b[49m\u001b[43m,\u001b[49m\u001b[43m \u001b[49m\u001b[38;5;241;43m*\u001b[39;49m\u001b[38;5;241;43m*\u001b[39;49m\u001b[43mfit_params\u001b[49m\u001b[43m)\u001b[49m\n\u001b[1;32m    897\u001b[0m \u001b[38;5;28;01mexcept\u001b[39;00m \u001b[38;5;167;01mException\u001b[39;00m:\n\u001b[1;32m    898\u001b[0m     \u001b[38;5;66;03m# Note fit time as time until error\u001b[39;00m\n\u001b[1;32m    899\u001b[0m     fit_time \u001b[38;5;241m=\u001b[39m time\u001b[38;5;241m.\u001b[39mtime() \u001b[38;5;241m-\u001b[39m start_time\n",
      "Cell \u001b[0;32mIn[7], line 28\u001b[0m, in \u001b[0;36mKELM.fit\u001b[0;34m(self, X, Y)\u001b[0m\n\u001b[1;32m     26\u001b[0m \u001b[38;5;28;01mfor\u001b[39;00m \u001b[38;5;28mcls\u001b[39m \u001b[38;5;129;01min\u001b[39;00m \u001b[38;5;28mself\u001b[39m\u001b[38;5;241m.\u001b[39mclasses_:\n\u001b[1;32m     27\u001b[0m     y_cls \u001b[38;5;241m=\u001b[39m (Y \u001b[38;5;241m==\u001b[39m \u001b[38;5;28mcls\u001b[39m)\u001b[38;5;241m.\u001b[39mastype(\u001b[38;5;28mint\u001b[39m)\n\u001b[0;32m---> 28\u001b[0m     beta_cls \u001b[38;5;241m=\u001b[39m \u001b[43mnp\u001b[49m\u001b[38;5;241;43m.\u001b[39;49m\u001b[43mlinalg\u001b[49m\u001b[38;5;241;43m.\u001b[39;49m\u001b[43msolve\u001b[49m\u001b[43m(\u001b[49m\u001b[43mK\u001b[49m\u001b[43m \u001b[49m\u001b[38;5;241;43m+\u001b[39;49m\u001b[43m \u001b[49m\u001b[43mreg_term\u001b[49m\u001b[43m,\u001b[49m\u001b[43m \u001b[49m\u001b[43my_cls\u001b[49m\u001b[43m)\u001b[49m\n\u001b[1;32m     29\u001b[0m     \u001b[38;5;28mself\u001b[39m\u001b[38;5;241m.\u001b[39m_beta\u001b[38;5;241m.\u001b[39mappend(beta_cls)\n\u001b[1;32m     30\u001b[0m \u001b[38;5;28mself\u001b[39m\u001b[38;5;241m.\u001b[39m_beta \u001b[38;5;241m=\u001b[39m np\u001b[38;5;241m.\u001b[39marray(\u001b[38;5;28mself\u001b[39m\u001b[38;5;241m.\u001b[39m_beta)\n",
      "File \u001b[0;32m~/.cache/pypoetry/virtualenvs/elmforid-_YaLGIda-py3.10/lib/python3.10/site-packages/numpy/linalg/linalg.py:409\u001b[0m, in \u001b[0;36msolve\u001b[0;34m(a, b)\u001b[0m\n\u001b[1;32m    407\u001b[0m signature \u001b[38;5;241m=\u001b[39m \u001b[38;5;124m'\u001b[39m\u001b[38;5;124mDD->D\u001b[39m\u001b[38;5;124m'\u001b[39m \u001b[38;5;28;01mif\u001b[39;00m isComplexType(t) \u001b[38;5;28;01melse\u001b[39;00m \u001b[38;5;124m'\u001b[39m\u001b[38;5;124mdd->d\u001b[39m\u001b[38;5;124m'\u001b[39m\n\u001b[1;32m    408\u001b[0m extobj \u001b[38;5;241m=\u001b[39m get_linalg_error_extobj(_raise_linalgerror_singular)\n\u001b[0;32m--> 409\u001b[0m r \u001b[38;5;241m=\u001b[39m \u001b[43mgufunc\u001b[49m\u001b[43m(\u001b[49m\u001b[43ma\u001b[49m\u001b[43m,\u001b[49m\u001b[43m \u001b[49m\u001b[43mb\u001b[49m\u001b[43m,\u001b[49m\u001b[43m \u001b[49m\u001b[43msignature\u001b[49m\u001b[38;5;241;43m=\u001b[39;49m\u001b[43msignature\u001b[49m\u001b[43m,\u001b[49m\u001b[43m \u001b[49m\u001b[43mextobj\u001b[49m\u001b[38;5;241;43m=\u001b[39;49m\u001b[43mextobj\u001b[49m\u001b[43m)\u001b[49m\n\u001b[1;32m    411\u001b[0m \u001b[38;5;28;01mreturn\u001b[39;00m wrap(r\u001b[38;5;241m.\u001b[39mastype(result_t, copy\u001b[38;5;241m=\u001b[39m\u001b[38;5;28;01mFalse\u001b[39;00m))\n",
      "\u001b[0;31mKeyboardInterrupt\u001b[0m: "
     ]
    }
   ],
   "source": [
    "#KELM for binary classification\n",
    "grid_KELM_bin = GridSearchCV(KELM(), param_grid_KELM_bin,\n",
    "                             cv=10, verbose=2, n_jobs=1, scoring='accuracy') # n_jobs > 5 is crash\n",
    "grid_KELM_bin.fit(X_train, y_train_bin) # well i dont have enough memory\n",
    "no, C, g = grid_KELM_bin.best_params_.values()\n",
    "ELM_kernel_bic = KELM(num_out_units=no, C=C, gamma=g)\n",
    "print(\"best params: \", grid_KELM_bin.best_params_.values())"
   ]
  },
  {
   "cell_type": "code",
   "execution_count": 10,
   "metadata": {},
   "outputs": [
    {
     "name": "stdout",
     "output_type": "stream",
     "text": [
      "Fitting 10 folds for each of 2500 candidates, totalling 25000 fits\n"
     ]
    },
    {
     "name": "stderr",
     "output_type": "stream",
     "text": [
      "/home/vxofi/.cache/pypoetry/virtualenvs/elmforid-_YaLGIda-py3.10/lib/python3.10/site-packages/sklearn/model_selection/_split.py:737: UserWarning: The least populated class in y has only 1 members, which is less than n_splits=10.\n",
      "  warnings.warn(\n"
     ]
    },
    {
     "name": "stdout",
     "output_type": "stream",
     "text": [
      "[CV 1/10] END C=5.960464477539063e-08, gamma=5.960464477539063e-08, num_out_units=37;, score=0.003 total time=  20.5s\n",
      "[CV 2/10] END C=5.960464477539063e-08, gamma=5.960464477539063e-08, num_out_units=37;, score=0.003 total time=  19.3s\n",
      "[CV 3/10] END C=5.960464477539063e-08, gamma=5.960464477539063e-08, num_out_units=37;, score=0.003 total time=  20.2s\n"
     ]
    },
    {
     "ename": "KeyboardInterrupt",
     "evalue": "",
     "output_type": "error",
     "traceback": [
      "\u001b[0;31m---------------------------------------------------------------------------\u001b[0m",
      "\u001b[0;31mKeyboardInterrupt\u001b[0m                         Traceback (most recent call last)",
      "Cell \u001b[0;32mIn[10], line 3\u001b[0m\n\u001b[1;32m      1\u001b[0m \u001b[38;5;66;03m#KELM for multi class classification\u001b[39;00m\n\u001b[1;32m      2\u001b[0m grid_KELM \u001b[38;5;241m=\u001b[39m GridSearchCV(KELM(), param_grid_KELM, cv\u001b[38;5;241m=\u001b[39m\u001b[38;5;241m10\u001b[39m, verbose\u001b[38;5;241m=\u001b[39m\u001b[38;5;241m5\u001b[39m, n_jobs\u001b[38;5;241m=\u001b[39m\u001b[38;5;241m1\u001b[39m)\n\u001b[0;32m----> 3\u001b[0m \u001b[43mgrid_KELM\u001b[49m\u001b[38;5;241;43m.\u001b[39;49m\u001b[43mfit\u001b[49m\u001b[43m(\u001b[49m\u001b[43mX_train\u001b[49m\u001b[43m,\u001b[49m\u001b[43m \u001b[49m\u001b[43my_train\u001b[49m\u001b[43m)\u001b[49m\n\u001b[1;32m      4\u001b[0m no, C, g \u001b[38;5;241m=\u001b[39m grid_KELM\u001b[38;5;241m.\u001b[39mbest_params_\u001b[38;5;241m.\u001b[39mvalues()\n\u001b[1;32m      5\u001b[0m ELM_kernel_multic \u001b[38;5;241m=\u001b[39m KELM(no, param_C\u001b[38;5;241m=\u001b[39mC, gamma\u001b[38;5;241m=\u001b[39mg)\n",
      "File \u001b[0;32m~/.cache/pypoetry/virtualenvs/elmforid-_YaLGIda-py3.10/lib/python3.10/site-packages/sklearn/base.py:1474\u001b[0m, in \u001b[0;36m_fit_context.<locals>.decorator.<locals>.wrapper\u001b[0;34m(estimator, *args, **kwargs)\u001b[0m\n\u001b[1;32m   1467\u001b[0m     estimator\u001b[38;5;241m.\u001b[39m_validate_params()\n\u001b[1;32m   1469\u001b[0m \u001b[38;5;28;01mwith\u001b[39;00m config_context(\n\u001b[1;32m   1470\u001b[0m     skip_parameter_validation\u001b[38;5;241m=\u001b[39m(\n\u001b[1;32m   1471\u001b[0m         prefer_skip_nested_validation \u001b[38;5;129;01mor\u001b[39;00m global_skip_validation\n\u001b[1;32m   1472\u001b[0m     )\n\u001b[1;32m   1473\u001b[0m ):\n\u001b[0;32m-> 1474\u001b[0m     \u001b[38;5;28;01mreturn\u001b[39;00m \u001b[43mfit_method\u001b[49m\u001b[43m(\u001b[49m\u001b[43mestimator\u001b[49m\u001b[43m,\u001b[49m\u001b[43m \u001b[49m\u001b[38;5;241;43m*\u001b[39;49m\u001b[43margs\u001b[49m\u001b[43m,\u001b[49m\u001b[43m \u001b[49m\u001b[38;5;241;43m*\u001b[39;49m\u001b[38;5;241;43m*\u001b[39;49m\u001b[43mkwargs\u001b[49m\u001b[43m)\u001b[49m\n",
      "File \u001b[0;32m~/.cache/pypoetry/virtualenvs/elmforid-_YaLGIda-py3.10/lib/python3.10/site-packages/sklearn/model_selection/_search.py:970\u001b[0m, in \u001b[0;36mBaseSearchCV.fit\u001b[0;34m(self, X, y, **params)\u001b[0m\n\u001b[1;32m    964\u001b[0m     results \u001b[38;5;241m=\u001b[39m \u001b[38;5;28mself\u001b[39m\u001b[38;5;241m.\u001b[39m_format_results(\n\u001b[1;32m    965\u001b[0m         all_candidate_params, n_splits, all_out, all_more_results\n\u001b[1;32m    966\u001b[0m     )\n\u001b[1;32m    968\u001b[0m     \u001b[38;5;28;01mreturn\u001b[39;00m results\n\u001b[0;32m--> 970\u001b[0m \u001b[38;5;28;43mself\u001b[39;49m\u001b[38;5;241;43m.\u001b[39;49m\u001b[43m_run_search\u001b[49m\u001b[43m(\u001b[49m\u001b[43mevaluate_candidates\u001b[49m\u001b[43m)\u001b[49m\n\u001b[1;32m    972\u001b[0m \u001b[38;5;66;03m# multimetric is determined here because in the case of a callable\u001b[39;00m\n\u001b[1;32m    973\u001b[0m \u001b[38;5;66;03m# self.scoring the return type is only known after calling\u001b[39;00m\n\u001b[1;32m    974\u001b[0m first_test_score \u001b[38;5;241m=\u001b[39m all_out[\u001b[38;5;241m0\u001b[39m][\u001b[38;5;124m\"\u001b[39m\u001b[38;5;124mtest_scores\u001b[39m\u001b[38;5;124m\"\u001b[39m]\n",
      "File \u001b[0;32m~/.cache/pypoetry/virtualenvs/elmforid-_YaLGIda-py3.10/lib/python3.10/site-packages/sklearn/model_selection/_search.py:1527\u001b[0m, in \u001b[0;36mGridSearchCV._run_search\u001b[0;34m(self, evaluate_candidates)\u001b[0m\n\u001b[1;32m   1525\u001b[0m \u001b[38;5;28;01mdef\u001b[39;00m \u001b[38;5;21m_run_search\u001b[39m(\u001b[38;5;28mself\u001b[39m, evaluate_candidates):\n\u001b[1;32m   1526\u001b[0m \u001b[38;5;250m    \u001b[39m\u001b[38;5;124;03m\"\"\"Search all candidates in param_grid\"\"\"\u001b[39;00m\n\u001b[0;32m-> 1527\u001b[0m     \u001b[43mevaluate_candidates\u001b[49m\u001b[43m(\u001b[49m\u001b[43mParameterGrid\u001b[49m\u001b[43m(\u001b[49m\u001b[38;5;28;43mself\u001b[39;49m\u001b[38;5;241;43m.\u001b[39;49m\u001b[43mparam_grid\u001b[49m\u001b[43m)\u001b[49m\u001b[43m)\u001b[49m\n",
      "File \u001b[0;32m~/.cache/pypoetry/virtualenvs/elmforid-_YaLGIda-py3.10/lib/python3.10/site-packages/sklearn/model_selection/_search.py:916\u001b[0m, in \u001b[0;36mBaseSearchCV.fit.<locals>.evaluate_candidates\u001b[0;34m(candidate_params, cv, more_results)\u001b[0m\n\u001b[1;32m    908\u001b[0m \u001b[38;5;28;01mif\u001b[39;00m \u001b[38;5;28mself\u001b[39m\u001b[38;5;241m.\u001b[39mverbose \u001b[38;5;241m>\u001b[39m \u001b[38;5;241m0\u001b[39m:\n\u001b[1;32m    909\u001b[0m     \u001b[38;5;28mprint\u001b[39m(\n\u001b[1;32m    910\u001b[0m         \u001b[38;5;124m\"\u001b[39m\u001b[38;5;124mFitting \u001b[39m\u001b[38;5;132;01m{0}\u001b[39;00m\u001b[38;5;124m folds for each of \u001b[39m\u001b[38;5;132;01m{1}\u001b[39;00m\u001b[38;5;124m candidates,\u001b[39m\u001b[38;5;124m\"\u001b[39m\n\u001b[1;32m    911\u001b[0m         \u001b[38;5;124m\"\u001b[39m\u001b[38;5;124m totalling \u001b[39m\u001b[38;5;132;01m{2}\u001b[39;00m\u001b[38;5;124m fits\u001b[39m\u001b[38;5;124m\"\u001b[39m\u001b[38;5;241m.\u001b[39mformat(\n\u001b[1;32m    912\u001b[0m             n_splits, n_candidates, n_candidates \u001b[38;5;241m*\u001b[39m n_splits\n\u001b[1;32m    913\u001b[0m         )\n\u001b[1;32m    914\u001b[0m     )\n\u001b[0;32m--> 916\u001b[0m out \u001b[38;5;241m=\u001b[39m \u001b[43mparallel\u001b[49m\u001b[43m(\u001b[49m\n\u001b[1;32m    917\u001b[0m \u001b[43m    \u001b[49m\u001b[43mdelayed\u001b[49m\u001b[43m(\u001b[49m\u001b[43m_fit_and_score\u001b[49m\u001b[43m)\u001b[49m\u001b[43m(\u001b[49m\n\u001b[1;32m    918\u001b[0m \u001b[43m        \u001b[49m\u001b[43mclone\u001b[49m\u001b[43m(\u001b[49m\u001b[43mbase_estimator\u001b[49m\u001b[43m)\u001b[49m\u001b[43m,\u001b[49m\n\u001b[1;32m    919\u001b[0m \u001b[43m        \u001b[49m\u001b[43mX\u001b[49m\u001b[43m,\u001b[49m\n\u001b[1;32m    920\u001b[0m \u001b[43m        \u001b[49m\u001b[43my\u001b[49m\u001b[43m,\u001b[49m\n\u001b[1;32m    921\u001b[0m \u001b[43m        \u001b[49m\u001b[43mtrain\u001b[49m\u001b[38;5;241;43m=\u001b[39;49m\u001b[43mtrain\u001b[49m\u001b[43m,\u001b[49m\n\u001b[1;32m    922\u001b[0m \u001b[43m        \u001b[49m\u001b[43mtest\u001b[49m\u001b[38;5;241;43m=\u001b[39;49m\u001b[43mtest\u001b[49m\u001b[43m,\u001b[49m\n\u001b[1;32m    923\u001b[0m \u001b[43m        \u001b[49m\u001b[43mparameters\u001b[49m\u001b[38;5;241;43m=\u001b[39;49m\u001b[43mparameters\u001b[49m\u001b[43m,\u001b[49m\n\u001b[1;32m    924\u001b[0m \u001b[43m        \u001b[49m\u001b[43msplit_progress\u001b[49m\u001b[38;5;241;43m=\u001b[39;49m\u001b[43m(\u001b[49m\u001b[43msplit_idx\u001b[49m\u001b[43m,\u001b[49m\u001b[43m \u001b[49m\u001b[43mn_splits\u001b[49m\u001b[43m)\u001b[49m\u001b[43m,\u001b[49m\n\u001b[1;32m    925\u001b[0m \u001b[43m        \u001b[49m\u001b[43mcandidate_progress\u001b[49m\u001b[38;5;241;43m=\u001b[39;49m\u001b[43m(\u001b[49m\u001b[43mcand_idx\u001b[49m\u001b[43m,\u001b[49m\u001b[43m \u001b[49m\u001b[43mn_candidates\u001b[49m\u001b[43m)\u001b[49m\u001b[43m,\u001b[49m\n\u001b[1;32m    926\u001b[0m \u001b[43m        \u001b[49m\u001b[38;5;241;43m*\u001b[39;49m\u001b[38;5;241;43m*\u001b[39;49m\u001b[43mfit_and_score_kwargs\u001b[49m\u001b[43m,\u001b[49m\n\u001b[1;32m    927\u001b[0m \u001b[43m    \u001b[49m\u001b[43m)\u001b[49m\n\u001b[1;32m    928\u001b[0m \u001b[43m    \u001b[49m\u001b[38;5;28;43;01mfor\u001b[39;49;00m\u001b[43m \u001b[49m\u001b[43m(\u001b[49m\u001b[43mcand_idx\u001b[49m\u001b[43m,\u001b[49m\u001b[43m \u001b[49m\u001b[43mparameters\u001b[49m\u001b[43m)\u001b[49m\u001b[43m,\u001b[49m\u001b[43m \u001b[49m\u001b[43m(\u001b[49m\u001b[43msplit_idx\u001b[49m\u001b[43m,\u001b[49m\u001b[43m \u001b[49m\u001b[43m(\u001b[49m\u001b[43mtrain\u001b[49m\u001b[43m,\u001b[49m\u001b[43m \u001b[49m\u001b[43mtest\u001b[49m\u001b[43m)\u001b[49m\u001b[43m)\u001b[49m\u001b[43m \u001b[49m\u001b[38;5;129;43;01min\u001b[39;49;00m\u001b[43m \u001b[49m\u001b[43mproduct\u001b[49m\u001b[43m(\u001b[49m\n\u001b[1;32m    929\u001b[0m \u001b[43m        \u001b[49m\u001b[38;5;28;43menumerate\u001b[39;49m\u001b[43m(\u001b[49m\u001b[43mcandidate_params\u001b[49m\u001b[43m)\u001b[49m\u001b[43m,\u001b[49m\n\u001b[1;32m    930\u001b[0m \u001b[43m        \u001b[49m\u001b[38;5;28;43menumerate\u001b[39;49m\u001b[43m(\u001b[49m\u001b[43mcv\u001b[49m\u001b[38;5;241;43m.\u001b[39;49m\u001b[43msplit\u001b[49m\u001b[43m(\u001b[49m\u001b[43mX\u001b[49m\u001b[43m,\u001b[49m\u001b[43m \u001b[49m\u001b[43my\u001b[49m\u001b[43m,\u001b[49m\u001b[43m \u001b[49m\u001b[38;5;241;43m*\u001b[39;49m\u001b[38;5;241;43m*\u001b[39;49m\u001b[43mrouted_params\u001b[49m\u001b[38;5;241;43m.\u001b[39;49m\u001b[43msplitter\u001b[49m\u001b[38;5;241;43m.\u001b[39;49m\u001b[43msplit\u001b[49m\u001b[43m)\u001b[49m\u001b[43m)\u001b[49m\u001b[43m,\u001b[49m\n\u001b[1;32m    931\u001b[0m \u001b[43m    \u001b[49m\u001b[43m)\u001b[49m\n\u001b[1;32m    932\u001b[0m \u001b[43m\u001b[49m\u001b[43m)\u001b[49m\n\u001b[1;32m    934\u001b[0m \u001b[38;5;28;01mif\u001b[39;00m \u001b[38;5;28mlen\u001b[39m(out) \u001b[38;5;241m<\u001b[39m \u001b[38;5;241m1\u001b[39m:\n\u001b[1;32m    935\u001b[0m     \u001b[38;5;28;01mraise\u001b[39;00m \u001b[38;5;167;01mValueError\u001b[39;00m(\n\u001b[1;32m    936\u001b[0m         \u001b[38;5;124m\"\u001b[39m\u001b[38;5;124mNo fits were performed. \u001b[39m\u001b[38;5;124m\"\u001b[39m\n\u001b[1;32m    937\u001b[0m         \u001b[38;5;124m\"\u001b[39m\u001b[38;5;124mWas the CV iterator empty? \u001b[39m\u001b[38;5;124m\"\u001b[39m\n\u001b[1;32m    938\u001b[0m         \u001b[38;5;124m\"\u001b[39m\u001b[38;5;124mWere there no candidates?\u001b[39m\u001b[38;5;124m\"\u001b[39m\n\u001b[1;32m    939\u001b[0m     )\n",
      "File \u001b[0;32m~/.cache/pypoetry/virtualenvs/elmforid-_YaLGIda-py3.10/lib/python3.10/site-packages/sklearn/utils/parallel.py:67\u001b[0m, in \u001b[0;36mParallel.__call__\u001b[0;34m(self, iterable)\u001b[0m\n\u001b[1;32m     62\u001b[0m config \u001b[38;5;241m=\u001b[39m get_config()\n\u001b[1;32m     63\u001b[0m iterable_with_config \u001b[38;5;241m=\u001b[39m (\n\u001b[1;32m     64\u001b[0m     (_with_config(delayed_func, config), args, kwargs)\n\u001b[1;32m     65\u001b[0m     \u001b[38;5;28;01mfor\u001b[39;00m delayed_func, args, kwargs \u001b[38;5;129;01min\u001b[39;00m iterable\n\u001b[1;32m     66\u001b[0m )\n\u001b[0;32m---> 67\u001b[0m \u001b[38;5;28;01mreturn\u001b[39;00m \u001b[38;5;28;43msuper\u001b[39;49m\u001b[43m(\u001b[49m\u001b[43m)\u001b[49m\u001b[38;5;241;43m.\u001b[39;49m\u001b[38;5;21;43m__call__\u001b[39;49m\u001b[43m(\u001b[49m\u001b[43miterable_with_config\u001b[49m\u001b[43m)\u001b[49m\n",
      "File \u001b[0;32m~/.cache/pypoetry/virtualenvs/elmforid-_YaLGIda-py3.10/lib/python3.10/site-packages/joblib/parallel.py:1863\u001b[0m, in \u001b[0;36mParallel.__call__\u001b[0;34m(self, iterable)\u001b[0m\n\u001b[1;32m   1861\u001b[0m     output \u001b[38;5;241m=\u001b[39m \u001b[38;5;28mself\u001b[39m\u001b[38;5;241m.\u001b[39m_get_sequential_output(iterable)\n\u001b[1;32m   1862\u001b[0m     \u001b[38;5;28mnext\u001b[39m(output)\n\u001b[0;32m-> 1863\u001b[0m     \u001b[38;5;28;01mreturn\u001b[39;00m output \u001b[38;5;28;01mif\u001b[39;00m \u001b[38;5;28mself\u001b[39m\u001b[38;5;241m.\u001b[39mreturn_generator \u001b[38;5;28;01melse\u001b[39;00m \u001b[38;5;28;43mlist\u001b[39;49m\u001b[43m(\u001b[49m\u001b[43moutput\u001b[49m\u001b[43m)\u001b[49m\n\u001b[1;32m   1865\u001b[0m \u001b[38;5;66;03m# Let's create an ID that uniquely identifies the current call. If the\u001b[39;00m\n\u001b[1;32m   1866\u001b[0m \u001b[38;5;66;03m# call is interrupted early and that the same instance is immediately\u001b[39;00m\n\u001b[1;32m   1867\u001b[0m \u001b[38;5;66;03m# re-used, this id will be used to prevent workers that were\u001b[39;00m\n\u001b[1;32m   1868\u001b[0m \u001b[38;5;66;03m# concurrently finalizing a task from the previous call to run the\u001b[39;00m\n\u001b[1;32m   1869\u001b[0m \u001b[38;5;66;03m# callback.\u001b[39;00m\n\u001b[1;32m   1870\u001b[0m \u001b[38;5;28;01mwith\u001b[39;00m \u001b[38;5;28mself\u001b[39m\u001b[38;5;241m.\u001b[39m_lock:\n",
      "File \u001b[0;32m~/.cache/pypoetry/virtualenvs/elmforid-_YaLGIda-py3.10/lib/python3.10/site-packages/joblib/parallel.py:1792\u001b[0m, in \u001b[0;36mParallel._get_sequential_output\u001b[0;34m(self, iterable)\u001b[0m\n\u001b[1;32m   1790\u001b[0m \u001b[38;5;28mself\u001b[39m\u001b[38;5;241m.\u001b[39mn_dispatched_batches \u001b[38;5;241m+\u001b[39m\u001b[38;5;241m=\u001b[39m \u001b[38;5;241m1\u001b[39m\n\u001b[1;32m   1791\u001b[0m \u001b[38;5;28mself\u001b[39m\u001b[38;5;241m.\u001b[39mn_dispatched_tasks \u001b[38;5;241m+\u001b[39m\u001b[38;5;241m=\u001b[39m \u001b[38;5;241m1\u001b[39m\n\u001b[0;32m-> 1792\u001b[0m res \u001b[38;5;241m=\u001b[39m \u001b[43mfunc\u001b[49m\u001b[43m(\u001b[49m\u001b[38;5;241;43m*\u001b[39;49m\u001b[43margs\u001b[49m\u001b[43m,\u001b[49m\u001b[43m \u001b[49m\u001b[38;5;241;43m*\u001b[39;49m\u001b[38;5;241;43m*\u001b[39;49m\u001b[43mkwargs\u001b[49m\u001b[43m)\u001b[49m\n\u001b[1;32m   1793\u001b[0m \u001b[38;5;28mself\u001b[39m\u001b[38;5;241m.\u001b[39mn_completed_tasks \u001b[38;5;241m+\u001b[39m\u001b[38;5;241m=\u001b[39m \u001b[38;5;241m1\u001b[39m\n\u001b[1;32m   1794\u001b[0m \u001b[38;5;28mself\u001b[39m\u001b[38;5;241m.\u001b[39mprint_progress()\n",
      "File \u001b[0;32m~/.cache/pypoetry/virtualenvs/elmforid-_YaLGIda-py3.10/lib/python3.10/site-packages/sklearn/utils/parallel.py:129\u001b[0m, in \u001b[0;36m_FuncWrapper.__call__\u001b[0;34m(self, *args, **kwargs)\u001b[0m\n\u001b[1;32m    127\u001b[0m     config \u001b[38;5;241m=\u001b[39m {}\n\u001b[1;32m    128\u001b[0m \u001b[38;5;28;01mwith\u001b[39;00m config_context(\u001b[38;5;241m*\u001b[39m\u001b[38;5;241m*\u001b[39mconfig):\n\u001b[0;32m--> 129\u001b[0m     \u001b[38;5;28;01mreturn\u001b[39;00m \u001b[38;5;28;43mself\u001b[39;49m\u001b[38;5;241;43m.\u001b[39;49m\u001b[43mfunction\u001b[49m\u001b[43m(\u001b[49m\u001b[38;5;241;43m*\u001b[39;49m\u001b[43margs\u001b[49m\u001b[43m,\u001b[49m\u001b[43m \u001b[49m\u001b[38;5;241;43m*\u001b[39;49m\u001b[38;5;241;43m*\u001b[39;49m\u001b[43mkwargs\u001b[49m\u001b[43m)\u001b[49m\n",
      "File \u001b[0;32m~/.cache/pypoetry/virtualenvs/elmforid-_YaLGIda-py3.10/lib/python3.10/site-packages/sklearn/model_selection/_validation.py:895\u001b[0m, in \u001b[0;36m_fit_and_score\u001b[0;34m(estimator, X, y, scorer, train, test, verbose, parameters, fit_params, score_params, return_train_score, return_parameters, return_n_test_samples, return_times, return_estimator, split_progress, candidate_progress, error_score)\u001b[0m\n\u001b[1;32m    893\u001b[0m         estimator\u001b[38;5;241m.\u001b[39mfit(X_train, \u001b[38;5;241m*\u001b[39m\u001b[38;5;241m*\u001b[39mfit_params)\n\u001b[1;32m    894\u001b[0m     \u001b[38;5;28;01melse\u001b[39;00m:\n\u001b[0;32m--> 895\u001b[0m         \u001b[43mestimator\u001b[49m\u001b[38;5;241;43m.\u001b[39;49m\u001b[43mfit\u001b[49m\u001b[43m(\u001b[49m\u001b[43mX_train\u001b[49m\u001b[43m,\u001b[49m\u001b[43m \u001b[49m\u001b[43my_train\u001b[49m\u001b[43m,\u001b[49m\u001b[43m \u001b[49m\u001b[38;5;241;43m*\u001b[39;49m\u001b[38;5;241;43m*\u001b[39;49m\u001b[43mfit_params\u001b[49m\u001b[43m)\u001b[49m\n\u001b[1;32m    897\u001b[0m \u001b[38;5;28;01mexcept\u001b[39;00m \u001b[38;5;167;01mException\u001b[39;00m:\n\u001b[1;32m    898\u001b[0m     \u001b[38;5;66;03m# Note fit time as time until error\u001b[39;00m\n\u001b[1;32m    899\u001b[0m     fit_time \u001b[38;5;241m=\u001b[39m time\u001b[38;5;241m.\u001b[39mtime() \u001b[38;5;241m-\u001b[39m start_time\n",
      "Cell \u001b[0;32mIn[6], line 28\u001b[0m, in \u001b[0;36mKELM.fit\u001b[0;34m(self, X, Y)\u001b[0m\n\u001b[1;32m     26\u001b[0m \u001b[38;5;28;01mfor\u001b[39;00m \u001b[38;5;28mcls\u001b[39m \u001b[38;5;129;01min\u001b[39;00m \u001b[38;5;28mself\u001b[39m\u001b[38;5;241m.\u001b[39mclasses_:\n\u001b[1;32m     27\u001b[0m     y_cls \u001b[38;5;241m=\u001b[39m (Y \u001b[38;5;241m==\u001b[39m \u001b[38;5;28mcls\u001b[39m)\u001b[38;5;241m.\u001b[39mastype(\u001b[38;5;28mint\u001b[39m)\n\u001b[0;32m---> 28\u001b[0m     beta_cls \u001b[38;5;241m=\u001b[39m \u001b[43mnp\u001b[49m\u001b[38;5;241;43m.\u001b[39;49m\u001b[43mlinalg\u001b[49m\u001b[38;5;241;43m.\u001b[39;49m\u001b[43msolve\u001b[49m\u001b[43m(\u001b[49m\u001b[43mK\u001b[49m\u001b[43m \u001b[49m\u001b[38;5;241;43m+\u001b[39;49m\u001b[43m \u001b[49m\u001b[43mreg_term\u001b[49m\u001b[43m,\u001b[49m\u001b[43m \u001b[49m\u001b[43my_cls\u001b[49m\u001b[43m)\u001b[49m\n\u001b[1;32m     29\u001b[0m     \u001b[38;5;28mself\u001b[39m\u001b[38;5;241m.\u001b[39m_beta\u001b[38;5;241m.\u001b[39mappend(beta_cls)\n\u001b[1;32m     30\u001b[0m \u001b[38;5;28mself\u001b[39m\u001b[38;5;241m.\u001b[39m_beta \u001b[38;5;241m=\u001b[39m np\u001b[38;5;241m.\u001b[39marray(\u001b[38;5;28mself\u001b[39m\u001b[38;5;241m.\u001b[39m_beta)\n",
      "File \u001b[0;32m~/.cache/pypoetry/virtualenvs/elmforid-_YaLGIda-py3.10/lib/python3.10/site-packages/numpy/linalg/linalg.py:409\u001b[0m, in \u001b[0;36msolve\u001b[0;34m(a, b)\u001b[0m\n\u001b[1;32m    407\u001b[0m signature \u001b[38;5;241m=\u001b[39m \u001b[38;5;124m'\u001b[39m\u001b[38;5;124mDD->D\u001b[39m\u001b[38;5;124m'\u001b[39m \u001b[38;5;28;01mif\u001b[39;00m isComplexType(t) \u001b[38;5;28;01melse\u001b[39;00m \u001b[38;5;124m'\u001b[39m\u001b[38;5;124mdd->d\u001b[39m\u001b[38;5;124m'\u001b[39m\n\u001b[1;32m    408\u001b[0m extobj \u001b[38;5;241m=\u001b[39m get_linalg_error_extobj(_raise_linalgerror_singular)\n\u001b[0;32m--> 409\u001b[0m r \u001b[38;5;241m=\u001b[39m \u001b[43mgufunc\u001b[49m\u001b[43m(\u001b[49m\u001b[43ma\u001b[49m\u001b[43m,\u001b[49m\u001b[43m \u001b[49m\u001b[43mb\u001b[49m\u001b[43m,\u001b[49m\u001b[43m \u001b[49m\u001b[43msignature\u001b[49m\u001b[38;5;241;43m=\u001b[39;49m\u001b[43msignature\u001b[49m\u001b[43m,\u001b[49m\u001b[43m \u001b[49m\u001b[43mextobj\u001b[49m\u001b[38;5;241;43m=\u001b[39;49m\u001b[43mextobj\u001b[49m\u001b[43m)\u001b[49m\n\u001b[1;32m    411\u001b[0m \u001b[38;5;28;01mreturn\u001b[39;00m wrap(r\u001b[38;5;241m.\u001b[39mastype(result_t, copy\u001b[38;5;241m=\u001b[39m\u001b[38;5;28;01mFalse\u001b[39;00m))\n",
      "\u001b[0;31mKeyboardInterrupt\u001b[0m: "
     ]
    }
   ],
   "source": [
    "#KELM for multi class classification\n",
    "grid_KELM = GridSearchCV(KELM(), param_grid_KELM, cv=10, verbose=5, n_jobs=1)\n",
    "grid_KELM.fit(X_train, y_train)\n",
    "no, C, g = grid_KELM.best_params_.values()\n",
    "ELM_kernel_multic = KELM(no, param_C=C, gamma=g)\n",
    "print(\"best params: \", grid_KELM.best_params_.values())"
   ]
  },
  {
   "cell_type": "code",
   "execution_count": 37,
   "metadata": {},
   "outputs": [
    {
     "data": {
      "text/plain": [
       "0.948"
      ]
     },
     "execution_count": 37,
     "metadata": {},
     "output_type": "execute_result"
    }
   ],
   "source": [
    "test = KELM(37, 0.0625, 0.05)\n",
    "# Best params bin:  {'num_out_units': 2, 'gamma': 0.015625, 'C': 1024}\n",
    "# Best params:  {'num_out_units': 37, 'gamma': 0.5, 'C': 4}\n",
    "test.fit(X_train, y_train)\n",
    "preds = test.predict(X_test)\n",
    "accuracy_score(y_test, preds)"
   ]
  },
  {
   "cell_type": "code",
   "execution_count": 38,
   "metadata": {},
   "outputs": [
    {
     "data": {
      "text/plain": [
       "0.951"
      ]
     },
     "execution_count": 38,
     "metadata": {},
     "output_type": "execute_result"
    }
   ],
   "source": [
    "accuracy_score(y_train, test.predict(X_train))"
   ]
  },
  {
   "cell_type": "code",
   "execution_count": 52,
   "metadata": {},
   "outputs": [
    {
     "name": "stdout",
     "output_type": "stream",
     "text": [
      "Fitting 10 folds for each of 10 candidates, totalling 100 fits\n"
     ]
    },
    {
     "name": "stderr",
     "output_type": "stream",
     "text": [
      "/home/vxofi/.cache/pypoetry/virtualenvs/elmforid-_YaLGIda-py3.10/lib/python3.10/site-packages/sklearn/model_selection/_split.py:737: UserWarning: The least populated class in y has only 1 members, which is less than n_splits=10.\n",
      "  warnings.warn(\n"
     ]
    },
    {
     "name": "stdout",
     "output_type": "stream",
     "text": [
      "[CV] END C=0.0009765625, gamma=3.814697265625e-06, num_out_units=37; total time=  10.3s\n",
      "[CV] END C=0.0009765625, gamma=3.814697265625e-06, num_out_units=37; total time=  11.7s\n",
      "[CV] END C=0.0009765625, gamma=3.814697265625e-06, num_out_units=37; total time=  12.2s\n",
      "[CV] END C=0.0009765625, gamma=3.814697265625e-06, num_out_units=37; total time=  12.3s\n",
      "[CV] END C=0.0009765625, gamma=3.814697265625e-06, num_out_units=37; total time=  15.8s\n",
      "[CV] END C=0.0009765625, gamma=3.814697265625e-06, num_out_units=37; total time=  14.7s\n",
      "[CV] END C=0.0009765625, gamma=3.814697265625e-06, num_out_units=37; total time=  14.9s\n",
      "[CV] END C=0.0009765625, gamma=3.814697265625e-06, num_out_units=37; total time=  15.8s\n",
      "[CV] END C=0.0009765625, gamma=3.814697265625e-06, num_out_units=37; total time=   2.9s\n",
      "[CV] END C=0.0009765625, gamma=3.814697265625e-06, num_out_units=37; total time=   3.0s\n",
      "[CV] END C=1048576, gamma=1.9073486328125e-06, num_out_units=37; total time=   2.9s\n",
      "[CV] END C=1048576, gamma=1.9073486328125e-06, num_out_units=37; total time=   3.1s\n",
      "[CV] END C=1048576, gamma=1.9073486328125e-06, num_out_units=37; total time=   2.5s\n",
      "[CV] END C=1048576, gamma=1.9073486328125e-06, num_out_units=37; total time=   3.0s\n",
      "[CV] END C=1048576, gamma=1.9073486328125e-06, num_out_units=37; total time=   2.9s\n",
      "[CV] END C=1048576, gamma=1.9073486328125e-06, num_out_units=37; total time=   2.9s\n",
      "[CV] END C=1048576, gamma=1.9073486328125e-06, num_out_units=37; total time=   2.6s\n",
      "[CV] END C=1048576, gamma=1.9073486328125e-06, num_out_units=37; total time=   2.7s\n",
      "[CV] END C=1048576, gamma=1.9073486328125e-06, num_out_units=37; total time=   2.8s\n",
      "[CV] END C=1048576, gamma=1.9073486328125e-06, num_out_units=37; total time=   2.6s\n",
      "[CV] END ...................C=4, gamma=0.5, num_out_units=37; total time=   2.7s\n",
      "[CV] END ...................C=4, gamma=0.5, num_out_units=37; total time=   2.8s\n",
      "[CV] END ...................C=4, gamma=0.5, num_out_units=37; total time=   2.7s\n",
      "[CV] END ...................C=4, gamma=0.5, num_out_units=37; total time=   2.6s\n",
      "[CV] END ...................C=4, gamma=0.5, num_out_units=37; total time=   2.7s\n",
      "[CV] END ...................C=4, gamma=0.5, num_out_units=37; total time=   2.8s\n",
      "[CV] END ...................C=4, gamma=0.5, num_out_units=37; total time=   2.7s\n",
      "[CV] END ...................C=4, gamma=0.5, num_out_units=37; total time=   2.7s\n",
      "[CV] END ...................C=4, gamma=0.5, num_out_units=37; total time=   2.6s\n",
      "[CV] END ...................C=4, gamma=0.5, num_out_units=37; total time=   2.7s\n",
      "[CV] END .......C=4194304, gamma=0.0078125, num_out_units=37; total time=   2.9s\n",
      "[CV] END .......C=4194304, gamma=0.0078125, num_out_units=37; total time=   2.9s\n",
      "[CV] END .......C=4194304, gamma=0.0078125, num_out_units=37; total time=   2.9s\n",
      "[CV] END .......C=4194304, gamma=0.0078125, num_out_units=37; total time=   3.1s\n",
      "[CV] END .......C=4194304, gamma=0.0078125, num_out_units=37; total time=   2.9s\n",
      "[CV] END .......C=4194304, gamma=0.0078125, num_out_units=37; total time=   2.8s\n",
      "[CV] END .......C=4194304, gamma=0.0078125, num_out_units=37; total time=   3.0s\n",
      "[CV] END .......C=4194304, gamma=0.0078125, num_out_units=37; total time=   2.8s\n",
      "[CV] END .......C=4194304, gamma=0.0078125, num_out_units=37; total time=   2.9s\n",
      "[CV] END .......C=4194304, gamma=0.0078125, num_out_units=37; total time=   3.0s\n",
      "[CV] END C=1.1920928955078125e-07, gamma=1.52587890625e-05, num_out_units=37; total time=   2.8s\n",
      "[CV] END C=1.1920928955078125e-07, gamma=1.52587890625e-05, num_out_units=37; total time=   2.6s\n",
      "[CV] END C=1.1920928955078125e-07, gamma=1.52587890625e-05, num_out_units=37; total time=   2.7s\n",
      "[CV] END C=1.1920928955078125e-07, gamma=1.52587890625e-05, num_out_units=37; total time=   2.7s\n",
      "[CV] END C=1.1920928955078125e-07, gamma=1.52587890625e-05, num_out_units=37; total time=   2.5s\n",
      "[CV] END C=1.1920928955078125e-07, gamma=1.52587890625e-05, num_out_units=37; total time=   2.8s\n",
      "[CV] END C=1.1920928955078125e-07, gamma=1.52587890625e-05, num_out_units=37; total time=   2.9s\n",
      "[CV] END C=1.1920928955078125e-07, gamma=1.52587890625e-05, num_out_units=37; total time=   3.0s\n",
      "[CV] END C=1.1920928955078125e-07, gamma=1.52587890625e-05, num_out_units=37; total time=   2.8s\n",
      "[CV] END C=1.1920928955078125e-07, gamma=1.52587890625e-05, num_out_units=37; total time=   2.6s\n",
      "[CV] END ...C=131072, gamma=0.000244140625, num_out_units=37; total time=   2.7s\n",
      "[CV] END ...C=131072, gamma=0.000244140625, num_out_units=37; total time=   2.8s\n",
      "[CV] END ...C=131072, gamma=0.000244140625, num_out_units=37; total time=   2.9s\n",
      "[CV] END ...C=131072, gamma=0.000244140625, num_out_units=37; total time=   2.9s\n",
      "[CV] END ...C=131072, gamma=0.000244140625, num_out_units=37; total time=   2.8s\n",
      "[CV] END ...C=131072, gamma=0.000244140625, num_out_units=37; total time=   2.7s\n",
      "[CV] END ...C=131072, gamma=0.000244140625, num_out_units=37; total time=   2.7s\n",
      "[CV] END ...C=131072, gamma=0.000244140625, num_out_units=37; total time=   2.6s\n",
      "[CV] END ...C=131072, gamma=0.000244140625, num_out_units=37; total time=   2.6s\n",
      "[CV] END ...C=131072, gamma=0.000244140625, num_out_units=37; total time=   2.7s\n",
      "[CV] END C=3.0517578125e-05, gamma=1.1920928955078125e-07, num_out_units=37; total time=   2.8s\n",
      "[CV] END C=3.0517578125e-05, gamma=1.1920928955078125e-07, num_out_units=37; total time=   2.6s\n",
      "[CV] END C=3.0517578125e-05, gamma=1.1920928955078125e-07, num_out_units=37; total time=   2.7s\n",
      "[CV] END C=3.0517578125e-05, gamma=1.1920928955078125e-07, num_out_units=37; total time=   2.8s\n",
      "[CV] END C=3.0517578125e-05, gamma=1.1920928955078125e-07, num_out_units=37; total time=   2.7s\n",
      "[CV] END C=3.0517578125e-05, gamma=1.1920928955078125e-07, num_out_units=37; total time=   2.7s\n",
      "[CV] END C=3.0517578125e-05, gamma=1.1920928955078125e-07, num_out_units=37; total time=   2.7s\n",
      "[CV] END C=3.0517578125e-05, gamma=1.1920928955078125e-07, num_out_units=37; total time=   2.8s\n",
      "[CV] END C=3.0517578125e-05, gamma=1.1920928955078125e-07, num_out_units=37; total time=   2.6s\n",
      "[CV] END C=3.0517578125e-05, gamma=1.1920928955078125e-07, num_out_units=37; total time=   2.8s\n",
      "[CV] END ......C=64, gamma=6.103515625e-05, num_out_units=37; total time=   2.7s\n",
      "[CV] END ......C=64, gamma=6.103515625e-05, num_out_units=37; total time=   2.9s\n",
      "[CV] END ......C=64, gamma=6.103515625e-05, num_out_units=37; total time=   2.8s\n",
      "[CV] END ......C=64, gamma=6.103515625e-05, num_out_units=37; total time=   2.8s\n",
      "[CV] END ......C=64, gamma=6.103515625e-05, num_out_units=37; total time=   2.8s\n",
      "[CV] END ......C=64, gamma=6.103515625e-05, num_out_units=37; total time=   2.9s\n",
      "[CV] END ......C=64, gamma=6.103515625e-05, num_out_units=37; total time=   2.7s\n",
      "[CV] END ......C=64, gamma=6.103515625e-05, num_out_units=37; total time=   2.7s\n",
      "[CV] END ......C=64, gamma=6.103515625e-05, num_out_units=37; total time=   2.5s\n",
      "[CV] END ......C=64, gamma=6.103515625e-05, num_out_units=37; total time=   2.9s\n",
      "[CV] END C=131072, gamma=5.960464477539063e-08, num_out_units=37; total time=   2.7s\n",
      "[CV] END C=131072, gamma=5.960464477539063e-08, num_out_units=37; total time=   2.8s\n",
      "[CV] END C=131072, gamma=5.960464477539063e-08, num_out_units=37; total time=   2.7s\n",
      "[CV] END C=131072, gamma=5.960464477539063e-08, num_out_units=37; total time=   2.8s\n",
      "[CV] END C=131072, gamma=5.960464477539063e-08, num_out_units=37; total time=   2.8s\n",
      "[CV] END C=131072, gamma=5.960464477539063e-08, num_out_units=37; total time=   2.9s\n",
      "[CV] END C=131072, gamma=5.960464477539063e-08, num_out_units=37; total time=   2.7s\n",
      "[CV] END C=131072, gamma=5.960464477539063e-08, num_out_units=37; total time=   2.9s\n",
      "[CV] END C=131072, gamma=5.960464477539063e-08, num_out_units=37; total time=   2.9s\n",
      "[CV] END C=131072, gamma=5.960464477539063e-08, num_out_units=37; total time=   3.0s\n",
      "[CV] END C=1.9073486328125e-06, gamma=0.0001220703125, num_out_units=37; total time=   2.8s\n",
      "[CV] END C=1.9073486328125e-06, gamma=0.0001220703125, num_out_units=37; total time=   2.9s\n",
      "[CV] END C=1.9073486328125e-06, gamma=0.0001220703125, num_out_units=37; total time=   2.9s\n",
      "[CV] END C=1.9073486328125e-06, gamma=0.0001220703125, num_out_units=37; total time=   2.8s\n",
      "[CV] END C=1.9073486328125e-06, gamma=0.0001220703125, num_out_units=37; total time=   2.8s\n",
      "[CV] END C=1.9073486328125e-06, gamma=0.0001220703125, num_out_units=37; total time=   2.8s\n",
      "[CV] END C=1.9073486328125e-06, gamma=0.0001220703125, num_out_units=37; total time=   2.9s\n",
      "[CV] END C=1.9073486328125e-06, gamma=0.0001220703125, num_out_units=37; total time=   2.7s\n",
      "[CV] END C=1.9073486328125e-06, gamma=0.0001220703125, num_out_units=37; total time=   2.6s\n",
      "[CV] END C=1.9073486328125e-06, gamma=0.0001220703125, num_out_units=37; total time=   1.9s\n",
      "Best params:  {'num_out_units': 37, 'gamma': 0.5, 'C': 4}\n"
     ]
    },
    {
     "data": {
      "image/png": "[encoded data removed]",
      "text/plain": [
       "<Figure size 800x600 with 1 Axes>"
      ]
     },
     "metadata": {},
     "output_type": "display_data"
    },
    {
     "data": {
      "image/png": "[encoded data removed]",
      "text/plain": [
       "<Figure size 800x600 with 1 Axes>"
      ]
     },
     "metadata": {},
     "output_type": "display_data"
    }
   ],
   "source": [
    "random_KELM = RandomizedSearchCV(KELM(), param_distributions=param_grid_KELM, n_iter=10, cv=10, verbose=2, n_jobs=4)\n",
    "random_KELM.fit(X_train, y_train)\n",
    "\n",
    "# Get the best parameters\n",
    "no, C, g = random_KELM.best_params_.values()\n",
    "print(\"Best params: \", random_KELM.best_params_)\n",
    "\n",
    "# Create accuracy plots for each hyperparameter\n",
    "hyperparameters = ['C', 'gamma']\n",
    "for param in hyperparameters:\n",
    "    # Get the values and corresponding mean test scores for the current hyperparameter\n",
    "    param_values = [params[param] for params in random_KELM.cv_results_['params']]\n",
    "    mean_test_scores = random_KELM.cv_results_['mean_test_score']\n",
    "    \n",
    "    # Plot the accuracy scores against the hyperparameter values\n",
    "    plt.figure(figsize=(8, 6))\n",
    "    plt.plot(param_values, mean_test_scores, 'o-')\n",
    "    plt.xlabel(param)\n",
    "    plt.ylabel('Accuracy')\n",
    "    plt.title(f'Accuracy vs {param}')\n",
    "    plt.grid(True)\n",
    "    plt.show()\n"
   ]
  },
  {
   "cell_type": "code",
   "execution_count": 2,
   "metadata": {},
   "outputs": [
    {
     "ename": "NameError",
     "evalue": "name 'ELM' is not defined",
     "output_type": "error",
     "traceback": [
      "\u001b[0;31m---------------------------------------------------------------------------\u001b[0m",
      "\u001b[0;31mNameError\u001b[0m                                 Traceback (most recent call last)",
      "Cell \u001b[0;32mIn[2], line 1\u001b[0m\n\u001b[0;32m----> 1\u001b[0m ELM_basic_bic \u001b[38;5;241m=\u001b[39m \u001b[43mELM\u001b[49m(\u001b[38;5;241m41\u001b[39m, \u001b[38;5;241m2\u001b[39m, \u001b[38;5;241m400\u001b[39m, param_C\u001b[38;5;241m=\u001b[39m\u001b[38;5;241m2\u001b[39m)\n\u001b[1;32m      2\u001b[0m ELM_basic_multic \u001b[38;5;241m=\u001b[39m ELM(\u001b[38;5;241m41\u001b[39m, \u001b[38;5;241m23\u001b[39m, \u001b[38;5;241m400\u001b[39m, param_C\u001b[38;5;241m=\u001b[39m\u001b[38;5;241m2\u001b[39m)\n\u001b[1;32m      3\u001b[0m ELM_kernel_bic \u001b[38;5;241m=\u001b[39m KELM(\u001b[38;5;241m41\u001b[39m, \u001b[38;5;241m2\u001b[39m, param_C\u001b[38;5;241m=\u001b[39mC, gamma\u001b[38;5;241m=\u001b[39mg) \u001b[38;5;66;03m#find C and gamma as in SVM block?\u001b[39;00m\n",
      "\u001b[0;31mNameError\u001b[0m: name 'ELM' is not defined"
     ]
    }
   ],
   "source": [
    "ELM_basic_bic = ELM(41, 2, 400, param_C=2)\n",
    "ELM_basic_multic = ELM(41, 23, 400, param_C=2) #paper uses C=2 for basic ELM\n",
    "\n",
    "#ELM_kernel_bic = KELM(41, 2, param_C=C, gamma=g)\n",
    "#ELM_kernel_multic = KELM(41, 23, param_C=C, gamma=g)\n",
    "\n",
    "# SVM_classifier = SVC(kernel='rbf', C=C, gamma=g)\n",
    "#SVM_multic = OneVsOneClassifier(SVC(kernel='rbf', C=C, gamma=g))"
   ]
  },
  {
   "cell_type": "code",
   "execution_count": null,
   "metadata": {},
   "outputs": [],
   "source": []
  }
 ],
 "metadata": {
  "kernelspec": {
   "display_name": "elmfored-KiYbWeOY-py3.10",
   "language": "python",
   "name": "python3"
  },
  "language_info": {
   "codemirror_mode": {
    "name": "ipython",
    "version": 3
   },
   "file_extension": ".py",
   "mimetype": "text/x-python",
   "name": "python",
   "nbconvert_exporter": "python",
   "pygments_lexer": "ipython3",
   "version": "3.10.12"
  }
 },
 "nbformat": 4,
 "nbformat_minor": 2
}
