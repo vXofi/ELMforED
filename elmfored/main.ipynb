{
 "cells": [
  {
   "cell_type": "code",
   "execution_count": null,
   "metadata": {},
   "outputs": [],
   "source": [
    "import numpy as np\n",
    "import pandas as pd\n",
    "from matplotlib import pyplot as plt\n",
    "from sklearn.preprocessing import StandardScaler\n",
    "from numpy.linalg import inv, pinv\n",
    "from sklearn.metrics import r2_score, mean_absolute_error"
   ]
  },
  {
   "cell_type": "code",
   "execution_count": null,
   "metadata": {},
   "outputs": [],
   "source": [
    "file_path = 'D:\\VSCODE\\PyPrograms\\ELM2\\os-elm\\data\\nyc_taxi.csv'\n",
    "url = 'https://raw.githubusercontent.com/alexeynau/os-elm/main/data/nyc_taxi.csv'\n",
    "df = pd.read_csv(url)\n",
    "df.head(5)"
   ]
  },
  {
   "cell_type": "code",
   "execution_count": null,
   "metadata": {},
   "outputs": [],
   "source": [
    "stdSeq = float(np.std(df[['value']]))\n",
    "meanSeq = float(np.mean(df['value']))\n",
    "print(f'std: {stdSeq}, mean {meanSeq}')\n",
    "df['z-scaled'] = StandardScaler().fit_transform(df[['value']])\n",
    "df.head(5)"
   ]
  },
  {
   "cell_type": "code",
   "execution_count": null,
   "metadata": {},
   "outputs": [],
   "source": [
    "class OSELM:\n",
    "    def __init__(self, nInputs, nOutputs, numHiddenNeurons, forgettingFactor=1, gamma = 0.0001):\n",
    "\n",
    "        self.numHiddenNeurons = numHiddenNeurons\n",
    "        self.lamb = forgettingFactor\n",
    "\n",
    "        # Веса и смещение выбираются случайным образом в интервале [-1; 1]\n",
    "        self.alpha = np.random.random((self.numHiddenNeurons, nInputs)) * 2 - 1 \n",
    "        self.bias = np.random.random((1, self.numHiddenNeurons)) * 2 - 1\n",
    "\n",
    "        self.beta = np.zeros((self.numHiddenNeurons, nOutputs)) # Формула 9\n",
    "        self.P = inv(gamma*np.eye(self.numHiddenNeurons)) # Формула 9\n",
    "\n",
    "\n",
    "    def compute_h(self, features):       \n",
    "        return self.sigmoid(features @ self.alpha.T  + self.bias)\n",
    "\n",
    "\n",
    "    def sigmoid(self, features):\n",
    "        return 1.0 / (1.0 + np.exp(-features))\n",
    "\n",
    "\n",
    "    def fit(self, features, targets):\n",
    "        features = np.array(features)\n",
    "        targets = np.array(targets)\n",
    "    \n",
    "        H = self.compute_h(features)\n",
    "\n",
    "        k = 1/self.lamb\n",
    "        self.P = k * self.P - self.P @ H.T @ pinv(self.lamb**2 + self.lamb * H @ self.P @ H.T) @ H @ self.P # Формула 12\n",
    "\n",
    "        self.beta = self.beta + self.P @ H.T @ (targets - H @ self.beta) # Формула 10\n",
    "  \n",
    "    def predict(self, features):\n",
    "        H = self.compute_h(features)\n",
    "        prediction = H @ self.beta # Формула 2\n",
    "        return prediction"
   ]
  },
  {
   "cell_type": "code",
   "execution_count": null,
   "metadata": {},
   "outputs": [],
   "source": [
    "predictions = []\n",
    "targets = Y[:-1]\n",
    "oselm = OSELM(100, 1, 100, forgettingFactor=0.996)\n",
    "for i in range(len(df)-101):\n",
    "    oselm.fit(X[i], Y[i])\n",
    "    prediction = oselm.predict(X[i+1])\n",
    "\n",
    "    predictions.append(prediction[0])"
   ]
  }
 ],
 "metadata": {
  "language_info": {
   "name": "python"
  }
 },
 "nbformat": 4,
 "nbformat_minor": 2
}
